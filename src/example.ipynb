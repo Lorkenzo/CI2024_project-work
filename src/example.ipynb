{
 "cells": [
  {
   "cell_type": "code",
   "execution_count": 318,
   "metadata": {},
   "outputs": [],
   "source": [
    "import numpy as np\n",
    "import random\n",
    "from dataclasses import dataclass"
   ]
  },
  {
   "cell_type": "code",
   "execution_count": 319,
   "metadata": {},
   "outputs": [
    {
     "name": "stdout",
     "output_type": "stream",
     "text": [
      "(2, 1000)\n",
      "(1000,)\n"
     ]
    }
   ],
   "source": [
    "problem = np.load('../data/problem_0.npz')\n",
    "x = problem['x']\n",
    "y = problem['y']\n",
    "print(x.shape)\n",
    "print(y.shape)\n",
    "PROBLEM_SIZE = x.shape[0]\n",
    "\n",
    "POPULATION_SIZE = PROBLEM_SIZE*10\n",
    "OFFSPRING_SIZE = int(POPULATION_SIZE*0.5)\n",
    "MAX_GENERATIONS = 4000\n",
    "\n"
   ]
  },
  {
   "cell_type": "code",
   "execution_count": 320,
   "metadata": {},
   "outputs": [],
   "source": [
    "rng = np.random.Generator(np.random.PCG64([POPULATION_SIZE, OFFSPRING_SIZE, MAX_GENERATIONS]))"
   ]
  },
  {
   "cell_type": "code",
   "execution_count": 321,
   "metadata": {},
   "outputs": [],
   "source": [
    "# Operators\n",
    "\n",
    "BINARY_OPERATORS = [\"+\", \"-\", \"*\", \"/\"]\n",
    "UNARY_OPERATORS = [\"sin\", \"cos\", \"exp\", \"log\"]"
   ]
  },
  {
   "cell_type": "code",
   "execution_count": 322,
   "metadata": {},
   "outputs": [],
   "source": [
    "@dataclass\n",
    "class Individual:\n",
    "    genome: list\n",
    "    fitness: float = None"
   ]
  },
  {
   "cell_type": "code",
   "execution_count": 323,
   "metadata": {},
   "outputs": [],
   "source": [
    "def compute_MSE(Y_pred, Y_real):\n",
    "    MSE = 100*np.square(Y_real-Y_pred).sum()/len(Y_real)\n",
    "    return MSE"
   ]
  },
  {
   "cell_type": "markdown",
   "metadata": {},
   "source": [
    "### Logic\n",
    "\n",
    "We have to find a combination of X with np operands that gives as result Y.\n",
    "Each formula will have the form: A * Op(X1) Op1 B * Op(X2) Op2 ... N * Op(Xn), where A, B, ..N are positive costants, Op(Xn) are unary operators, Opn binary operators \n",
    "\n",
    "Example of formula expression for 2 variable problem:\n",
    "[\"+\", \"1\", \"\", \"X_0\", \"+\", \"0.2\", \"sin\", \"X_1\"]"
   ]
  },
  {
   "cell_type": "code",
   "execution_count": 324,
   "metadata": {},
   "outputs": [],
   "source": [
    "def generate_individual():\n",
    "    individual = []\n",
    "    for n in range(PROBLEM_SIZE):\n",
    "       \n",
    "        bin_op = rng.choice(BINARY_OPERATORS,1) if n !=0 else rng.choice([\"+\",\"-\"],1)\n",
    "        individual.append(str(bin_op[0]))\n",
    "\n",
    "        costant = rng.random()/rng.random()*2\n",
    "        individual.append(costant)\n",
    "\n",
    "        unary_op = \"\" if rng.random() < 0.5 else str(rng.choice(UNARY_OPERATORS,1)[0])\n",
    "        individual.append(unary_op)\n",
    "\n",
    "        var = \"X_\" + str(n)\n",
    "        individual.append(var)\n",
    "    return individual"
   ]
  },
  {
   "cell_type": "code",
   "execution_count": 325,
   "metadata": {},
   "outputs": [
    {
     "data": {
      "text/plain": [
       "['+', 7.920473641255372, '', 'X_0', '*', 16.353317856466727, '', 'X_1']"
      ]
     },
     "execution_count": 325,
     "metadata": {},
     "output_type": "execute_result"
    }
   ],
   "source": [
    "POPULATION = [generate_individual() for _ in range(POPULATION_SIZE)]\n",
    "POPULATION[0]"
   ]
  }
 ],
 "metadata": {
  "kernelspec": {
   "display_name": "venv",
   "language": "python",
   "name": "python3"
  },
  "language_info": {
   "codemirror_mode": {
    "name": "ipython",
    "version": 3
   },
   "file_extension": ".py",
   "mimetype": "text/x-python",
   "name": "python",
   "nbconvert_exporter": "python",
   "pygments_lexer": "ipython3",
   "version": "3.9.13"
  }
 },
 "nbformat": 4,
 "nbformat_minor": 2
}
