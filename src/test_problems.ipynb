{
 "cells": [
  {
   "cell_type": "code",
   "execution_count": 81,
   "metadata": {},
   "outputs": [],
   "source": [
    "import numpy as np\n",
    "\n",
    "# Notez bien: No need to include f0 -- it's just an example!\n",
    "def f0(x: np.ndarray) -> np.ndarray:\n",
    "    return x[0] + np.sin(x[1]) / 5\n",
    "\n",
    "def f1(x: np.ndarray) -> np.ndarray: \n",
    "    return np.sin(x[0])\n",
    "\n",
    "def f2_tris(x: np.ndarray) -> np.ndarray:\n",
    "    return (((-(-905319.0352 * -0.6351 * x[2]) + (300479.1017 * -1.9078 * x[1])) * (-2.1573 * np.cos(0.4969 * x[0]))) - (-3006465.1912 * np.arctan(1.0854 * x[0])))\n",
    "\n",
    "def f3(x: np.ndarray) -> np.ndarray:\n",
    "    return (((-20.0212 * 1.3272 * x[1]) + (3.3548 * np.abs(2.5886 * x[0]))) + 2.232 * -1.552 * x[2]) + 51.5502 * np.sin(0.5656 * x[1])\n",
    "\n",
    "def f3_bis(x: np.ndarray) -> np.ndarray:\n",
    "    return ((((4.9127 * np.abs(1.7364 * x[0])) - (17.737 * 1.5036 * x[1])) - 2.9209 * 1.1914 * x[2]) + 5.0619 * np.cos(-1.3349 * x[0])) + 51.8489 * np.sin(0.5644 * x[1])\n",
    "\n",
    "def f3_tris(x: np.ndarray):\n",
    "    return ((((-(-3.3749 * np.abs(-1.1971 * x[0])) - (3.5346 * 0.9861 * x[2])) + (-33.613 * np.tan(0.26 * x[1]))) - (11.5919 * np.sin(-0.903 * x[1]))) + (2.25 * np.abs(-2.0634 * x[0])))\n",
    "\n",
    "def f4(x: np.ndarray) -> np.ndarray: \n",
    "    return (7.5182 * np.cos(x[1])) + (-0.5209 * np.cos(0.996 * x[1])) - (0.0912 * 0.996 * x[0]) + (3.2883 * np.cos(-0.0214 * x[1])) - (0.0326 * np.abs(-0.0382 * x[0]))\n",
    "\n",
    "def f4_bis(x: np.ndarray) -> np.ndarray: \n",
    "    return (((7 * np.cos(x[1])) + (3.2882 * np.cos(0.0193 * x[0]))) + (0.1038 * -0.8764 * x[0]))\n",
    "\n",
    "def f4_tris(x: np.ndarray) -> np.ndarray: \n",
    "    return ((-(0.1436 * 1.1837 * x[0]) - (-7 * np.cos(x[1]))) + (3.2686 * np.exp(0.0241 * x[0])))\n",
    "\n",
    "def f5(x: np.ndarray) -> np.ndarray:\n",
    "    return (((-8.6262e-10 * np.reciprocal(-0.1201 * x[0])) - (1.3410e-9 * np.abs(-0.8387 * x[1]))) / (1.5549 * np.reciprocal(0.2018 * x[0]))) / (1.5611 * np.reciprocal(0.9588 * x[1]))\n",
    "\n",
    "def f5_bis(x: np.ndarray) -> np.ndarray:\n",
    "    return (-1.4497 * np.abs(0.9473 * x[0])) * (-3.0541e-10 * np.tan(-0.2862 * x[1])) + 4.9253e-10 * np.sqrt(1.1638 * x[0])\n",
    "\n",
    "def f6(x: np.ndarray) -> np.ndarray:\n",
    "    return (1.2832 * 1.3207 * x[1]) - 0.4743 * 1.464 * x[0]\n",
    "\n",
    "def f6_bis(x: np.ndarray) -> np.ndarray:\n",
    "    return (-0.998 * -1.6973 * x[1]) - 0.5773 * 1.2028 * x[0]\n",
    "\n",
    "def f7(x: np.ndarray) -> np.ndarray:\n",
    "    return (((0.2858 * np.abs(1.9487 * x[0])) / (0.008 * np.sin(-1.274 * x[1]))) -57.7808 * 1.21 * x[0]) / (-7.5785 * np.reciprocal(x[1]))\n",
    "\n",
    "def f7_bis(x: np.ndarray) -> np.ndarray: \n",
    "    return (((((-0.0355 * np.exp(1.806 * x[1])) / (-0.2674 * np.exp(-2.0669 * x[0]))) - 4.2011 * 1.2848 * x[1]) + 6.3289 * np.exp(-1.0398 * x[0])) * 3.2817 * np.abs(-0.1631 * x[1]))\n",
    "\n",
    "def f5_tris(x):\n",
    "    return ((((-(8.1123e-10 * np.cos(0.5608 * x[1])) * (3.7141e-11 * np.exp(1.2721 * x[0]))) * (1.9054e-11 * np.arctan(0.333 * x[0]))) / (9.1444e-10 * np.exp(-0.9812 * x[1]))) / (-3.1266e-10 * 1.0488 * x[0]))\n",
    "\n",
    "def f8(x: np.ndarray) -> np.ndarray: ...\n",
    "\n",
    "def f(x):\n",
    "    return 0"
   ]
  },
  {
   "cell_type": "code",
   "execution_count": 82,
   "metadata": {},
   "outputs": [],
   "source": [
    "def compute_MSE(Y_pred, Y_real):\n",
    "    \n",
    "    MSE = 100*np.square(Y_real-Y_pred).sum()/len(Y_real)\n",
    "    return MSE"
   ]
  },
  {
   "cell_type": "code",
   "execution_count": 83,
   "metadata": {},
   "outputs": [],
   "source": [
    "problem = np.load('../data/problem_2.npz')\n",
    "X = problem['x']\n",
    "Y = problem['y']"
   ]
  },
  {
   "cell_type": "code",
   "execution_count": 84,
   "metadata": {},
   "outputs": [
    {
     "name": "stdout",
     "output_type": "stream",
     "text": [
      "790737672551956.1\n"
     ]
    },
    {
     "ename": "TypeError",
     "evalue": "unsupported operand type(s) for -: 'float' and 'NoneType'",
     "output_type": "error",
     "traceback": [
      "\u001b[1;31m---------------------------------------------------------------------------\u001b[0m",
      "\u001b[1;31mTypeError\u001b[0m                                 Traceback (most recent call last)",
      "Cell \u001b[1;32mIn[84], line 3\u001b[0m\n\u001b[0;32m      1\u001b[0m mse \u001b[38;5;241m=\u001b[39m compute_MSE(f2_tris(X),Y)\n\u001b[0;32m      2\u001b[0m \u001b[38;5;28mprint\u001b[39m(mse)\n\u001b[1;32m----> 3\u001b[0m mse \u001b[38;5;241m=\u001b[39m \u001b[43mcompute_MSE\u001b[49m\u001b[43m(\u001b[49m\u001b[43mf2\u001b[49m\u001b[43m(\u001b[49m\u001b[43mX\u001b[49m\u001b[43m)\u001b[49m\u001b[43m,\u001b[49m\u001b[43mY\u001b[49m\u001b[43m)\u001b[49m\n\u001b[0;32m      4\u001b[0m \u001b[38;5;28mprint\u001b[39m(mse)\n\u001b[0;32m      5\u001b[0m mse \u001b[38;5;241m=\u001b[39m compute_MSE(f2(X),Y)\n",
      "Cell \u001b[1;32mIn[82], line 3\u001b[0m, in \u001b[0;36mcompute_MSE\u001b[1;34m(Y_pred, Y_real)\u001b[0m\n\u001b[0;32m      1\u001b[0m \u001b[38;5;28;01mdef\u001b[39;00m \u001b[38;5;21mcompute_MSE\u001b[39m(Y_pred, Y_real):\n\u001b[1;32m----> 3\u001b[0m     MSE \u001b[38;5;241m=\u001b[39m \u001b[38;5;241m100\u001b[39m\u001b[38;5;241m*\u001b[39mnp\u001b[38;5;241m.\u001b[39msquare(\u001b[43mY_real\u001b[49m\u001b[38;5;241;43m-\u001b[39;49m\u001b[43mY_pred\u001b[49m)\u001b[38;5;241m.\u001b[39msum()\u001b[38;5;241m/\u001b[39m\u001b[38;5;28mlen\u001b[39m(Y_real)\n\u001b[0;32m      4\u001b[0m     \u001b[38;5;28;01mreturn\u001b[39;00m MSE\n",
      "\u001b[1;31mTypeError\u001b[0m: unsupported operand type(s) for -: 'float' and 'NoneType'"
     ]
    }
   ],
   "source": [
    "mse = compute_MSE(f2_tris(X),Y)\n",
    "print(mse)\n",
    "mse = compute_MSE(f2(X),Y)\n",
    "print(mse)\n",
    "mse = compute_MSE(f2(X),Y)\n",
    "print(mse)\n",
    "\n",
    "count_right_sign = np.sum((f5_tris(X) > 0) == (Y > 0))\n",
    "print(count_right_sign)"
   ]
  }
 ],
 "metadata": {
  "kernelspec": {
   "display_name": "CI2024_lab1",
   "language": "python",
   "name": "python3"
  },
  "language_info": {
   "codemirror_mode": {
    "name": "ipython",
    "version": 3
   },
   "file_extension": ".py",
   "mimetype": "text/x-python",
   "name": "python",
   "nbconvert_exporter": "python",
   "pygments_lexer": "ipython3",
   "version": "3.9.13"
  }
 },
 "nbformat": 4,
 "nbformat_minor": 2
}
