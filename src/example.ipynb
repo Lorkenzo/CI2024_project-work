{
 "cells": [
  {
   "cell_type": "code",
   "execution_count": 670,
   "metadata": {},
   "outputs": [],
   "source": [
    "import numpy as np\n",
    "import random\n",
    "from dataclasses import dataclass\n",
    "from tqdm.auto import tqdm"
   ]
  },
  {
   "cell_type": "code",
   "execution_count": 671,
   "metadata": {},
   "outputs": [
    {
     "name": "stdout",
     "output_type": "stream",
     "text": [
      "(1, 500)\n",
      "(500,)\n"
     ]
    }
   ],
   "source": [
    "problem = np.load('../data/problem_1.npz')\n",
    "x = problem['x']\n",
    "y = problem['y']\n",
    "print(x.shape)\n",
    "print(y.shape)\n",
    "PROBLEM_SIZE = x.shape[0]\n",
    "\n",
    "POPULATION_SIZE = PROBLEM_SIZE*10\n",
    "OFFSPRING_SIZE = int(POPULATION_SIZE*0.5)\n",
    "MAX_GENERATIONS = 50"
   ]
  },
  {
   "cell_type": "code",
   "execution_count": 672,
   "metadata": {},
   "outputs": [],
   "source": [
    "rng = np.random.Generator(np.random.PCG64([POPULATION_SIZE, OFFSPRING_SIZE, MAX_GENERATIONS]))"
   ]
  },
  {
   "cell_type": "code",
   "execution_count": 673,
   "metadata": {},
   "outputs": [],
   "source": [
    "# Operators\n",
    "\n",
    "BINARY_OPERATORS = [\"+\", \"-\", \"*\", \"/\"]\n",
    "UNARY_OPERATORS = [\"sin\", \"cos\", \"exp\", \"log\"]\n",
    "VARIABLES = [\"X_\"+str(i) for i in range(PROBLEM_SIZE)]"
   ]
  },
  {
   "cell_type": "code",
   "execution_count": 674,
   "metadata": {},
   "outputs": [],
   "source": [
    "@dataclass\n",
    "class Individual:\n",
    "    genome: list\n",
    "    fitness: float = None"
   ]
  },
  {
   "cell_type": "code",
   "execution_count": 675,
   "metadata": {},
   "outputs": [],
   "source": [
    "def compute_MSE(Y_pred, Y_real):\n",
    "    MSE = 100*np.square(Y_real-Y_pred).sum()/len(Y_real)\n",
    "    return MSE"
   ]
  },
  {
   "cell_type": "markdown",
   "metadata": {},
   "source": [
    "### Logic\n",
    "\n",
    "We have to find a combination of X with np operands that gives as result Y.\n",
    "Each formula will have the form: A * Op(X1) Op1 B * Op(X2) Op2 ... N * Op(Xn), where A, B, ..N are positive costants, Op(Xn) are unary operators, Opn binary operators \n",
    "\n",
    "Example of formula expression for 2 variable problem:\n",
    "[\"1\", \"\", \"X_0\", \"+\", \"0.2\", \"sin\", \"X_1\", \"+\"]"
   ]
  },
  {
   "cell_type": "code",
   "execution_count": 676,
   "metadata": {},
   "outputs": [],
   "source": [
    "def compute_FX(F,X)->np.ndarray:\n",
    "    \n",
    "    def solve_row(row):\n",
    "        Y_i = 0\n",
    "        Term_i = 0\n",
    "        last_unary = \"\"\n",
    "        for token in F:\n",
    "            if token in BINARY_OPERATORS:\n",
    "                Y_i = eval(f\"Y_i {token} Term_i\") if Term_i !=0 else Y_i\n",
    "\n",
    "            elif token in UNARY_OPERATORS + [\"\"]:\n",
    "                last_unary = token\n",
    "\n",
    "            elif token in VARIABLES:\n",
    "                idx = int(token.split(\"_\")[1])\n",
    "                if last_unary == \"\":\n",
    "                    Term_i *= X[idx,row]\n",
    "                else:\n",
    "                    Term_i *= getattr(np, last_unary)(X[idx,row] if last_unary!= \"log\" else np.abs(X[idx,row]))\n",
    "            else:\n",
    "                Term_i += float(token)\n",
    "        return Y_i \n",
    "\n",
    "    Y_pred = [solve_row(i) for i in range(x.shape[1])]\n",
    "    mse = compute_MSE(Y_pred,y)\n",
    "    return mse"
   ]
  },
  {
   "cell_type": "code",
   "execution_count": 677,
   "metadata": {},
   "outputs": [],
   "source": [
    "def generate_individual()->Individual:\n",
    "    individual_gen = []\n",
    "    for n in range(PROBLEM_SIZE):\n",
    "       \n",
    "        costant = (np.mean(y)/(np.mean(x,1)*PROBLEM_SIZE))[0]\n",
    "        individual_gen.append(costant)\n",
    "\n",
    "        unary_op = \"\" if rng.random() < 0.5 else str(rng.choice(UNARY_OPERATORS,1)[0])\n",
    "        individual_gen.append(unary_op)\n",
    "\n",
    "        var = \"X_\" + str(n)\n",
    "        individual_gen.append(var)\n",
    "\n",
    "        bin_op = rng.choice(BINARY_OPERATORS,1) if n !=0 else rng.choice([\"+\",\"-\"],1)\n",
    "        individual_gen.append(str(bin_op[0]))\n",
    "        \n",
    "    return Individual(individual_gen,compute_FX(individual_gen,x))"
   ]
  },
  {
   "cell_type": "code",
   "execution_count": 678,
   "metadata": {},
   "outputs": [],
   "source": [
    "def parent_selection(population):\n",
    "    candidates = sorted(rng.choice(population,4), key=lambda e: e.fitness)\n",
    "    return rng.choice(candidates,2)"
   ]
  },
  {
   "cell_type": "code",
   "execution_count": 679,
   "metadata": {},
   "outputs": [],
   "source": [
    "def xover(p1:Individual,p2:Individual)->Individual:\n",
    "    ''' Exchange terms between two individuals'''\n",
    "\n",
    "    # Divide genomes for each parent in the terms of the formula\n",
    "    blocks1 = [p1.genome[i:i+4] for i in range(0, len(p1.genome), 4)]\n",
    "    blocks2 = [p2.genome[i:i+4] for i in range(0, len(p2.genome), 4)]\n",
    "\n",
    "    # Choose N random Terms to switch\n",
    "    xover_blocks = rng.choice(range(len(blocks1)),rng.integers(0,len(blocks1)))\n",
    "\n",
    "    # Exchange terms\n",
    "    for b_i in xover_blocks:\n",
    "        blocks1[b_i] = blocks2[b_i]\n",
    "\n",
    "    # Rebuild genome\n",
    "    child_genome = [elem for block in blocks1 for elem in block]\n",
    "\n",
    "    return Individual(child_genome)"
   ]
  },
  {
   "cell_type": "code",
   "execution_count": 680,
   "metadata": {},
   "outputs": [],
   "source": [
    "def mutation(p:Individual)->Individual:\n",
    "    ''' Mutate terms of one individual'''\n",
    "\n",
    "    # Divide genome in the terms of the formula\n",
    "    blocks = [p.genome[i:i+4] for i in range(0, len(p.genome), 4)]\n",
    "    \n",
    "    # Choose N random Terms to mutate\n",
    "    mutate_blocks = rng.choice(range(len(blocks)),rng.integers(0,len(blocks)))\n",
    "\n",
    "    for b_i in mutate_blocks:\n",
    "        # Choose between the elements what to mutate \n",
    "        elems = rng.choice(range(4),rng.integers(0,4))\n",
    "\n",
    "        for e_i in elems:\n",
    "            if e_i == 0:\n",
    "                blocks[b_i][e_i] = blocks[b_i][e_i] + blocks[b_i][e_i]*0.01 if rng.random()<0.5 else blocks[b_i][e_i] - blocks[b_i][e_i]*0.01\n",
    "            elif e_i == 1:\n",
    "                new_unary_op = \"\" if rng.random() < 0.5 else str(rng.choice(UNARY_OPERATORS,1)[0])\n",
    "                blocks[b_i][e_i] = new_unary_op\n",
    "            elif e_i == 3:\n",
    "                new_bin_op = rng.choice(BINARY_OPERATORS,1) if b_i !=0 else rng.choice([\"+\",\"-\"],1)\n",
    "                blocks[b_i][e_i] = str(new_bin_op[0])  \n",
    "            else:\n",
    "                continue\n",
    "    \n",
    "    child_genome = [elem for block in blocks for elem in block]\n",
    "    return Individual(child_genome)"
   ]
  },
  {
   "cell_type": "code",
   "execution_count": 681,
   "metadata": {},
   "outputs": [],
   "source": [
    "def EA_resolution(population):\n",
    "    for _ in tqdm(range(MAX_GENERATIONS)):\n",
    "        offspring = list()\n",
    "\n",
    "        for _ in range(OFFSPRING_SIZE):\n",
    "            \n",
    "            p1,p2 = parent_selection(population[:int(POPULATION_SIZE/2)])\n",
    "            \n",
    "            if rng.random() <0.5:\n",
    "                o = xover(p1,p2)\n",
    "            else:\n",
    "                o = mutation(p1)\n",
    "\n",
    "            offspring.append(o)\n",
    "\n",
    "        for i in offspring:\n",
    "            i.fitness = compute_FX(i.genome,x)\n",
    "\n",
    "        population.extend(offspring)\n",
    "        population.sort(key=lambda i: i.fitness)\n",
    "        population = population[:POPULATION_SIZE]\n",
    "\n",
    "    return population[0]"
   ]
  },
  {
   "cell_type": "code",
   "execution_count": 682,
   "metadata": {},
   "outputs": [
    {
     "name": "stderr",
     "output_type": "stream",
     "text": [
      "100%|██████████| 50/50 [00:10<00:00,  4.61it/s]"
     ]
    },
    {
     "name": "stdout",
     "output_type": "stream",
     "text": [
      "Individual(genome=[np.float64(0.9718797984090422), 'sin', 'X_0', '+'], fitness=np.float64(0.02011294545641478))\n"
     ]
    },
    {
     "name": "stderr",
     "output_type": "stream",
     "text": [
      "\n"
     ]
    }
   ],
   "source": [
    "POPULATION = [generate_individual() for _ in range(POPULATION_SIZE)]\n",
    "winner = EA_resolution(POPULATION)\n",
    "print(winner)"
   ]
  }
 ],
 "metadata": {
  "kernelspec": {
   "display_name": "venv",
   "language": "python",
   "name": "python3"
  },
  "language_info": {
   "codemirror_mode": {
    "name": "ipython",
    "version": 3
   },
   "file_extension": ".py",
   "mimetype": "text/x-python",
   "name": "python",
   "nbconvert_exporter": "python",
   "pygments_lexer": "ipython3",
   "version": "3.9.13"
  }
 },
 "nbformat": 4,
 "nbformat_minor": 2
}
