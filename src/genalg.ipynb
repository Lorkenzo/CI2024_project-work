{
 "cells": [
  {
   "cell_type": "code",
   "execution_count": 1396,
   "metadata": {},
   "outputs": [],
   "source": [
    "import numpy as np\n",
    "import random\n",
    "from dataclasses import dataclass\n",
    "from tqdm.auto import tqdm\n",
    "from typing import List\n",
    "import itertools\n",
    "None"
   ]
  },
  {
   "cell_type": "code",
   "execution_count": 1397,
   "metadata": {},
   "outputs": [
    {
     "name": "stdout",
     "output_type": "stream",
     "text": [
      "(2, 5000)\n",
      "(5000,)\n",
      "[0.19267392 1.98111504]\n",
      "4.886874543831234\n"
     ]
    }
   ],
   "source": [
    "problem = np.load('../data/problem_7.npz')\n",
    "X = problem['x']\n",
    "Y = problem['y']\n",
    "\n",
    "DATA = X\n",
    "LABELS = Y\n",
    "\n",
    "print(DATA.shape)\n",
    "print(LABELS.shape)\n",
    "print(DATA[:,0])\n",
    "print(LABELS[0])\n",
    "PROBLEM_SIZE = DATA.shape[0]\n",
    "\n",
    "NUM_TOURNAMENTS = PROBLEM_SIZE*20\n",
    "if NUM_TOURNAMENTS == 0:\n",
    "    NUM_TOURNAMENTS= 1\n",
    "    \n",
    "POPULATION_SIZE = PROBLEM_SIZE*20*NUM_TOURNAMENTS\n",
    "OFFSPRING_SIZE = int((POPULATION_SIZE//NUM_TOURNAMENTS)*0.8)\n",
    "MAX_GENERATIONS = 4000\n",
    "\n",
    "TOURNAMENT_GENERATIONS = 50\n",
    "INCREASE_COMPLEXITY_STEP = 500\n",
    "# Problem size can be maximum 3 terms more then starting complexity\n",
    "PROBLEM_COMPLEXITIES = [PROBLEM_SIZE+i for i in range(5)]\n",
    "# higher complexity is less probable to be initially generated\n",
    "PROBLEM_COMPLEXITIES_WEIGHTS = [PROBLEM_COMPLEXITIES[len(PROBLEM_COMPLEXITIES)-i-1]/sum(PROBLEM_COMPLEXITIES) for i in range(len(PROBLEM_COMPLEXITIES))]"
   ]
  },
  {
   "cell_type": "code",
   "execution_count": 1398,
   "metadata": {},
   "outputs": [],
   "source": [
    "rng = np.random.Generator(np.random.PCG64(42))"
   ]
  },
  {
   "cell_type": "code",
   "execution_count": 1399,
   "metadata": {},
   "outputs": [],
   "source": [
    "# Operators\n",
    "\n",
    "BINARY_OPERATORS = [\"+\", \"-\", \"*\", \"/\"]\n",
    "UNARY_OPERATORS = [\"sin\", \"cos\",\"tan\", \"exp\", \"log\",\"arcsin\",\"arccos\",\"arctan\",\"sqrt\",\"abs\",\"reciprocal\"]\n",
    "VARIABLES = [\"X_\"+str(i) for i in range(PROBLEM_SIZE)]\n",
    "VARIABLES_WEIGHTS = [[1/len(VARIABLES) for _ in range(len(VARIABLES))]]\n",
    "VARIABLES_MAP = {var: i for i,var in enumerate(VARIABLES)}"
   ]
  },
  {
   "cell_type": "code",
   "execution_count": 1400,
   "metadata": {},
   "outputs": [],
   "source": [
    "@dataclass\n",
    "class Individual:\n",
    "    genome: list\n",
    "    fitness: tuple"
   ]
  },
  {
   "cell_type": "code",
   "execution_count": 1401,
   "metadata": {},
   "outputs": [],
   "source": [
    "def compute_MSE(Y_pred, Y_real):\n",
    "    \n",
    "    MSE = 100*np.square(Y_real-Y_pred).sum()/len(Y_real)\n",
    "    return MSE"
   ]
  },
  {
   "cell_type": "code",
   "execution_count": 1402,
   "metadata": {},
   "outputs": [],
   "source": [
    "def compute_unary_weights(unary_operators,j,x,y):\n",
    "    \"\"\"\n",
    "    Compute unary operators weights depending on functions dominion and relation between input and output\n",
    "    \"\"\"\n",
    "    W = {op: 0 for op in unary_operators}\n",
    "\n",
    "    # Funzioni di dominio\n",
    "    def is_valid_tan(x,curr):\n",
    "        return np.abs(np.cos(x)) > 1e-9 and curr != -1\n",
    "\n",
    "    def is_valid_log(x,curr):\n",
    "        return x > 0 and curr != -1\n",
    "\n",
    "    def is_valid_sqrt(x,curr):\n",
    "        return x >= 0 and curr != -1\n",
    "    \n",
    "    def is_valid_reciprocal(x,curr):\n",
    "        return x !=0 and curr != -1\n",
    "\n",
    "    def is_valid_arcsin_arccos(x,curr):\n",
    "        return -1 <= x <= 1 and curr != -1\n",
    "\n",
    "    for i in range(x.shape[1]):  # Per ogni riga di x\n",
    "        curr_x = x[j, i]\n",
    "        curr_y = y[i]\n",
    "\n",
    "        for op in unary_operators:\n",
    "            if op == \"sin\" or op == \"cos\":\n",
    "                if np.abs(curr_y) > 100:\n",
    "                    W[op] += 2\n",
    "                elif -1 <= curr_y <= 1:\n",
    "                    W[op] += 3 \n",
    "                else:\n",
    "                    W[op] += 2\n",
    "\n",
    "            elif op == \"tan\":\n",
    "                if is_valid_tan(curr_x, W[op]):\n",
    "                    if np.abs(curr_y) > 100:\n",
    "                        W[op] += 3 \n",
    "                    else:\n",
    "                        W[op] += 2\n",
    "                else:\n",
    "                    W[op] = -1\n",
    "                                \n",
    "            elif op == \"exp\":\n",
    "                if curr_y < 0 and curr_x<0:\n",
    "                    W[op] +=1 \n",
    "                elif np.abs(curr_y) > 100 * np.abs(curr_x):\n",
    "                    W[op] += 3 \n",
    "                else:\n",
    "                    W[op] += 2\n",
    "\n",
    "            elif op == \"log\":\n",
    "                if is_valid_log(curr_x, W[op]):\n",
    "                    if curr_x < 1 and curr_y < 0:\n",
    "                        W[op] += 3 \n",
    "                    elif curr_y < curr_x:\n",
    "                        W[op] += 2 \n",
    "                    else:\n",
    "                        W[op] += 1\n",
    "                else:\n",
    "                    W[op] = -1\n",
    "\n",
    "            elif op == \"arcsin\" or op == \"arccos\":\n",
    "                if is_valid_arcsin_arccos(curr_x, W[op]):\n",
    "                    if -np.pi/2 <= curr_y <= np.pi/2:\n",
    "                        W[op] += 3\n",
    "                    else:\n",
    "                        W[op] += 1\n",
    "                else:\n",
    "                    W[op] = -1\n",
    "\n",
    "            elif op == \"arctan\":\n",
    "                if -np.pi/2 <= curr_y <= np.pi/2:\n",
    "                    W[op] += 3 \n",
    "                else:\n",
    "                    W[op] += 2\n",
    "\n",
    "            elif op == \"sqrt\":\n",
    "                if is_valid_sqrt(curr_x, W[op]):\n",
    "                    if curr_y <= curr_x:\n",
    "                        W[op] += 3  # lower input\n",
    "                    else:\n",
    "                        W[op] += 1\n",
    "                else:\n",
    "                    W[op] = -1\n",
    "            elif op == \"abs\":\n",
    "                if curr_y >0 and curr_x <0: \n",
    "                    W[op] += 2\n",
    "                else:\n",
    "                    W[op] += 1\n",
    "            elif op == \"reciprocal\":\n",
    "                if is_valid_reciprocal(curr_x, W[op]):\n",
    "                    if  0< np.abs(curr_x) < 1 and np.abs(curr_y) > 1:\n",
    "                        W[op] += 3  # lower input\n",
    "                    else:\n",
    "                        W[op] += 1\n",
    "                else:\n",
    "                    W[op] = -1\n",
    "\n",
    "    # Normalize weights\n",
    "    WArray = [W[op] if W[op] != -1 else 0 for op in unary_operators]\n",
    "    \n",
    "    tot_sum = np.sum(WArray)\n",
    "    if tot_sum > 0: \n",
    "        WArray = [float(w / tot_sum) for w in WArray]\n",
    "\n",
    "    return WArray\n"
   ]
  },
  {
   "cell_type": "code",
   "execution_count": 1403,
   "metadata": {},
   "outputs": [],
   "source": [
    "UNARY_OPERATORS_WEIGHTS = [compute_unary_weights(UNARY_OPERATORS,i,DATA,LABELS) for i in range(PROBLEM_SIZE)]\n",
    "UNARY_OPERATORS_MAP = {op: i for i,op in enumerate(UNARY_OPERATORS)}\n",
    "BINARY_OPERATORS_WEIGHTS = [[1/len(BINARY_OPERATORS) for _ in BINARY_OPERATORS] for _ in range(PROBLEM_SIZE)]\n",
    "BINARY_OPERATORS_MAP = {op: i for i,op in enumerate(BINARY_OPERATORS)}"
   ]
  },
  {
   "cell_type": "markdown",
   "metadata": {},
   "source": [
    "### Genetic Program Logic\n",
    "\n",
    "We have to find a combination of X (numpy array for data of size (n,m)) with numpy operands that gives as result Y (numpy array for labels of size (m,)). <br>\n",
    "Each formula (genome) will have the form: \n",
    "<br><br>\n",
    "_0 Opb,1 A * Opu,1(X1*Av) Opb,2 B * Opu,2(X2*Bv) ... Opb,i I * Opu,i(Xi*Iv) ...Opb,n N * Opu,n(Xn*Nv)_\n",
    "\n",
    "- n: Problem size\n",
    "- Xi: Variable of col i for each row data sample\n",
    "- A, B, ..I, ..N: costants positive or negative that works as weights for the single term\n",
    "- Av, Bv, ..Iv, ..Nv: positive constants that wights only the single variable \n",
    "- Opu,n(..): unary operators for one variable\n",
    "- Opb,n: binary operators between two terms\n",
    "\n",
    "If the fitness doesn't improve for a fixed number of generation a generic term is added, increasing the complexity to _(prev_n + 1)_ \n",
    "\n",
    "Example of formula expression for 2 variable problem:\n",
    "[\"1\", \"\", \"1\", \"X_0\", \"+\", \"0.2\", \"sin\",\"1\", \"X_1\", \"+\"]"
   ]
  },
  {
   "cell_type": "code",
   "execution_count": 1404,
   "metadata": {},
   "outputs": [],
   "source": [
    "UNARY_OPERATIONS = {\n",
    "        \"\": lambda x: x,\n",
    "        \"sin\": np.sin,\n",
    "        \"cos\": np.cos,\n",
    "        \"tan\":np.tan,\n",
    "        \"log\": np.log,\n",
    "        \"exp\": np.exp,\n",
    "        \"arccos\": np.arccos,\n",
    "        \"arcsin\":np.arcsin,\n",
    "        \"arctan\":np.arctan,\n",
    "        \"sqrt\":np.sqrt,\n",
    "        \"abs\":np.abs,\n",
    "        \"reciprocal\":np.reciprocal\n",
    "    }"
   ]
  },
  {
   "cell_type": "code",
   "execution_count": 1405,
   "metadata": {},
   "outputs": [],
   "source": [
    "def compute_FX(F, X, Y):\n",
    "    # Number of terms\n",
    "    num_terms = len(F) // 5\n",
    "\n",
    "    # Pre-compute fixed F values\n",
    "    coefficients = np.array([float(F[5 * i]) for i in range(num_terms)])\n",
    "    variable_costs = np.array([float(F[2 + 5 * i]) for i in range(num_terms)])\n",
    "    columns = np.array([int(F[3 + 5 * i].split(\"_\")[1]) for i in range(num_terms)])\n",
    "    operations = [F[1 + 5 * i] for i in range(num_terms)]\n",
    "    operators = [F[4 + 5 * i] for i in range(num_terms)]\n",
    "\n",
    "    # Map unary operations\n",
    "    unary_funcs = [UNARY_OPERATIONS[op] for op in operations]\n",
    "\n",
    "    # Extract the specific columns from X and apply variable costs\n",
    "    X_selected = X[columns, :]  # Shape: (num_terms, num_rows)\n",
    "    X_transformed = X_selected * variable_costs[:, np.newaxis]  # Broadcasting\n",
    "\n",
    "    # Apply unary functions (broadcasting over rows)\n",
    "    for i, func in enumerate(unary_funcs):\n",
    "        X_transformed[i, :] = func(X_transformed[i, :])\n",
    "\n",
    "    # Multiply by coefficients\n",
    "    T = coefficients[:, np.newaxis] * X_transformed  # Shape: (num_terms, num_rows)\n",
    "\n",
    "    # Apply the operators\n",
    "    Y_pred = np.zeros(X.shape[1])\n",
    "    for i, op in enumerate(operators):\n",
    "        if op == \"+\":\n",
    "            Y_pred += T[i, :]\n",
    "        elif op == \"-\":\n",
    "            Y_pred -= T[i, :]\n",
    "        elif op == \"*\":\n",
    "            Y_pred *= T[i, :]\n",
    "        elif op == \"/\":\n",
    "            Y_pred /= np.where(T[i, :] != 0, T[i, :], 1)  # Avoid division by zero\n",
    "\n",
    "    # Metrics\n",
    "    mse = compute_MSE(Y_pred, Y)\n",
    "    # formulas with high complexity are demoted\n",
    "    complexity = num_terms - PROBLEM_SIZE\n",
    "    mse *= np.pow(1.005,complexity)\n",
    "\n",
    "    if np.any(Y_pred==0):\n",
    "        mse = np.inf\n",
    "        \n",
    "    diff_abs = Y_pred - Y\n",
    "    increase = np.mean(diff_abs) < 0\n",
    "    inc_dec_factor = np.mean(diff_abs)\n",
    "    right_sign = np.all((Y_pred > 0) == (Y > 0))\n",
    "    count_right_sign = np.sum((Y_pred > 0) == (Y > 0))\n",
    "\n",
    "    return mse, increase, right_sign, count_right_sign, inc_dec_factor\n"
   ]
  },
  {
   "cell_type": "code",
   "execution_count": 1406,
   "metadata": {},
   "outputs": [],
   "source": [
    "def generate_coefficient(X,Y):\n",
    "    X_mean = np.mean(X, axis=0)\n",
    "    X_std = np.std(X, axis=0)\n",
    "    X_standardized = (X - X_mean) / X_std\n",
    "\n",
    "    Y_mean = np.mean(Y)\n",
    "    Y_std = np.std(Y)\n",
    "    Y_standardized = (Y - Y_mean) / Y_std\n",
    "\n",
    "    # compute correlations between x and Y\n",
    "    correlations = np.corrcoef(X_standardized.T, Y_standardized)[:-1, -1]\n",
    "\n",
    "    initial_coefficients = correlations * (Y_std / X_std)\n",
    "\n",
    "    # Step 4: Generazione di valori casuali nel range\n",
    "    random_coefficients = rng.choice(rng.uniform(0, np.abs(initial_coefficients), 1000),1)[0]\n",
    "\n",
    "    if round(random_coefficients,4) != 0:\n",
    "        random_coefficients = round(random_coefficients,4)\n",
    "    return random_coefficients"
   ]
  },
  {
   "cell_type": "code",
   "execution_count": 1407,
   "metadata": {},
   "outputs": [],
   "source": [
    "def new_term(individual_gen:List,n,x,y):\n",
    "    # i = 3\n",
    "    var = rng.choice(VARIABLES,1 ,p=VARIABLES_WEIGHTS[0]) [0] \n",
    "    VARIABLES_WEIGHTS[0][VARIABLES_MAP[var]] = 0\n",
    "    if np.sum(VARIABLES_WEIGHTS[0]) == 0:\n",
    "        VARIABLES_WEIGHTS[0] = [1/len(VARIABLES) for _ in range(len(VARIABLES))]\n",
    "    else:\n",
    "        VARIABLES_WEIGHTS[0] /= np.sum(VARIABLES_WEIGHTS[0])\n",
    "\n",
    "    # i = 0\n",
    "    #costant = 1\n",
    "    costant = 1 if rng.random()<0.2 else generate_coefficient(x[int(var.split(\"_\")[1])],y)\n",
    "    if np.any(y<0) and rng.random()<0.5: costant*=-1\n",
    "    individual_gen.append(costant)\n",
    "\n",
    "    # i = 1\n",
    "    unary_op = \"\" if rng.random() < 0.2 else str(rng.choice(UNARY_OPERATORS,1,p=UNARY_OPERATORS_WEIGHTS[int(var.split(\"_\")[1])])[0])\n",
    "    individual_gen.append(unary_op)\n",
    "\n",
    "    # i = 2\n",
    "    var_costant = 1 # the costant that multiply the variable start from 1\n",
    "    individual_gen.append(var_costant)\n",
    "    individual_gen.append(var)\n",
    "\n",
    "    # i = 4\n",
    "    bin_op = rng.choice(BINARY_OPERATORS,1) if n !=0 else rng.choice([\"+\",\"-\"],1)\n",
    "    individual_gen.append(str(bin_op[0]))\n",
    "\n",
    "    return individual_gen"
   ]
  },
  {
   "cell_type": "code",
   "execution_count": 1408,
   "metadata": {},
   "outputs": [],
   "source": [
    "def generate_individual(x,y)->Individual:\n",
    "    individual_gen = []\n",
    "    depth = rng.choice(PROBLEM_COMPLEXITIES,1,p=PROBLEM_COMPLEXITIES_WEIGHTS)[0]\n",
    "    for n in range(depth):\n",
    "\n",
    "        individual_gen = new_term(individual_gen,n,x,y)\n",
    "\n",
    "    mse, _, right_sign, count, _ = compute_FX(individual_gen,x,y)    \n",
    "    return Individual(individual_gen,(right_sign,-mse,count))"
   ]
  },
  {
   "cell_type": "code",
   "execution_count": 1409,
   "metadata": {},
   "outputs": [],
   "source": [
    "def add_term(population,terms_added, x,y):\n",
    "    new_population = []\n",
    "    for ind in population:\n",
    "        new_genome = new_term(ind.genome.copy(),PROBLEM_SIZE+terms_added,y)\n",
    "        mse, _, right_sign, count, _  = compute_FX(ind.genome,x,y) \n",
    "        new_fitness = (right_sign,-mse,count) \n",
    "        new_population.append(Individual(new_genome,new_fitness))\n",
    "    return new_population"
   ]
  },
  {
   "cell_type": "code",
   "execution_count": 1410,
   "metadata": {},
   "outputs": [],
   "source": [
    "def parent_selection(population):\n",
    "    # parent selection by rank, using a half fitness hole to prevent overfitting\n",
    "    # e.g. first individual with rank 0 will have higher probability to be chosen\n",
    "    rank_probs = [(len(population)-i-1)/sum(range(len(population))) for i in range(len(population))]\n",
    "    \n",
    "    if rng.random()<0.7:\n",
    "        # best by mse (population is already sorted by mse)\n",
    "        candidates = rng.choice(population, 5, replace=False, p = rank_probs)\n",
    "    else:\n",
    "        # best by right-sign count\n",
    "        best_by_right_sign = sorted(population, key=lambda i: i.fitness[2], reverse=True)\n",
    "        candidates = rng.choice(best_by_right_sign, 5, replace=False, p= rank_probs)\n",
    "    \n",
    "    selected_parents = rng.choice(candidates, 2, replace=False)\n",
    "\n",
    "    return selected_parents"
   ]
  },
  {
   "cell_type": "code",
   "execution_count": 1411,
   "metadata": {},
   "outputs": [],
   "source": [
    "def survival_selection(population):\n",
    "    # Rank based selection + fitness hole based on right-sign count\n",
    "    new_population = []\n",
    "    new_genomes = []\n",
    "    for i in range(POPULATION_SIZE//NUM_TOURNAMENTS):\n",
    "        if population[i].genome not in new_genomes:\n",
    "            new_population.append(population[i])\n",
    "            new_genomes.append(population[i].genome)\n",
    "            if len(new_population) == (POPULATION_SIZE//NUM_TOURNAMENTS)//1.5:\n",
    "                break\n",
    "    population = sorted(population,key=lambda x : x.fitness[2],reverse=True)\n",
    "    for i in range(POPULATION_SIZE//NUM_TOURNAMENTS):\n",
    "        if population[i].genome not in new_genomes:\n",
    "            new_population.append(population[i])\n",
    "            new_genomes.append(population[i].genome)\n",
    "            if len(new_population) == POPULATION_SIZE//NUM_TOURNAMENTS:\n",
    "                break\n",
    "    \n",
    "    return new_population\n"
   ]
  },
  {
   "cell_type": "code",
   "execution_count": 1412,
   "metadata": {},
   "outputs": [],
   "source": [
    "def update_weights(genome, sync_factor, increase: bool):\n",
    "    \n",
    "    for i in range(len(genome) // 5):\n",
    "        unary_term = genome[1 + 5 * i]\n",
    "        binary_term = genome[4 + 5 * i]\n",
    "        n_var = int(genome[3 + 5 * i].split(\"_\")[1])  # Numero della variabile\n",
    "\n",
    "        # Aggiorna i pesi per gli operatori unari\n",
    "        if unary_term != \"\":\n",
    "            unary_idx = UNARY_OPERATORS_MAP[unary_term]\n",
    "            if increase:\n",
    "                UNARY_OPERATORS_WEIGHTS[n_var][unary_idx] += sync_factor if UNARY_OPERATORS_WEIGHTS[n_var][unary_idx] <= 0.65 else 0\n",
    "            else:\n",
    "                UNARY_OPERATORS_WEIGHTS[n_var][unary_idx] -= sync_factor if UNARY_OPERATORS_WEIGHTS[n_var][unary_idx] >= 0.15 else 0\n",
    "            # Normalizza i pesi\n",
    "            UNARY_OPERATORS_WEIGHTS[n_var] /= np.sum(UNARY_OPERATORS_WEIGHTS[n_var])\n",
    "\n",
    "        # Aggiorna i pesi per gli operatori binari\n",
    "        binary_idx = BINARY_OPERATORS_MAP[binary_term]\n",
    "        if increase:\n",
    "            BINARY_OPERATORS_WEIGHTS[n_var][binary_idx] += sync_factor if BINARY_OPERATORS_WEIGHTS[n_var][binary_idx] <= 0.65 else 0\n",
    "        else:\n",
    "            BINARY_OPERATORS_WEIGHTS[n_var][binary_idx] -= sync_factor if BINARY_OPERATORS_WEIGHTS[n_var][binary_idx] >= 0.15 else 0\n",
    "        # Normalizza i pesi\n",
    "        BINARY_OPERATORS_WEIGHTS[n_var] /= np.sum(BINARY_OPERATORS_WEIGHTS[n_var])\n"
   ]
  },
  {
   "cell_type": "code",
   "execution_count": 1413,
   "metadata": {},
   "outputs": [],
   "source": [
    "def xover(p1: Individual, p2: Individual, x, y) -> Individual:\n",
    "    ''' Exchange terms between two individuals '''\n",
    "    # Divide genomes into blocks\n",
    "    blocks1 = [p1.genome[i:i + 5] for i in range(0, len(p1.genome), 5)]\n",
    "    blocks2 = [p2.genome[i:i + 5] for i in range(0, len(p2.genome), 5)]\n",
    "    if p1.fitness >= p2.fitness:\n",
    "        child_genome = p1.genome.copy()\n",
    "    else:\n",
    "        child_genome = p2.genome.copy()\n",
    "    \n",
    "    new_fitness = ()\n",
    "    right_sign = p1.fitness[0] or p2.fitness[0]\n",
    "\n",
    "    rep_factor = 0\n",
    "    while rep_factor<0.5:\n",
    "        sync_factor = 0.03 if right_sign else 0.01\n",
    "        # Select random blocks to exchange\n",
    "        xover_blocks = rng.choice(range(len(blocks2)), rng.integers(0.5, len(blocks2)), replace=False)\n",
    "\n",
    "        # Exchange blocks\n",
    "        for b_i in xover_blocks:\n",
    "            i_xo = np.where(np.array(blocks1)==blocks2[b_i][3])[0]\n",
    "            i_xo = i_xo[0] if len(i_xo)>0 else b_i\n",
    "            if i_xo >= len(blocks1): i_xo = 1\n",
    "            blocks1[i_xo] = blocks2[b_i]\n",
    "\n",
    "        # Rebuild child genome\n",
    "        child_genome = [elem for block in blocks1 for elem in block]\n",
    "\n",
    "        # Evaluate fitness\n",
    "        new_mse, _, right_sign, count, _ = compute_FX(child_genome, x, y)\n",
    "        new_fitness = (right_sign, -new_mse, count)\n",
    "\n",
    "        # Update weights based on fitness\n",
    "        if new_fitness > p1.fitness or new_fitness > p2.fitness:\n",
    "            update_weights(child_genome, sync_factor, increase=True)\n",
    "            break\n",
    "        else:\n",
    "            update_weights(child_genome, sync_factor, increase=False)\n",
    "\n",
    "        rep_factor = rng.random()\n",
    "\n",
    "    return Individual(child_genome, new_fitness)\n"
   ]
  },
  {
   "cell_type": "code",
   "execution_count": 1414,
   "metadata": {},
   "outputs": [],
   "source": [
    "def adjust_mutation_factor(mutation_factor, increase):\n",
    "    if increase: \n",
    "            mutation_factor= mutation_factor * 1.1 if mutation_factor >=1 else 1.2\n",
    "    else: \n",
    "        mutation_factor= mutation_factor * 0.9 if mutation_factor <=1 else 0.8\n",
    "    return mutation_factor"
   ]
  },
  {
   "cell_type": "code",
   "execution_count": 1415,
   "metadata": {},
   "outputs": [],
   "source": [
    "def mutation_unary_coeff(op,curr_coeff,reset=False):\n",
    "    eps = 1e-9\n",
    "    \n",
    "    if op == \"sin\" or op == \"cos\" or op == \"tan\":  \n",
    "        return round(rng.choice(rng.uniform(-np.pi/2 + eps,np.pi/2,100),1)[0],4)\n",
    "\n",
    "    elif op == \"exp\" or op == \"log\" or op == \"arctan\" or op == \"sqrt\" or op == \"abs\" or op == \"sqrt\" or op == \"\":\n",
    "        return curr_coeff*1.1 if not reset else 1\n",
    "\n",
    "    elif op == \"arcsin\" or op == \"arccos\":  \n",
    "        return round(rng.choice(rng.uniform(-1 + eps,1,100),1)[0],4)\n",
    "    \n",
    "    else:\n",
    "        return 1"
   ]
  },
  {
   "cell_type": "code",
   "execution_count": 1416,
   "metadata": {},
   "outputs": [],
   "source": [
    "def tune_constant(index,term, curr_genome, curr_fitness, blocks, x, y):\n",
    "        mutation_factor = 1.5\n",
    "        improve = True\n",
    "        decrease = False\n",
    "        count = 0\n",
    "        while improve and count<10:\n",
    "\n",
    "            blocks[index][term] = blocks[index][term]*mutation_factor if not decrease else blocks[index][term]/mutation_factor  # Modify costant\n",
    "            new_genome = [elem for block in blocks for elem in block]\n",
    "            new_mse, new_increase, right_sign, count, increase_factor = compute_FX(new_genome, x, y)\n",
    "            new_fitness = (right_sign, -new_mse, count)\n",
    "            # Aggiorna la soluzione migliore\n",
    "            if new_fitness > curr_fitness:\n",
    "                curr_fitness = new_fitness\n",
    "                curr_genome = new_genome\n",
    "                \n",
    "                mutation_factor*=0.96\n",
    "            else:\n",
    "                blocks[index][term] = blocks[index][term] / mutation_factor if not decrease else  blocks[index][term] * mutation_factor # revert change\n",
    "                if not decrease:\n",
    "                    decrease = True\n",
    "                else: \n",
    "                    improve = False\n",
    "\n",
    "            count+=1\n",
    "        \n",
    "        if round(blocks[index][term]) != 0 :\n",
    "            blocks[index][term] = round(blocks[index][term],4)\n",
    "        return blocks[index][term]"
   ]
  },
  {
   "cell_type": "code",
   "execution_count": 1417,
   "metadata": {},
   "outputs": [],
   "source": [
    "def mutation(p: Individual, mutation_factor: float ,x, y) :\n",
    "    ''' Mutate terms of one individual '''\n",
    "    child_genome = p.genome.copy()\n",
    "    new_fitness = ()\n",
    "    blocks = [child_genome[i:i + 5] for i in range(0, len(child_genome), 5)]\n",
    "    right_sign = p.fitness[0]\n",
    "    rep_factor=0\n",
    "    \n",
    "    while rep_factor<0.6:\n",
    "        sync_factor = 0.05 if right_sign else 0.01\n",
    "        # Define mutation probabilities\n",
    "        mutation_probs = np.array([0.2, 0.3, 0.2, 0, 0.3]) if right_sign else np.array([0.25, 0.25, 0.25, 0, 0.25])\n",
    "\n",
    "        # Select random blocks to mutate\n",
    "        if len(blocks) == 1:\n",
    "            mutate_blocks = [0]\n",
    "        else:\n",
    "            mutate_blocks = rng.choice(range(len(blocks)), rng.integers(1, len(blocks)), replace=False)\n",
    "\n",
    "        for b_i in mutate_blocks:\n",
    "            # Mutate elements in the block\n",
    "            elems = rng.choice(5, size=rng.integers(1, 5), p=mutation_probs)\n",
    "            n_var = int(blocks[b_i][3].split(\"_\")[1])\n",
    "\n",
    "            for e_i in elems:\n",
    "                if e_i == 0:\n",
    "                    #blocks[b_i][e_i] *= mutation_factor #if blocks[b_i][e_i] < 1e4 else rng.random()\n",
    "                    blocks[b_i][e_i] = tune_constant(b_i,0,p.genome.copy(),p.fitness,blocks,x,y)\n",
    "                    if not right_sign: blocks[b_i][e_i]*=-1\n",
    "                elif e_i == 1:\n",
    "                    new_unary_op = \"\" if rng.random() < 0.15 else str(rng.choice(UNARY_OPERATORS,1,p=UNARY_OPERATORS_WEIGHTS[n_var])[0])\n",
    "                    blocks[b_i][2] = mutation_unary_coeff(blocks[b_i][e_i],blocks[b_i][2],new_unary_op != blocks[b_i][e_i])\n",
    "\n",
    "                    blocks[b_i][e_i] = new_unary_op\n",
    "                    blocks[b_i][0] = tune_constant(b_i,0,p.genome.copy(),p.fitness,blocks,x,y)\n",
    "                 \n",
    "                elif e_i == 2 and blocks[b_i][1] not in [\"arccos\",\"arcsin\",\"arctan\"]:\n",
    "                    blocks[b_i][e_i] = mutation_unary_coeff(blocks[b_i][1],blocks[b_i][e_i])\n",
    "\n",
    "                elif e_i == 4:\n",
    "                    new_bin_op = rng.choice(BINARY_OPERATORS,1,p=BINARY_OPERATORS_WEIGHTS[n_var]) if b_i !=0 else rng.choice([\"+\",\"-\"],1)\n",
    "                    blocks[b_i][e_i] = str(new_bin_op[0])  \n",
    "                else:\n",
    "                    continue\n",
    "\n",
    "        # Rebuild genome and compute fitness\n",
    "        child_genome = [elem for block in blocks for elem in block]\n",
    "        new_mse, increase, right_sign, count, inc_factor = compute_FX(child_genome, x, y)\n",
    "        new_fitness = (right_sign, -new_mse, count)\n",
    "\n",
    "        if new_fitness > p.fitness:\n",
    "            update_weights(child_genome, sync_factor, increase=True)\n",
    "            break\n",
    "        else:\n",
    "            update_weights(child_genome, sync_factor, increase=False)\n",
    "\n",
    "        # Adjust mutation factor\n",
    "        #mutation_factor = adjust_mutation_factor(mutation_factor, increase)\n",
    "\n",
    "        rep_factor = rng.random()\n",
    "\n",
    "    return Individual(child_genome, new_fitness), mutation_factor"
   ]
  },
  {
   "cell_type": "code",
   "execution_count": 1418,
   "metadata": {},
   "outputs": [],
   "source": [
    "def EA_resolution(num_generations, population,x,y):\n",
    "    history = []\n",
    "    mutation_factor = 1\n",
    "    n_no_improvement = 0\n",
    "    #terms_added = 0\n",
    "    champion = population[0]\n",
    "    for i in tqdm(range(num_generations)):\n",
    "\n",
    "        offspring = list()\n",
    "\n",
    "        for _ in range(OFFSPRING_SIZE):\n",
    "            \n",
    "            p1,p2 = parent_selection(population)\n",
    "            \n",
    "            if rng.random() <0.25 and not champion.fitness[0]:\n",
    "                o = xover(p1,p2,x,y)\n",
    "            else:\n",
    "                o,mutation_factor = mutation(p1,mutation_factor,x,y)\n",
    "\n",
    "            offspring.append(o)\n",
    "\n",
    "        population.extend(offspring)\n",
    "\n",
    "        population = sorted(population, key=lambda i: i.fitness,reverse=True)\n",
    "        population = survival_selection(population)\n",
    "\n",
    "        if population[0].fitness > champion.fitness:\n",
    "            champion = population[0]\n",
    "            n_no_improvement = 0\n",
    "        else:\n",
    "            n_no_improvement += 1\n",
    "\n",
    "        if n_no_improvement > INCREASE_COMPLEXITY_STEP:\n",
    "            print(\"Early stopping, not finding better solutions\")\n",
    "            break\n",
    "        elif n_no_improvement == int(INCREASE_COMPLEXITY_STEP//2):\n",
    "            # reset weights to prevent overfitting\n",
    "            print(\"Reset weights\")\n",
    "            for i in range(PROBLEM_SIZE):\n",
    "                UNARY_OPERATORS_WEIGHTS[i] = compute_unary_weights(UNARY_OPERATORS,i,DATA,LABELS) \n",
    "                BINARY_OPERATORS_WEIGHTS[i] = [1/len(BINARY_OPERATORS) for _ in BINARY_OPERATORS]\n",
    "\n",
    "        history.append(population[0])\n",
    "\n",
    "        if i % 250 == 0 and i!= 0:\n",
    "            print(f\"\\t\\tBest individual found at iteration {i}:\")\n",
    "            print(f\"\\t\\t\\t{champion.genome}\")\n",
    "            print(f\"\\t\\t\\t{champion.fitness}\")\n",
    "        \n",
    "        if -champion.fitness[1]<1e-30:\n",
    "            print(f\"\\t\\t\\tEarly stopping: Near Solution Found\")\n",
    "            break\n",
    "\n",
    "    return champion, history, population"
   ]
  },
  {
   "cell_type": "code",
   "execution_count": 1419,
   "metadata": {},
   "outputs": [
    {
     "name": "stderr",
     "output_type": "stream",
     "text": [
      "100%|██████████| 50/50 [00:02<00:00, 21.20it/s]\n"
     ]
    },
    {
     "name": "stdout",
     "output_type": "stream",
     "text": [
      "Winner of Tounament n: 1: Individual(genome=[np.float64(1.4738), '', 1.1, np.str_('X_0'), '-', np.float64(0.006834374999999999), 'exp', np.float64(0.23835548000000006), np.str_('X_1'), '+', np.float64(-0.36905625), 'abs', np.float64(-0.9606), np.str_('X_0'), '-', -7.5938, 'exp', np.float64(-0.7634), np.str_('X_1'), '-'], fitness=(np.True_, np.float64(-135496.38325263295), np.int64(125)))\n"
     ]
    },
    {
     "name": "stderr",
     "output_type": "stream",
     "text": [
      "100%|██████████| 50/50 [00:02<00:00, 22.04it/s]\n"
     ]
    },
    {
     "name": "stdout",
     "output_type": "stream",
     "text": [
      "Winner of Tounament n: 2: Individual(genome=[np.float64(3.5162), 'reciprocal', np.float64(-0.6889), np.str_('X_0'), '-', 1.0, 'exp', 1.2100000000000002, np.str_('X_1'), '+', np.float64(-0.0025628906249999996), 'exp', 1.3310000000000004, np.str_('X_1'), '*', np.float64(-0.0329), 'reciprocal', 1, np.str_('X_0'), '/', -5.0625, 'abs', 1.9487171000000014, np.str_('X_0'), '-'], fitness=(np.True_, np.float64(-24925.05751703286), np.int64(125)))\n"
     ]
    },
    {
     "name": "stderr",
     "output_type": "stream",
     "text": [
      "100%|██████████| 50/50 [00:02<00:00, 19.66it/s]\n"
     ]
    },
    {
     "name": "stdout",
     "output_type": "stream",
     "text": [
      "Winner of Tounament n: 3: Individual(genome=[np.float64(-0.0010125), 'tan', np.float64(1.4031), np.str_('X_1'), '-', np.float64(-12.2607), 'arctan', 1, np.str_('X_0'), '*', np.float64(0.9656), 'sin', np.float64(0.9681), np.str_('X_1'), '-', -17.0861, 'sin', np.float64(1.365), np.str_('X_1'), '*'], fitness=(np.True_, np.float64(-25640.7868333213), np.int64(125)))\n"
     ]
    },
    {
     "name": "stderr",
     "output_type": "stream",
     "text": [
      "100%|██████████| 50/50 [00:02<00:00, 22.59it/s]\n"
     ]
    },
    {
     "name": "stdout",
     "output_type": "stream",
     "text": [
      "Winner of Tounament n: 4: Individual(genome=[-5.0625, 'sin', 1, np.str_('X_1'), '-', np.float64(0.0132), '', 1.1, np.str_('X_1'), '-', np.float64(-0.0354375), 'tan', np.float64(-1.4056), np.str_('X_0'), '-', 3.375, 'arctan', 1, np.str_('X_1'), '*'], fitness=(np.True_, np.float64(-47637.38911537294), np.int64(125)))\n"
     ]
    },
    {
     "name": "stderr",
     "output_type": "stream",
     "text": [
      "100%|██████████| 50/50 [00:01<00:00, 31.15it/s]\n"
     ]
    },
    {
     "name": "stdout",
     "output_type": "stream",
     "text": [
      "Winner of Tounament n: 5: Individual(genome=[5.0625, 'abs', 1, np.str_('X_1'), '+', np.float64(3.7233), 'abs', 1.1, np.str_('X_0'), '+'], fitness=(np.True_, np.float64(-34440.51979574221), np.int64(125)))\n"
     ]
    },
    {
     "name": "stderr",
     "output_type": "stream",
     "text": [
      "100%|██████████| 50/50 [00:02<00:00, 21.51it/s]\n"
     ]
    },
    {
     "name": "stdout",
     "output_type": "stream",
     "text": [
      "Winner of Tounament n: 6: Individual(genome=[17.0861, 'abs', np.float64(0.9806808000000004), np.str_('X_1'), '+', np.float64(-0.26173125), 'sin', np.float64(-1.4865), np.str_('X_0'), '+', 3.375, '', np.float64(-1.4627), np.str_('X_1'), '+', np.float64(0.26483203125), 'exp', np.float64(-1.5605370000000003), np.str_('X_0'), '*'], fitness=(np.True_, np.float64(-97276.13147662033), np.int64(125)))\n"
     ]
    },
    {
     "name": "stderr",
     "output_type": "stream",
     "text": [
      "100%|██████████| 50/50 [00:01<00:00, 28.84it/s]\n"
     ]
    },
    {
     "name": "stdout",
     "output_type": "stream",
     "text": [
      "Winner of Tounament n: 7: Individual(genome=[5.0625, 'abs', 1.4641000000000006, np.str_('X_1'), '+', np.float64(1.401), 'abs', 1, np.str_('X_0'), '*'], fitness=(np.True_, np.float64(-29121.321067199762), np.int64(125)))\n"
     ]
    },
    {
     "name": "stderr",
     "output_type": "stream",
     "text": [
      "100%|██████████| 50/50 [00:02<00:00, 24.32it/s]\n"
     ]
    },
    {
     "name": "stdout",
     "output_type": "stream",
     "text": [
      "Winner of Tounament n: 8: Individual(genome=[np.float64(-0.1314), 'arctan', 1, np.str_('X_0'), '+', np.float64(0.0036000000000000003), 'cos', np.float64(-0.1592), np.str_('X_1'), '/', np.float64(-0.4480312499999999), 'arctan', np.float64(0.8847), np.str_('X_0'), '*'], fitness=(np.True_, np.float64(-59291.84902550199), np.int64(125)))\n"
     ]
    },
    {
     "name": "stderr",
     "output_type": "stream",
     "text": [
      "100%|██████████| 50/50 [00:01<00:00, 26.83it/s]\n"
     ]
    },
    {
     "name": "stdout",
     "output_type": "stream",
     "text": [
      "Winner of Tounament n: 9: Individual(genome=[np.float64(0.013049999999999999), 'reciprocal', 1, np.str_('X_1'), '+', 1, '', 1, np.str_('X_1'), '+', np.float64(-0.23118750000000002), 'tan', np.float64(0.2838), np.str_('X_0'), '*', np.float64(0.0083), 'reciprocal', 1, np.str_('X_1'), '/', -1.5, 'arctan', 1, np.str_('X_0'), '*'], fitness=(np.True_, np.float64(-143673.60402317566), np.int64(125)))\n"
     ]
    },
    {
     "name": "stderr",
     "output_type": "stream",
     "text": [
      "100%|██████████| 50/50 [00:02<00:00, 19.56it/s]\n"
     ]
    },
    {
     "name": "stdout",
     "output_type": "stream",
     "text": [
      "Winner of Tounament n: 10: Individual(genome=[-25.6291, '', 1, np.str_('X_0'), '+', np.float64(0.010251562499999999), 'cos', np.float64(-0.5111), np.str_('X_1'), '*', np.float64(-0.20908125), 'sin', 1, np.str_('X_0'), '+', -5.0625, 'exp', np.float64(-0.7647200000000001), np.str_('X_1'), '-', np.float64(1.4916), 'abs', 1, np.str_('X_0'), '*'], fitness=(np.True_, np.float64(-43213.290259034904), np.int64(125)))\n"
     ]
    },
    {
     "name": "stderr",
     "output_type": "stream",
     "text": [
      "100%|██████████| 50/50 [00:01<00:00, 31.10it/s]\n"
     ]
    },
    {
     "name": "stdout",
     "output_type": "stream",
     "text": [
      "Winner of Tounament n: 11: Individual(genome=[-7.5938, 'abs', 1, np.str_('X_0'), '-', -1.8601, 'cos', np.float64(0.4761), np.str_('X_0'), '-'], fitness=(np.True_, np.float64(-46862.86776380109), np.int64(125)))\n"
     ]
    },
    {
     "name": "stderr",
     "output_type": "stream",
     "text": [
      "100%|██████████| 50/50 [00:01<00:00, 25.40it/s]\n"
     ]
    },
    {
     "name": "stdout",
     "output_type": "stream",
     "text": [
      "Winner of Tounament n: 12: Individual(genome=[np.float64(0.2980125), '', np.float64(0.27929000000000004), np.str_('X_0'), '-', np.float64(-0.27675), 'tan', 1, np.str_('X_0'), '*', -7.5938, 'abs', 1.3310000000000004, np.str_('X_1'), '-'], fitness=(np.True_, np.float64(-39019.49057539198), np.int64(125)))\n"
     ]
    },
    {
     "name": "stderr",
     "output_type": "stream",
     "text": [
      "100%|██████████| 50/50 [00:02<00:00, 16.75it/s]\n"
     ]
    },
    {
     "name": "stdout",
     "output_type": "stream",
     "text": [
      "Winner of Tounament n: 13: Individual(genome=[np.float64(0.03189375), 'arctan', 1, np.str_('X_1'), '-', np.float64(6.5822), 'arctan', 1, np.str_('X_0'), '-', np.float64(0.09995273437499999), 'sin', np.float64(0.7598), np.str_('X_1'), '+', np.float64(-0.617), '', 1.2100000000000002, np.str_('X_1'), '*', 17.0861, 'abs', np.float64(-0.5309), np.str_('X_0'), '+', np.float64(1.0725), 'abs', np.float64(1.4835326000000004), np.str_('X_0'), '+'], fitness=(np.True_, np.float64(-32140.00217032342), np.int64(125)))\n"
     ]
    },
    {
     "name": "stderr",
     "output_type": "stream",
     "text": [
      "100%|██████████| 50/50 [00:01<00:00, 29.25it/s]\n"
     ]
    },
    {
     "name": "stdout",
     "output_type": "stream",
     "text": [
      "Winner of Tounament n: 14: Individual(genome=[np.float64(0.4036552734375), 'abs', np.float64(1.5534101000000002), np.str_('X_1'), '+', np.float64(0.18652499999999997), 'exp', np.float64(1.36499), np.str_('X_0'), '/'], fitness=(np.True_, np.float64(-54600.8399959667), np.int64(125)))\n"
     ]
    },
    {
     "name": "stderr",
     "output_type": "stream",
     "text": [
      "100%|██████████| 50/50 [00:01<00:00, 31.72it/s]\n"
     ]
    },
    {
     "name": "stdout",
     "output_type": "stream",
     "text": [
      "Winner of Tounament n: 15: Individual(genome=[5.0625, 'abs', 1.4641000000000006, np.str_('X_1'), '+', np.float64(0.9816), 'abs', 1.2100000000000002, np.str_('X_0'), '*'], fitness=(np.True_, np.float64(-24074.94536128824), np.int64(125)))\n"
     ]
    },
    {
     "name": "stderr",
     "output_type": "stream",
     "text": [
      "100%|██████████| 50/50 [00:02<00:00, 24.34it/s]\n"
     ]
    },
    {
     "name": "stdout",
     "output_type": "stream",
     "text": [
      "Winner of Tounament n: 16: Individual(genome=[np.float64(-0.23355), '', np.float64(1.6803600000000003), np.str_('X_0'), '+', np.float64(0.0738), 'sin', np.float64(-1.4538), np.str_('X_0'), '/', np.float64(0.06150937499999999), 'tan', np.float64(-0.7329), np.str_('X_1'), '-'], fitness=(np.True_, np.float64(-53509.34408320404), np.int64(125)))\n"
     ]
    },
    {
     "name": "stderr",
     "output_type": "stream",
     "text": [
      "100%|██████████| 50/50 [00:01<00:00, 26.57it/s]\n"
     ]
    },
    {
     "name": "stdout",
     "output_type": "stream",
     "text": [
      "Winner of Tounament n: 17: Individual(genome=[1.5, 'tan', np.float64(-0.4775), np.str_('X_0'), '-', np.float64(0.095625), 'reciprocal', 1, np.str_('X_0'), '/'], fitness=(np.True_, np.float64(-139283.98576541673), np.int64(125)))\n"
     ]
    },
    {
     "name": "stderr",
     "output_type": "stream",
     "text": [
      "100%|██████████| 50/50 [00:01<00:00, 26.13it/s]\n"
     ]
    },
    {
     "name": "stdout",
     "output_type": "stream",
     "text": [
      "Winner of Tounament n: 18: Individual(genome=[np.float64(-0.143521875), 'exp', 1.771561000000001, np.str_('X_1'), '-', 7.5938, 'exp', 1, np.str_('X_0'), '*'], fitness=(np.True_, np.float64(-84912.06622293401), np.int64(125)))\n"
     ]
    },
    {
     "name": "stderr",
     "output_type": "stream",
     "text": [
      "100%|██████████| 50/50 [00:02<00:00, 17.14it/s]\n"
     ]
    },
    {
     "name": "stdout",
     "output_type": "stream",
     "text": [
      "Winner of Tounament n: 19: Individual(genome=[np.float64(-0.0030375), 'exp', 1.1, np.str_('X_1'), '+', np.float64(-0.29328750000000003), 'exp', np.float64(0.9587366030000005), np.str_('X_0'), '*', np.float64(4.479915821001294e-05), 'exp', np.float64(1.50447), np.str_('X_1'), '/', np.float64(0.14655937500000005), 'exp', np.float64(-2.2618880900000007), np.str_('X_0'), '*', 2.25, 'exp', 1.3310000000000004, np.str_('X_0'), '+'], fitness=(np.True_, np.float64(-80577.94311874015), np.int64(125)))\n"
     ]
    },
    {
     "name": "stderr",
     "output_type": "stream",
     "text": [
      "100%|██████████| 50/50 [00:03<00:00, 16.30it/s]\n"
     ]
    },
    {
     "name": "stdout",
     "output_type": "stream",
     "text": [
      "Winner of Tounament n: 20: Individual(genome=[np.float64(-0.7298), 'exp', 1.2100000000000002, np.str_('X_1'), '+', np.float64(0.1913625), 'abs', 1.2100000000000002, np.str_('X_1'), '*', -7.5938, 'abs', 1, np.str_('X_0'), '*', np.float64(0.12301875), 'cos', np.float64(-0.7003), np.str_('X_0'), '+'], fitness=(np.True_, np.float64(-60450.13041940591), np.int64(125)))\n"
     ]
    },
    {
     "name": "stderr",
     "output_type": "stream",
     "text": [
      "100%|██████████| 50/50 [00:02<00:00, 18.09it/s]\n"
     ]
    },
    {
     "name": "stdout",
     "output_type": "stream",
     "text": [
      "Winner of Tounament n: 21: Individual(genome=[np.float64(-0.0353109375), '', 1, np.str_('X_1'), '-', np.float64(0.06663515625), 'tan', np.float64(-1.0925), np.str_('X_0'), '*', np.float64(0.054674999999999994), 'exp', 1.1, np.str_('X_1'), '/', -5.0625, 'abs', 1.3310000000000004, np.str_('X_0'), '-', np.float64(0.21971250000000006), 'tan', np.float64(-1.0301), np.str_('X_0'), '-'], fitness=(np.True_, np.float64(-17336.33689847567), np.int64(125)))\n"
     ]
    },
    {
     "name": "stderr",
     "output_type": "stream",
     "text": [
      "100%|██████████| 50/50 [00:03<00:00, 14.09it/s]\n"
     ]
    },
    {
     "name": "stdout",
     "output_type": "stream",
     "text": [
      "Winner of Tounament n: 22: Individual(genome=[np.float64(0.00765), 'abs', 1, np.str_('X_1'), '-', np.float64(-0.0597375), 'exp', 1.1, np.str_('X_0'), '+', np.float64(-0.07289999999999999), 'exp', np.float64(-1.1374000000000002), np.str_('X_1'), '/', np.float64(0.125325), 'sin', 1, np.str_('X_0'), '+', 5.0625, 'arctan', 1, np.str_('X_1'), '+', 3.375, 'exp', np.float64(-1.112), np.str_('X_1'), '+'], fitness=(np.True_, np.float64(-63513.942872202584), np.int64(125)))\n"
     ]
    },
    {
     "name": "stderr",
     "output_type": "stream",
     "text": [
      "100%|██████████| 50/50 [00:02<00:00, 18.08it/s]\n"
     ]
    },
    {
     "name": "stdout",
     "output_type": "stream",
     "text": [
      "Winner of Tounament n: 23: Individual(genome=[np.float64(0.06855), 'abs', 1.3310000000000004, np.str_('X_0'), '-', np.float64(-0.00855), 'arctan', 1, np.str_('X_1'), '/', np.float64(0.295396875), 'exp', 1.771561000000001, np.str_('X_0'), '+', 1.0, '', 1.1, np.str_('X_1'), '*', np.float64(0.07821562500000001), 'reciprocal', np.float64(1.5297), np.str_('X_1'), '+'], fitness=(np.True_, np.float64(-65222.33981922454), np.int64(125)))\n"
     ]
    },
    {
     "name": "stderr",
     "output_type": "stream",
     "text": [
      "100%|██████████| 50/50 [00:02<00:00, 18.00it/s]\n"
     ]
    },
    {
     "name": "stdout",
     "output_type": "stream",
     "text": [
      "Winner of Tounament n: 24: Individual(genome=[np.float64(-0.1278), 'abs', 1.4641000000000006, np.str_('X_0'), '-', np.float64(0.0053), 'sin', np.float64(-1.1968), np.str_('X_1'), '/', -11.3907, '', 1, np.str_('X_0'), '+', -2.25, 'reciprocal', 1, np.str_('X_1'), '/'], fitness=(np.True_, np.float64(-132948.2292371733), np.int64(125)))\n"
     ]
    },
    {
     "name": "stderr",
     "output_type": "stream",
     "text": [
      "100%|██████████| 50/50 [00:02<00:00, 22.25it/s]\n"
     ]
    },
    {
     "name": "stdout",
     "output_type": "stream",
     "text": [
      "Winner of Tounament n: 25: Individual(genome=[np.float64(0.047840625), '', np.float64(-0.14311000000000001), np.str_('X_1'), '-', np.float64(1.2975), 'reciprocal', 1, np.str_('X_0'), '/', np.float64(-0.15569560546875), 'exp', 1, np.str_('X_1'), '-', np.float64(1.3446), 'exp', 2.1435888100000016, np.str_('X_0'), '*'], fitness=(np.True_, np.float64(-21989.888970278036), np.int64(125)))\n"
     ]
    },
    {
     "name": "stderr",
     "output_type": "stream",
     "text": [
      "100%|██████████| 50/50 [00:02<00:00, 18.53it/s]\n"
     ]
    },
    {
     "name": "stdout",
     "output_type": "stream",
     "text": [
      "Winner of Tounament n: 26: Individual(genome=[np.float64(0.166587890625), 'tan', np.float64(0.5892), np.str_('X_0'), '-', np.float64(-0.042287695312500005), 'sin', np.float64(-0.9828), np.str_('X_0'), '*', np.float64(0.0011390624999999999), 'sin', 1, np.str_('X_1'), '/', -2.25, '', 1, np.str_('X_1'), '*'], fitness=(np.True_, np.float64(-120564.16235007816), np.int64(125)))\n"
     ]
    },
    {
     "name": "stderr",
     "output_type": "stream",
     "text": [
      "100%|██████████| 50/50 [00:01<00:00, 27.55it/s]\n"
     ]
    },
    {
     "name": "stdout",
     "output_type": "stream",
     "text": [
      "Winner of Tounament n: 27: Individual(genome=[-3.375, 'exp', 1.2100000000000002, np.str_('X_1'), '-', np.float64(0.26995781249999995), 'exp', np.float64(1.3627), np.str_('X_0'), '*', np.float64(-0.1401046875), 'abs', np.float64(1.4384), np.str_('X_1'), '-'], fitness=(np.True_, np.float64(-19185.650143586743), np.int64(125)))\n"
     ]
    },
    {
     "name": "stderr",
     "output_type": "stream",
     "text": [
      "100%|██████████| 50/50 [00:01<00:00, 28.11it/s]\n"
     ]
    },
    {
     "name": "stdout",
     "output_type": "stream",
     "text": [
      "Winner of Tounament n: 28: Individual(genome=[np.float64(0.021150000000000002), '', 1.3310000000000004, np.str_('X_1'), '+', np.float64(0.0051), 'arctan', 1.2100000000000002, np.str_('X_1'), '/', np.float64(0.7396), '', 1, np.str_('X_0'), '-'], fitness=(np.True_, np.float64(-10520.293118166795), np.int64(125)))\n"
     ]
    },
    {
     "name": "stderr",
     "output_type": "stream",
     "text": [
      "100%|██████████| 50/50 [00:01<00:00, 28.54it/s]\n"
     ]
    },
    {
     "name": "stdout",
     "output_type": "stream",
     "text": [
      "Winner of Tounament n: 29: Individual(genome=[-5.0625, 'abs', np.float64(-1.7010206620000003), np.str_('X_0'), '-', np.float64(-0.5248), 'cos', np.float64(1.3533), np.str_('X_1'), '+', np.float64(0.03189375), '', 1.2100000000000002, np.str_('X_1'), '-'], fitness=(np.True_, np.float64(-35556.22389691572), np.int64(125)))\n"
     ]
    },
    {
     "name": "stderr",
     "output_type": "stream",
     "text": [
      "100%|██████████| 50/50 [00:01<00:00, 26.07it/s]\n"
     ]
    },
    {
     "name": "stdout",
     "output_type": "stream",
     "text": [
      "Winner of Tounament n: 30: Individual(genome=[-11.3907, 'exp', 1.4641000000000006, np.str_('X_1'), '-', np.float64(0.077175), 'exp', 1.4641000000000006, np.str_('X_0'), '*', np.float64(9.634181502548366e-05), 'reciprocal', 1, np.str_('X_1'), '-'], fitness=(np.True_, np.float64(-56707.3425255105), np.int64(125)))\n"
     ]
    },
    {
     "name": "stderr",
     "output_type": "stream",
     "text": [
      "100%|██████████| 50/50 [00:01<00:00, 25.46it/s]\n"
     ]
    },
    {
     "name": "stdout",
     "output_type": "stream",
     "text": [
      "Winner of Tounament n: 31: Individual(genome=[np.float64(0.6476), 'exp', 1.4641000000000006, np.str_('X_0'), '-', np.float64(0.007688671874999999), 'tan', np.float64(0.7634), np.str_('X_1'), '+', np.float64(-0.0872), 'exp', np.float64(1.4254), np.str_('X_0'), '/'], fitness=(np.True_, np.float64(-8857.58985414181), np.int64(125)))\n"
     ]
    },
    {
     "name": "stderr",
     "output_type": "stream",
     "text": [
      "100%|██████████| 50/50 [00:01<00:00, 36.67it/s]\n"
     ]
    },
    {
     "name": "stdout",
     "output_type": "stream",
     "text": [
      "Winner of Tounament n: 32: Individual(genome=[np.float64(0.20688750000000003), 'exp', np.float64(1.18272), np.str_('X_0'), '-', -3.375, 'exp', 1.6105100000000008, np.str_('X_1'), '*'], fitness=(np.True_, np.float64(-19596.202856714262), np.int64(125)))\n"
     ]
    },
    {
     "name": "stderr",
     "output_type": "stream",
     "text": [
      "100%|██████████| 50/50 [00:01<00:00, 38.01it/s]\n"
     ]
    },
    {
     "name": "stdout",
     "output_type": "stream",
     "text": [
      "Winner of Tounament n: 33: Individual(genome=[np.float64(-0.3805892578125), 'abs', np.float64(2.091466850000001), np.str_('X_1'), '+', -7.5938, 'abs', 1.2100000000000002, np.str_('X_0'), '*'], fitness=(np.True_, np.float64(-12048.612427572956), np.int64(125)))\n"
     ]
    },
    {
     "name": "stderr",
     "output_type": "stream",
     "text": [
      "100%|██████████| 50/50 [00:01<00:00, 37.74it/s]\n"
     ]
    },
    {
     "name": "stdout",
     "output_type": "stream",
     "text": [
      "Winner of Tounament n: 34: Individual(genome=[np.float64(0.6574), 'exp', 1.3310000000000004, np.str_('X_1'), '+', -7.5938, 'abs', 1, np.str_('X_1'), '-'], fitness=(np.True_, np.float64(-35843.32691252141), np.int64(125)))\n"
     ]
    },
    {
     "name": "stderr",
     "output_type": "stream",
     "text": [
      "100%|██████████| 50/50 [00:01<00:00, 32.66it/s]\n"
     ]
    },
    {
     "name": "stdout",
     "output_type": "stream",
     "text": [
      "Winner of Tounament n: 35: Individual(genome=[np.float64(-0.38677500000000004), 'exp', 2.5937424601000023, np.str_('X_0'), '-', np.float64(0.023066015625), 'exp', np.float64(1.0959454000000002), np.str_('X_1'), '+'], fitness=(np.True_, np.float64(-238318.15977127303), np.int64(125)))\n"
     ]
    },
    {
     "name": "stderr",
     "output_type": "stream",
     "text": [
      "100%|██████████| 50/50 [00:01<00:00, 39.53it/s]\n"
     ]
    },
    {
     "name": "stdout",
     "output_type": "stream",
     "text": [
      "Winner of Tounament n: 36: Individual(genome=[np.float64(3.7876), 'cos', np.float64(-1.2412), np.str_('X_1'), '-', -7.5938, 'exp', np.float64(-0.36148629000000015), np.str_('X_0'), '-'], fitness=(np.True_, np.float64(-14008.892716372377), np.int64(125)))\n"
     ]
    },
    {
     "name": "stderr",
     "output_type": "stream",
     "text": [
      "100%|██████████| 50/50 [00:01<00:00, 37.26it/s]\n"
     ]
    },
    {
     "name": "stdout",
     "output_type": "stream",
     "text": [
      "Winner of Tounament n: 37: Individual(genome=[7.5938, 'abs', 1, np.str_('X_1'), '+', np.float64(0.08505), 'tan', 1, np.str_('X_1'), '-'], fitness=(np.True_, np.float64(-16616.575976249416), np.int64(125)))\n"
     ]
    },
    {
     "name": "stderr",
     "output_type": "stream",
     "text": [
      "100%|██████████| 50/50 [00:02<00:00, 24.94it/s]\n"
     ]
    },
    {
     "name": "stdout",
     "output_type": "stream",
     "text": [
      "Winner of Tounament n: 38: Individual(genome=[np.float64(0.054674999999999994), 'arctan', np.float64(0.2634), np.str_('X_1'), '-', 2.25, 'exp', np.float64(1.7053740000000002), np.str_('X_1'), '-', np.float64(-0.1711125), 'exp', 1.6105100000000008, np.str_('X_0'), '*', -5.0625, 'abs', np.float64(1.1466565000000002), np.str_('X_0'), '-'], fitness=(np.True_, np.float64(-45161.14161495367), np.int64(125)))\n"
     ]
    },
    {
     "name": "stderr",
     "output_type": "stream",
     "text": [
      "100%|██████████| 50/50 [00:02<00:00, 22.23it/s]\n"
     ]
    },
    {
     "name": "stdout",
     "output_type": "stream",
     "text": [
      "Winner of Tounament n: 39: Individual(genome=[np.float64(0.000759375), 'exp', np.float64(1.2001990000000002), np.str_('X_1'), '-', 3.375, 'exp', 1.3310000000000004, np.str_('X_0'), '+', 1.0, 'exp', 1, np.str_('X_1'), '*'], fitness=(np.True_, np.float64(-59728.68122341917), np.int64(125)))\n"
     ]
    },
    {
     "name": "stderr",
     "output_type": "stream",
     "text": [
      "100%|██████████| 50/50 [00:01<00:00, 26.99it/s]\n"
     ]
    },
    {
     "name": "stdout",
     "output_type": "stream",
     "text": [
      "Winner of Tounament n: 40: Individual(genome=[np.float64(-0.028800000000000003), 'abs', np.float64(-1.7561001040000006), np.str_('X_0'), '+', np.float64(-0.033525), 'exp', 1, np.str_('X_0'), '/', 5.0625, 'abs', 1.1, np.str_('X_1'), '+'], fitness=(np.True_, np.float64(-26895.24366854744), np.int64(125)))\n",
      "New fitness winner 1\n",
      "(np.False_, np.float64(-76729.7216059563), np.int64(4943))\n",
      "New fitness winner 2\n",
      "(np.True_, np.float64(-63182.26226179646), np.int64(5000))\n",
      "New fitness winner 3\n",
      "(np.False_, np.float64(-88112.56301483407), np.int64(4981))\n",
      "New fitness winner 4\n",
      "(np.False_, np.float64(-369427.4310396679), np.int64(4963))\n",
      "New fitness winner 5\n",
      "(np.True_, np.float64(-66631.76396953534), np.int64(5000))\n",
      "New fitness winner 6\n",
      "(np.False_, np.float64(-106789.63577225276), np.int64(4988))\n",
      "New fitness winner 7\n",
      "(np.True_, np.float64(-60921.5331689321), np.int64(5000))\n",
      "New fitness winner 8\n",
      "(np.True_, np.float64(-67987.24513790836), np.int64(5000))\n",
      "New fitness winner 9\n",
      "(np.True_, np.float64(-70489.46019178575), np.int64(5000))\n",
      "New fitness winner 10\n",
      "(np.True_, np.float64(-74125.34286320349), np.int64(5000))\n",
      "New fitness winner 11\n",
      "(np.True_, np.float64(-68230.80993904478), np.int64(5000))\n",
      "New fitness winner 12\n",
      "(np.False_, np.float64(-71701.04028740826), np.int64(4977))\n",
      "New fitness winner 13\n",
      "(np.False_, np.float64(-59859.46139436148), np.int64(4971))\n",
      "New fitness winner 14\n",
      "(np.True_, np.float64(-75375.07677040412), np.int64(5000))\n",
      "New fitness winner 15\n",
      "(np.True_, np.float64(-61648.47930249471), np.int64(5000))\n",
      "New fitness winner 16\n",
      "(np.True_, np.float64(-71082.60384478339), np.int64(5000))\n",
      "New fitness winner 17\n",
      "(np.True_, np.float64(-72865.90042854371), np.int64(5000))\n",
      "New fitness winner 18\n",
      "(np.True_, np.float64(-69554.48978770156), np.int64(5000))\n",
      "New fitness winner 19\n",
      "(np.True_, np.float64(-63471.682471437), np.int64(5000))\n",
      "New fitness winner 20\n",
      "(np.True_, np.float64(-71223.43753972577), np.int64(5000))\n",
      "New fitness winner 21\n",
      "(np.False_, np.float64(-182178.8947214415), np.int64(4921))\n",
      "New fitness winner 22\n",
      "(np.True_, np.float64(-58777.23935410857), np.int64(5000))\n",
      "New fitness winner 23\n",
      "(np.False_, np.float64(-62319.811178710646), np.int64(4955))\n",
      "New fitness winner 24\n",
      "(np.True_, np.float64(-60896.333930295885), np.int64(5000))\n",
      "New fitness winner 25\n",
      "(np.True_, np.float64(-63483.85746808381), np.int64(5000))\n",
      "New fitness winner 26\n",
      "(np.True_, np.float64(-66304.38407661332), np.int64(5000))\n",
      "New fitness winner 27\n",
      "(np.True_, np.float64(-58555.26700078402), np.int64(5000))\n",
      "New fitness winner 28\n",
      "(np.True_, np.float64(-71446.95376664145), np.int64(5000))\n",
      "New fitness winner 29\n",
      "(np.False_, np.float64(-68182.99305782643), np.int64(4939))\n",
      "New fitness winner 30\n",
      "(np.True_, np.float64(-67016.57305714421), np.int64(5000))\n",
      "New fitness winner 31\n",
      "(np.False_, np.float64(-70249.8469677479), np.int64(4978))\n",
      "New fitness winner 32\n",
      "(np.True_, np.float64(-58245.33044669949), np.int64(5000))\n",
      "New fitness winner 33\n",
      "(np.True_, np.float64(-63128.16654325079), np.int64(5000))\n",
      "New fitness winner 34\n",
      "(np.True_, np.float64(-68367.47117527574), np.int64(5000))\n",
      "New fitness winner 35\n",
      "(np.True_, np.float64(-81309.85681984913), np.int64(5000))\n",
      "New fitness winner 36\n",
      "(np.False_, np.float64(-70271.59671824332), np.int64(4996))\n",
      "New fitness winner 37\n",
      "(np.False_, np.float64(-84710.6877315375), np.int64(4982))\n",
      "New fitness winner 38\n",
      "(np.True_, np.float64(-59368.928782787196), np.int64(5000))\n",
      "New fitness winner 39\n",
      "(np.True_, np.float64(-111542.83485577109), np.int64(5000))\n",
      "New fitness winner 40\n",
      "(np.True_, np.float64(-68375.67387843222), np.int64(5000))\n"
     ]
    }
   ],
   "source": [
    "POPULATION = [generate_individual(DATA,LABELS) for _ in range(POPULATION_SIZE)]\n",
    "POPULATION = sorted(POPULATION,key= lambda x : x.fitness)\n",
    "winners = []\n",
    "histories = []\n",
    "for i in range(NUM_TOURNAMENTS):\n",
    "    TOURNAMENT_POP = POPULATION[(POPULATION_SIZE//NUM_TOURNAMENTS)*i:(POPULATION_SIZE//NUM_TOURNAMENTS)*(i+1)]\n",
    "    TOURNAMENT_DATA = DATA[:,(DATA.shape[1]//NUM_TOURNAMENTS)*i:(DATA.shape[1]//NUM_TOURNAMENTS)*(i+1)]\n",
    "    TOURNAMENT_LABELS = LABELS[(DATA.shape[1]//NUM_TOURNAMENTS)*i:(DATA.shape[1]//NUM_TOURNAMENTS)*(i+1)]\n",
    "\n",
    "    #print(f\"Starting tournament n: {i+1}\")\n",
    "    winner, history, _ = EA_resolution(TOURNAMENT_GENERATIONS,TOURNAMENT_POP,TOURNAMENT_DATA,TOURNAMENT_LABELS)\n",
    "    print(f\"Winner of Tounament n: {i+1}: {winner}\")\n",
    "    for i in range(PROBLEM_SIZE):\n",
    "        UNARY_OPERATORS_WEIGHTS[i] = compute_unary_weights(UNARY_OPERATORS,i,DATA,LABELS) \n",
    "        BINARY_OPERATORS_WEIGHTS[i] = [1/len(BINARY_OPERATORS) for _ in BINARY_OPERATORS]\n",
    "    winners.append(winner)\n",
    "    histories.append(history)\n",
    "\n",
    "for i,w in enumerate(winners):\n",
    "    mse, _, right_sign, count_right_sign, _ = compute_FX(w.genome, DATA,LABELS)\n",
    "    w.fitness = (right_sign, -mse, count_right_sign)\n",
    "    print(f\"New fitness winner {i+1}\")\n",
    "    print(w.fitness)"
   ]
  },
  {
   "cell_type": "code",
   "execution_count": 1420,
   "metadata": {},
   "outputs": [
    {
     "name": "stdout",
     "output_type": "stream",
     "text": [
      "Generating new competitors\n",
      "[Individual(genome=[np.float64(1.4738), '', 1.1, np.str_('X_0'), '-', np.float64(0.006834374999999999), 'exp', np.float64(0.23835548000000006), np.str_('X_1'), '+', np.float64(-0.36905625), 'abs', np.float64(-0.9606), np.str_('X_0'), '-', -7.5938, 'exp', np.float64(-0.7634), np.str_('X_1'), '-'], fitness=(np.False_, np.float64(-76729.7216059563), np.int64(4943))), Individual(genome=[np.float64(3.5162), 'reciprocal', np.float64(-0.6889), np.str_('X_0'), '-', 1.0, 'exp', 1.2100000000000002, np.str_('X_1'), '+', np.float64(-0.0025628906249999996), 'exp', 1.3310000000000004, np.str_('X_1'), '*', np.float64(-0.0329), 'reciprocal', 1, np.str_('X_0'), '/', -5.0625, 'abs', 1.9487171000000014, np.str_('X_0'), '-'], fitness=(np.True_, np.float64(-63182.26226179646), np.int64(5000))), Individual(genome=[np.float64(-0.0010125), 'tan', np.float64(1.4031), np.str_('X_1'), '-', np.float64(-12.2607), 'arctan', 1, np.str_('X_0'), '*', np.float64(0.9656), 'sin', np.float64(0.9681), np.str_('X_1'), '-', -17.0861, 'sin', np.float64(1.365), np.str_('X_1'), '*'], fitness=(np.False_, np.float64(-88112.56301483407), np.int64(4981))), Individual(genome=[-5.0625, 'sin', 1, np.str_('X_1'), '-', np.float64(0.0132), '', 1.1, np.str_('X_1'), '-', np.float64(-0.0354375), 'tan', np.float64(-1.4056), np.str_('X_0'), '-', 3.375, 'arctan', 1, np.str_('X_1'), '*'], fitness=(np.False_, np.float64(-369427.4310396679), np.int64(4963))), Individual(genome=[5.0625, 'abs', 1, np.str_('X_1'), '+', np.float64(3.7233), 'abs', 1.1, np.str_('X_0'), '+'], fitness=(np.True_, np.float64(-66631.76396953534), np.int64(5000))), Individual(genome=[17.0861, 'abs', np.float64(0.9806808000000004), np.str_('X_1'), '+', np.float64(-0.26173125), 'sin', np.float64(-1.4865), np.str_('X_0'), '+', 3.375, '', np.float64(-1.4627), np.str_('X_1'), '+', np.float64(0.26483203125), 'exp', np.float64(-1.5605370000000003), np.str_('X_0'), '*'], fitness=(np.False_, np.float64(-106789.63577225276), np.int64(4988))), Individual(genome=[5.0625, 'abs', 1.4641000000000006, np.str_('X_1'), '+', np.float64(1.401), 'abs', 1, np.str_('X_0'), '*'], fitness=(np.True_, np.float64(-60921.5331689321), np.int64(5000))), Individual(genome=[np.float64(-0.1314), 'arctan', 1, np.str_('X_0'), '+', np.float64(0.0036000000000000003), 'cos', np.float64(-0.1592), np.str_('X_1'), '/', np.float64(-0.4480312499999999), 'arctan', np.float64(0.8847), np.str_('X_0'), '*'], fitness=(np.True_, np.float64(-67987.24513790836), np.int64(5000))), Individual(genome=[np.float64(0.013049999999999999), 'reciprocal', 1, np.str_('X_1'), '+', 1, '', 1, np.str_('X_1'), '+', np.float64(-0.23118750000000002), 'tan', np.float64(0.2838), np.str_('X_0'), '*', np.float64(0.0083), 'reciprocal', 1, np.str_('X_1'), '/', -1.5, 'arctan', 1, np.str_('X_0'), '*'], fitness=(np.True_, np.float64(-70489.46019178575), np.int64(5000))), Individual(genome=[-25.6291, '', 1, np.str_('X_0'), '+', np.float64(0.010251562499999999), 'cos', np.float64(-0.5111), np.str_('X_1'), '*', np.float64(-0.20908125), 'sin', 1, np.str_('X_0'), '+', -5.0625, 'exp', np.float64(-0.7647200000000001), np.str_('X_1'), '-', np.float64(1.4916), 'abs', 1, np.str_('X_0'), '*'], fitness=(np.True_, np.float64(-74125.34286320349), np.int64(5000))), Individual(genome=[-7.5938, 'abs', 1, np.str_('X_0'), '-', -1.8601, 'cos', np.float64(0.4761), np.str_('X_0'), '-'], fitness=(np.True_, np.float64(-68230.80993904478), np.int64(5000))), Individual(genome=[np.float64(0.2980125), '', np.float64(0.27929000000000004), np.str_('X_0'), '-', np.float64(-0.27675), 'tan', 1, np.str_('X_0'), '*', -7.5938, 'abs', 1.3310000000000004, np.str_('X_1'), '-'], fitness=(np.False_, np.float64(-71701.04028740826), np.int64(4977))), Individual(genome=[np.float64(0.03189375), 'arctan', 1, np.str_('X_1'), '-', np.float64(6.5822), 'arctan', 1, np.str_('X_0'), '-', np.float64(0.09995273437499999), 'sin', np.float64(0.7598), np.str_('X_1'), '+', np.float64(-0.617), '', 1.2100000000000002, np.str_('X_1'), '*', 17.0861, 'abs', np.float64(-0.5309), np.str_('X_0'), '+', np.float64(1.0725), 'abs', np.float64(1.4835326000000004), np.str_('X_0'), '+'], fitness=(np.False_, np.float64(-59859.46139436148), np.int64(4971))), Individual(genome=[np.float64(0.4036552734375), 'abs', np.float64(1.5534101000000002), np.str_('X_1'), '+', np.float64(0.18652499999999997), 'exp', np.float64(1.36499), np.str_('X_0'), '/'], fitness=(np.True_, np.float64(-75375.07677040412), np.int64(5000))), Individual(genome=[5.0625, 'abs', 1.4641000000000006, np.str_('X_1'), '+', np.float64(0.9816), 'abs', 1.2100000000000002, np.str_('X_0'), '*'], fitness=(np.True_, np.float64(-61648.47930249471), np.int64(5000))), Individual(genome=[np.float64(-0.23355), '', np.float64(1.6803600000000003), np.str_('X_0'), '+', np.float64(0.0738), 'sin', np.float64(-1.4538), np.str_('X_0'), '/', np.float64(0.06150937499999999), 'tan', np.float64(-0.7329), np.str_('X_1'), '-'], fitness=(np.True_, np.float64(-71082.60384478339), np.int64(5000))), Individual(genome=[1.5, 'tan', np.float64(-0.4775), np.str_('X_0'), '-', np.float64(0.095625), 'reciprocal', 1, np.str_('X_0'), '/'], fitness=(np.True_, np.float64(-72865.90042854371), np.int64(5000))), Individual(genome=[np.float64(-0.143521875), 'exp', 1.771561000000001, np.str_('X_1'), '-', 7.5938, 'exp', 1, np.str_('X_0'), '*'], fitness=(np.True_, np.float64(-69554.48978770156), np.int64(5000))), Individual(genome=[np.float64(-0.0030375), 'exp', 1.1, np.str_('X_1'), '+', np.float64(-0.29328750000000003), 'exp', np.float64(0.9587366030000005), np.str_('X_0'), '*', np.float64(4.479915821001294e-05), 'exp', np.float64(1.50447), np.str_('X_1'), '/', np.float64(0.14655937500000005), 'exp', np.float64(-2.2618880900000007), np.str_('X_0'), '*', 2.25, 'exp', 1.3310000000000004, np.str_('X_0'), '+'], fitness=(np.True_, np.float64(-63471.682471437), np.int64(5000))), Individual(genome=[np.float64(-0.7298), 'exp', 1.2100000000000002, np.str_('X_1'), '+', np.float64(0.1913625), 'abs', 1.2100000000000002, np.str_('X_1'), '*', -7.5938, 'abs', 1, np.str_('X_0'), '*', np.float64(0.12301875), 'cos', np.float64(-0.7003), np.str_('X_0'), '+'], fitness=(np.True_, np.float64(-71223.43753972577), np.int64(5000))), Individual(genome=[np.float64(-0.0353109375), '', 1, np.str_('X_1'), '-', np.float64(0.06663515625), 'tan', np.float64(-1.0925), np.str_('X_0'), '*', np.float64(0.054674999999999994), 'exp', 1.1, np.str_('X_1'), '/', -5.0625, 'abs', 1.3310000000000004, np.str_('X_0'), '-', np.float64(0.21971250000000006), 'tan', np.float64(-1.0301), np.str_('X_0'), '-'], fitness=(np.False_, np.float64(-182178.8947214415), np.int64(4921))), Individual(genome=[np.float64(0.00765), 'abs', 1, np.str_('X_1'), '-', np.float64(-0.0597375), 'exp', 1.1, np.str_('X_0'), '+', np.float64(-0.07289999999999999), 'exp', np.float64(-1.1374000000000002), np.str_('X_1'), '/', np.float64(0.125325), 'sin', 1, np.str_('X_0'), '+', 5.0625, 'arctan', 1, np.str_('X_1'), '+', 3.375, 'exp', np.float64(-1.112), np.str_('X_1'), '+'], fitness=(np.True_, np.float64(-58777.23935410857), np.int64(5000))), Individual(genome=[np.float64(0.06855), 'abs', 1.3310000000000004, np.str_('X_0'), '-', np.float64(-0.00855), 'arctan', 1, np.str_('X_1'), '/', np.float64(0.295396875), 'exp', 1.771561000000001, np.str_('X_0'), '+', 1.0, '', 1.1, np.str_('X_1'), '*', np.float64(0.07821562500000001), 'reciprocal', np.float64(1.5297), np.str_('X_1'), '+'], fitness=(np.False_, np.float64(-62319.811178710646), np.int64(4955))), Individual(genome=[np.float64(-0.1278), 'abs', 1.4641000000000006, np.str_('X_0'), '-', np.float64(0.0053), 'sin', np.float64(-1.1968), np.str_('X_1'), '/', -11.3907, '', 1, np.str_('X_0'), '+', -2.25, 'reciprocal', 1, np.str_('X_1'), '/'], fitness=(np.True_, np.float64(-60896.333930295885), np.int64(5000))), Individual(genome=[np.float64(0.047840625), '', np.float64(-0.14311000000000001), np.str_('X_1'), '-', np.float64(1.2975), 'reciprocal', 1, np.str_('X_0'), '/', np.float64(-0.15569560546875), 'exp', 1, np.str_('X_1'), '-', np.float64(1.3446), 'exp', 2.1435888100000016, np.str_('X_0'), '*'], fitness=(np.True_, np.float64(-63483.85746808381), np.int64(5000))), Individual(genome=[np.float64(0.166587890625), 'tan', np.float64(0.5892), np.str_('X_0'), '-', np.float64(-0.042287695312500005), 'sin', np.float64(-0.9828), np.str_('X_0'), '*', np.float64(0.0011390624999999999), 'sin', 1, np.str_('X_1'), '/', -2.25, '', 1, np.str_('X_1'), '*'], fitness=(np.True_, np.float64(-66304.38407661332), np.int64(5000))), Individual(genome=[-3.375, 'exp', 1.2100000000000002, np.str_('X_1'), '-', np.float64(0.26995781249999995), 'exp', np.float64(1.3627), np.str_('X_0'), '*', np.float64(-0.1401046875), 'abs', np.float64(1.4384), np.str_('X_1'), '-'], fitness=(np.True_, np.float64(-58555.26700078402), np.int64(5000))), Individual(genome=[np.float64(0.021150000000000002), '', 1.3310000000000004, np.str_('X_1'), '+', np.float64(0.0051), 'arctan', 1.2100000000000002, np.str_('X_1'), '/', np.float64(0.7396), '', 1, np.str_('X_0'), '-'], fitness=(np.True_, np.float64(-71446.95376664145), np.int64(5000))), Individual(genome=[-5.0625, 'abs', np.float64(-1.7010206620000003), np.str_('X_0'), '-', np.float64(-0.5248), 'cos', np.float64(1.3533), np.str_('X_1'), '+', np.float64(0.03189375), '', 1.2100000000000002, np.str_('X_1'), '-'], fitness=(np.False_, np.float64(-68182.99305782643), np.int64(4939))), Individual(genome=[-11.3907, 'exp', 1.4641000000000006, np.str_('X_1'), '-', np.float64(0.077175), 'exp', 1.4641000000000006, np.str_('X_0'), '*', np.float64(9.634181502548366e-05), 'reciprocal', 1, np.str_('X_1'), '-'], fitness=(np.True_, np.float64(-67016.57305714421), np.int64(5000))), Individual(genome=[np.float64(0.6476), 'exp', 1.4641000000000006, np.str_('X_0'), '-', np.float64(0.007688671874999999), 'tan', np.float64(0.7634), np.str_('X_1'), '+', np.float64(-0.0872), 'exp', np.float64(1.4254), np.str_('X_0'), '/'], fitness=(np.False_, np.float64(-70249.8469677479), np.int64(4978))), Individual(genome=[np.float64(0.20688750000000003), 'exp', np.float64(1.18272), np.str_('X_0'), '-', -3.375, 'exp', 1.6105100000000008, np.str_('X_1'), '*'], fitness=(np.True_, np.float64(-58245.33044669949), np.int64(5000))), Individual(genome=[np.float64(-0.3805892578125), 'abs', np.float64(2.091466850000001), np.str_('X_1'), '+', -7.5938, 'abs', 1.2100000000000002, np.str_('X_0'), '*'], fitness=(np.True_, np.float64(-63128.16654325079), np.int64(5000))), Individual(genome=[np.float64(0.6574), 'exp', 1.3310000000000004, np.str_('X_1'), '+', -7.5938, 'abs', 1, np.str_('X_1'), '-'], fitness=(np.True_, np.float64(-68367.47117527574), np.int64(5000))), Individual(genome=[np.float64(-0.38677500000000004), 'exp', 2.5937424601000023, np.str_('X_0'), '-', np.float64(0.023066015625), 'exp', np.float64(1.0959454000000002), np.str_('X_1'), '+'], fitness=(np.True_, np.float64(-81309.85681984913), np.int64(5000))), Individual(genome=[np.float64(3.7876), 'cos', np.float64(-1.2412), np.str_('X_1'), '-', -7.5938, 'exp', np.float64(-0.36148629000000015), np.str_('X_0'), '-'], fitness=(np.False_, np.float64(-70271.59671824332), np.int64(4996))), Individual(genome=[7.5938, 'abs', 1, np.str_('X_1'), '+', np.float64(0.08505), 'tan', 1, np.str_('X_1'), '-'], fitness=(np.False_, np.float64(-84710.6877315375), np.int64(4982))), Individual(genome=[np.float64(0.054674999999999994), 'arctan', np.float64(0.2634), np.str_('X_1'), '-', 2.25, 'exp', np.float64(1.7053740000000002), np.str_('X_1'), '-', np.float64(-0.1711125), 'exp', 1.6105100000000008, np.str_('X_0'), '*', -5.0625, 'abs', np.float64(1.1466565000000002), np.str_('X_0'), '-'], fitness=(np.True_, np.float64(-59368.928782787196), np.int64(5000))), Individual(genome=[np.float64(0.000759375), 'exp', np.float64(1.2001990000000002), np.str_('X_1'), '-', 3.375, 'exp', 1.3310000000000004, np.str_('X_0'), '+', 1.0, 'exp', 1, np.str_('X_1'), '*'], fitness=(np.True_, np.float64(-111542.83485577109), np.int64(5000))), Individual(genome=[np.float64(-0.028800000000000003), 'abs', np.float64(-1.7561001040000006), np.str_('X_0'), '+', np.float64(-0.033525), 'exp', 1, np.str_('X_0'), '/', 5.0625, 'abs', 1.1, np.str_('X_1'), '+'], fitness=(np.True_, np.float64(-68375.67387843222), np.int64(5000)))]\n",
      "1600\n",
      "Starting final Tournament\n"
     ]
    },
    {
     "name": "stderr",
     "output_type": "stream",
     "text": [
      "  6%|▋         | 253/4000 [00:26<06:17,  9.92it/s]"
     ]
    },
    {
     "name": "stdout",
     "output_type": "stream",
     "text": [
      "\t\tBest individual found at iteration 250:\n",
      "\t\t\t[np.float64(-0.28755), 'abs', 1.9487171000000014, np.str_('X_0'), '-', np.float64(0.00795), 'sin', np.float64(-1.2217), np.str_('X_1'), '/', -57.6655, '', 1.2100000000000002, np.str_('X_0'), '+', -7.5938, 'reciprocal', 1, np.str_('X_1'), '/']\n",
      "\t\t\t(np.True_, np.float64(-44140.29810353471), np.int64(5000))\n"
     ]
    },
    {
     "name": "stderr",
     "output_type": "stream",
     "text": [
      " 12%|█▏        | 498/4000 [00:51<08:06,  7.20it/s]"
     ]
    },
    {
     "name": "stdout",
     "output_type": "stream",
     "text": [
      "Reset weights\n"
     ]
    },
    {
     "name": "stderr",
     "output_type": "stream",
     "text": [
      " 13%|█▎        | 501/4000 [00:51<07:52,  7.40it/s]"
     ]
    },
    {
     "name": "stdout",
     "output_type": "stream",
     "text": [
      "\t\tBest individual found at iteration 500:\n",
      "\t\t\t[np.float64(-0.28755), 'abs', 1.9487171000000014, np.str_('X_0'), '-', np.float64(0.00795), 'sin', np.float64(-1.2217), np.str_('X_1'), '/', -57.6655, '', 1.2100000000000002, np.str_('X_0'), '+', -7.5938, 'reciprocal', 1, np.str_('X_1'), '/']\n",
      "\t\t\t(np.True_, np.float64(-44140.29810353471), np.int64(5000))\n"
     ]
    },
    {
     "name": "stderr",
     "output_type": "stream",
     "text": [
      " 19%|█▊        | 748/4000 [01:17<05:38,  9.61it/s]"
     ]
    },
    {
     "name": "stdout",
     "output_type": "stream",
     "text": [
      "Early stopping, not finding better solutions\n",
      "Winner of Final Tounament : Individual(genome=[np.float64(-0.28755), 'abs', 1.9487171000000014, np.str_('X_0'), '-', np.float64(0.00795), 'sin', np.float64(-1.2217), np.str_('X_1'), '/', -57.6655, '', 1.2100000000000002, np.str_('X_0'), '+', -7.5938, 'reciprocal', 1, np.str_('X_1'), '/'], fitness=(np.True_, np.float64(-44140.29810353471), np.int64(5000)))\n"
     ]
    },
    {
     "name": "stderr",
     "output_type": "stream",
     "text": [
      "\n"
     ]
    }
   ],
   "source": [
    "print(\"Generating new competitors\")\n",
    "NEW_POPULATION = []\n",
    "NEW_POPULATION.extend(winners)\n",
    "#NEW_POPULATION.extend(POPULATION)\n",
    "print(NEW_POPULATION)\n",
    "while len(NEW_POPULATION) != POPULATION_SIZE:\n",
    "    p = rng.choice(winners,1)[0]\n",
    "    child, _ = mutation(p,1,DATA,LABELS)\n",
    "    NEW_POPULATION.append(child)\n",
    "print(len(NEW_POPULATION))\n",
    "print(\"Starting final Tournament\")\n",
    "winner, history, _ = EA_resolution(MAX_GENERATIONS,NEW_POPULATION,DATA,LABELS)\n",
    "print(f\"Winner of Final Tounament : {winner}\")"
   ]
  },
  {
   "cell_type": "code",
   "execution_count": 1421,
   "metadata": {},
   "outputs": [],
   "source": [
    "def fine_tune_winner(winner: Individual, x, y):\n",
    "    \n",
    "    best_genome = winner.genome.copy()\n",
    "    best_fitness = winner.fitness\n",
    "    blocks = [best_genome[i:i + 5] for i in range(0, len(best_genome), 5)]\n",
    "    n_no_inc = 0\n",
    "\n",
    "    # tuning each costant\n",
    "    def tune_constant(index,term, curr_genome, curr_fitness):\n",
    "        mutation_factor = 1.002\n",
    "        improve = True\n",
    "        direction_changed = False\n",
    "        while improve:\n",
    "\n",
    "            blocks[index][term] *= mutation_factor  # Modify costant\n",
    "            if round(blocks[index][term])!=0: \n",
    "                blocks[index][term] = round(blocks[index][term],4)\n",
    "            new_genome = [elem for block in blocks for elem in block]\n",
    "            new_mse, new_increase, right_sign, count, _ = compute_FX(new_genome, x, y)\n",
    "            new_fitness = (right_sign, -new_mse, count)\n",
    "            # Aggiorna la soluzione migliore\n",
    "            if new_fitness > curr_fitness:\n",
    "                curr_fitness = new_fitness\n",
    "                curr_genome = new_genome\n",
    "                mutation_factor/=mutation_factor\n",
    "            else:\n",
    "                blocks[index][term] /= mutation_factor  # revert change\n",
    "                if not direction_changed:\n",
    "                    direction_changed = True\n",
    "                    mutation_factor = 0.998 # try to explore backward\n",
    "                else: \n",
    "                    improve = False\n",
    "        \n",
    "        return curr_genome,curr_fitness\n",
    "\n",
    "    # Fine-tuning for costants\n",
    "    for i in tqdm(range(50000)):\n",
    "\n",
    "        idxs = rng.choice(len(blocks),rng.integers(0.5,len(blocks)))\n",
    "\n",
    "        for idx in idxs:\n",
    "            if rng.random()<0.5:\n",
    "                new_genome, new_fitness = tune_constant(idx,0, best_genome, best_fitness)  \n",
    "            else:\n",
    "                new_genome, new_fitness = tune_constant(idx,2, best_genome, best_fitness)\n",
    "        \n",
    "            if new_fitness > best_fitness:\n",
    "                best_fitness = new_fitness\n",
    "                best_genome = new_genome\n",
    "                n_no_inc = 0\n",
    "            else:\n",
    "                n_no_inc += 1\n",
    "\n",
    "        if i % 5000 == 0 and i != 0:\n",
    "            print(best_genome)\n",
    "            print(best_fitness)\n",
    "\n",
    "        if n_no_inc > 1000:\n",
    "            print(\"Early stopping\")\n",
    "            break\n",
    "\n",
    "    print(\"New best fitness:\", best_fitness)\n",
    "    print(\"New best genome:\", best_genome)\n",
    "    return Individual(best_genome, best_fitness)\n"
   ]
  },
  {
   "cell_type": "code",
   "execution_count": 1422,
   "metadata": {},
   "outputs": [
    {
     "name": "stdout",
     "output_type": "stream",
     "text": [
      "initial best\n",
      "(np.True_, np.float64(-44140.29810353471), np.int64(5000))\n"
     ]
    },
    {
     "name": "stderr",
     "output_type": "stream",
     "text": [
      "  2%|▏         | 767/50000 [00:00<00:34, 1408.47it/s]"
     ]
    },
    {
     "name": "stdout",
     "output_type": "stream",
     "text": [
      "Early stopping\n",
      "New best fitness: (np.True_, np.float64(-43958.15732256207), np.int64(5000))\n",
      "New best genome: [np.float64(-0.2858281482996), 'abs', 1.9486973947895792, np.str_('X_0'), '-', np.float64(0.0079659), 'sin', np.float64(-1.2740480961923848), np.str_('X_1'), '/', -57.78076152304609, '', 1.2100200400801604, np.str_('X_0'), '+', -7.578456913827655, 'reciprocal', 1.0, np.str_('X_1'), '/']\n"
     ]
    },
    {
     "name": "stderr",
     "output_type": "stream",
     "text": [
      "\n"
     ]
    }
   ],
   "source": [
    "print(\"initial best\")\n",
    "print(winner.fitness)\n",
    "w = fine_tune_winner(winner,DATA,LABELS)"
   ]
  },
  {
   "cell_type": "code",
   "execution_count": 1431,
   "metadata": {},
   "outputs": [
    {
     "data": {
      "image/png": "[encoded data removed]",
      "text/plain": [
       "<IPython.core.display.Image object>"
      ]
     },
     "metadata": {},
     "output_type": "display_data"
    }
   ],
   "source": [
    "from importlib import reload\n",
    "import visualization\n",
    "import graphviz\n",
    "from IPython.display import Image, display\n",
    "reload(visualization)\n",
    "\n",
    "graph = visualization.create_formula_graph(w.genome)\n",
    "img = graph.pipe(\"png\")\n",
    "display(Image(img))"
   ]
  },
  {
   "cell_type": "code",
   "execution_count": 1424,
   "metadata": {},
   "outputs": [],
   "source": [
    "def compute_FX_FINAL(F,X, Y)->np.ndarray:\n",
    "    \n",
    "    # Number of terms\n",
    "    num_terms = len(F) // 5\n",
    "\n",
    "    # Pre-compute fixed F values\n",
    "    coefficients = np.array([float(F[5 * i]) for i in range(num_terms)])\n",
    "    variable_costs = np.array([float(F[2 + 5 * i]) for i in range(num_terms)])\n",
    "    columns = np.array([int(F[3 + 5 * i].split(\"_\")[1]) for i in range(num_terms)])\n",
    "    operations = [F[1 + 5 * i] for i in range(num_terms)]\n",
    "    operators = [F[4 + 5 * i] for i in range(num_terms)]\n",
    "\n",
    "    # Map unary operations\n",
    "    unary_funcs = [UNARY_OPERATIONS[op] for op in operations]\n",
    "\n",
    "    # Extract the specific columns from X and apply variable costs\n",
    "    X_selected = X[columns, :]  # Shape: (num_terms, num_rows)\n",
    "    X_transformed = X_selected * variable_costs[:, np.newaxis]  # Broadcasting\n",
    "\n",
    "    # Apply unary functions (broadcasting over rows)\n",
    "    for i, func in enumerate(unary_funcs):\n",
    "        X_transformed[i, :] = func(X_transformed[i, :])\n",
    "\n",
    "    # Multiply by coefficients\n",
    "    T = coefficients[:, np.newaxis] * X_transformed  # Shape: (num_terms, num_rows)\n",
    "\n",
    "    # Apply the operators\n",
    "    Y_pred = np.zeros(X.shape[1])\n",
    "    for i, op in enumerate(operators):\n",
    "        if op == \"+\":\n",
    "            Y_pred += T[i, :]\n",
    "        elif op == \"-\":\n",
    "            Y_pred -= T[i, :]\n",
    "        elif op == \"*\":\n",
    "            Y_pred *= T[i, :]\n",
    "        elif op == \"/\":\n",
    "            Y_pred /= np.where(T[i, :] != 0, T[i, :], 1)  # Avoid division by zero\n",
    "\n",
    "    Y_pred = Y_pred\n",
    "    # Metrics\n",
    "    mse = compute_MSE(Y_pred, Y)\n",
    "    diff_abs = np.abs(Y_pred) - np.abs(Y)\n",
    "    increase = np.mean(diff_abs) < 0\n",
    "    inc_dec_factor = np.mean(diff_abs)\n",
    "    right_sign = np.all((Y_pred > 0) == (Y > 0))\n",
    "    count_right_sign = np.sum((Y_pred > 0) == (Y > 0))\n",
    "\n",
    "    return mse, increase, right_sign, Y_pred, count_right_sign"
   ]
  },
  {
   "cell_type": "code",
   "execution_count": 1425,
   "metadata": {},
   "outputs": [
    {
     "name": "stdout",
     "output_type": "stream",
     "text": [
      "5000\n",
      "43521.8507686068\n",
      "Pred: 9.603607439866536, Real: 4.886874543831234\n",
      "Pred: 5.764619240917568, Real: 1.3625490324738976\n",
      "Pred: 52.54233198935451, Real: 26.71109035017986\n",
      "Pred: 5.300805156914113, Real: 1.814733881276463\n",
      "Pred: 0.6281813864009516, Real: 2.123309347216992\n",
      "Pred: 51.33766484489951, Real: 21.53280153867726\n",
      "Pred: 4.213093821046072, Real: 1.4467375348412779\n",
      "Pred: 4.0722881316647825, Real: 7.286492391823499\n",
      "Pred: 12.037669094485837, Real: 1.474519879659885\n",
      "Pred: 23.588288297989735, Real: 6.977184696414297\n",
      "Pred: 0.6153554926297599, Real: 2.669594590349818\n",
      "Pred: 9.207139002989653, Real: 1.3016481176729822\n",
      "Pred: 5.702997858685701, Real: 1.9771869621737075\n",
      "Pred: 2.997550778941323, Real: 1.5215510726837251\n",
      "Pred: 36.07465908215049, Real: 12.692574244458322\n",
      "Pred: 34.94460785561403, Real: 11.191916872235021\n",
      "Pred: 2.2720239174450985, Real: 1.7749070044803938\n",
      "Pred: 0.42331632956113496, Real: 3.7111853831377895\n",
      "Pred: 5.60147996170524, Real: 4.9491773187402455\n",
      "Pred: 53.0908464151553, Real: 45.055009610956816\n",
      "Pred: 1.751267546763302, Real: 1.741087536835633\n",
      "Pred: 0.235844277194036, Real: 2.343000519185968\n",
      "Pred: 25.727225439920712, Real: 42.633343834879064\n",
      "Pred: 46.7797211380521, Real: 39.083136813463526\n",
      "Pred: 34.06661063252088, Real: 12.548725066953423\n",
      "Pred: 15.250411000239698, Real: 26.185529598503738\n",
      "Pred: 39.8937400279695, Real: 28.440055919221603\n",
      "Pred: 0.004815506964094794, Real: 1.548042891357861\n",
      "Pred: 8.237961029185032, Real: 4.4211960447207055\n",
      "Pred: 4.678023200838812, Real: 1.522982114171361\n",
      "Pred: 4.146152302419101, Real: 2.5213450896368217\n",
      "Pred: 14.724812319341694, Real: 8.360122585764735\n",
      "Pred: 11.921073633180363, Real: 3.10241713371481\n",
      "Pred: 11.958968634115344, Real: 3.073333065418846\n",
      "Pred: 0.16686600492489717, Real: 1.384880338296041\n",
      "Pred: 0.19010595408481587, Real: 2.8573873527172227\n",
      "Pred: 0.002757148934718149, Real: 1.3140907514766025\n",
      "Pred: 0.7058604434630265, Real: 1.460427892856625\n",
      "Pred: 2.156418086119885, Real: 1.5820542952528052\n",
      "Pred: 19.791151278150544, Real: 6.044857747758153\n",
      "Pred: 0.03656154871760481, Real: 2.284158323723423\n",
      "Pred: 43.796933190062475, Real: 17.687464059547167\n",
      "Pred: 23.224249250357268, Real: 57.4707204758315\n",
      "Pred: 2.0001029219547783, Real: 1.7733743226172125\n",
      "Pred: 62.36582572831818, Real: 76.8783470830566\n",
      "Pred: 0.2595804484173958, Real: 2.118050506548655\n",
      "Pred: 8.074229102029268, Real: 1.6900031859894553\n",
      "Pred: 6.315267187912361, Real: 1.7172451537680231\n",
      "Pred: 2.2164048118646216, Real: 12.847633854859497\n",
      "Pred: 2.3612457697429483, Real: 1.5500128258251198\n"
     ]
    }
   ],
   "source": [
    "mse, increase, right_sign, Y_pred, count_right_sign = compute_FX_FINAL(w.genome,X,Y)\n",
    "print(count_right_sign)\n",
    "print(mse)\n",
    "for i in range(50):\n",
    "    print(f\"Pred: {Y_pred[i]}, Real: {Y[i]}\")"
   ]
  },
  {
   "cell_type": "code",
   "execution_count": 1426,
   "metadata": {},
   "outputs": [
    {
     "data": {
      "text/plain": [
       "[array([0.14544708, 0.17708726, 0.14818547, 0.14231246, 0.        ,\n",
       "        0.        , 0.        , 0.11125108, 0.        , 0.12489826,\n",
       "        0.15081838]),\n",
       " array([0.13287794, 0.17377059, 0.13276698, 0.1504408 , 0.        ,\n",
       "        0.        , 0.        , 0.12972208, 0.        , 0.13122129,\n",
       "        0.14920034])]"
      ]
     },
     "execution_count": 1426,
     "metadata": {},
     "output_type": "execute_result"
    }
   ],
   "source": [
    "UNARY_OPERATORS_WEIGHTS"
   ]
  },
  {
   "cell_type": "code",
   "execution_count": 1427,
   "metadata": {},
   "outputs": [
    {
     "data": {
      "text/plain": [
       "[array([0.1284081 , 0.12017488, 0.23296139, 0.51845563]),\n",
       " array([0.19538738, 0.44176094, 0.25177698, 0.1110747 ])]"
      ]
     },
     "execution_count": 1427,
     "metadata": {},
     "output_type": "execute_result"
    }
   ],
   "source": [
    "BINARY_OPERATORS_WEIGHTS"
   ]
  },
  {
   "cell_type": "code",
   "execution_count": 1428,
   "metadata": {},
   "outputs": [
    {
     "data": {
      "text/plain": [
       "Text(0, 0.5, 'Count')"
      ]
     },
     "execution_count": 1428,
     "metadata": {},
     "output_type": "execute_result"
    },
    {
     "data": {
      "image/png": "[encoded data removed]",
      "text/plain": [
       "<Figure size 1400x800 with 1 Axes>"
      ]
     },
     "metadata": {},
     "output_type": "display_data"
    }
   ],
   "source": [
    "#from itertools import accumulate\n",
    "from matplotlib import pyplot as plt\n",
    "\n",
    "#valid = [sol.fitness for sol in list(accumulate(history, max))]\n",
    "#Array of all costs only\n",
    "costs = [sol.fitness[1] for sol in history]\n",
    "#Plot\n",
    "plt.figure(figsize=(14, 8))             \n",
    "plt.title(\"mse improvment\")\n",
    "plt.grid()\n",
    "\n",
    "plt.scatter(range(len(costs)), costs, marker=\".\")\n",
    "\n",
    "plt.xlabel('Iteration')\n",
    "plt.ylabel('Count')"
   ]
  }
 ],
 "metadata": {
  "kernelspec": {
   "display_name": "CI2024_lab1",
   "language": "python",
   "name": "python3"
  },
  "language_info": {
   "codemirror_mode": {
    "name": "ipython",
    "version": 3
   },
   "file_extension": ".py",
   "mimetype": "text/x-python",
   "name": "python",
   "nbconvert_exporter": "python",
   "pygments_lexer": "ipython3",
   "version": "3.9.13"
  }
 },
 "nbformat": 4,
 "nbformat_minor": 2
}
