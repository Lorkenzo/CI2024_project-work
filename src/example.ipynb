{
 "cells": [
  {
   "cell_type": "code",
   "execution_count": null,
   "metadata": {
    "vscode": {
     "languageId": "plaintext"
    }
   },
   "outputs": [],
   "source": [
    "problem = np.load('problem_X.npz')\n",
    "x = problem['x']\n",
    "y = problem['y']\n",
    "x.shape\n",
    "\n",
    "def fX(x: np.ndarray) -> np.ndarray: \n",
    "    ...\n"
   ]
  }
 ],
 "metadata": {
  "language_info": {
   "name": "python"
  }
 },
 "nbformat": 4,
 "nbformat_minor": 2
}
