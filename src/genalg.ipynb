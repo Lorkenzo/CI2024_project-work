{
 "cells": [
  {
   "cell_type": "code",
   "execution_count": 79,
   "metadata": {},
   "outputs": [],
   "source": [
    "import numpy as np\n",
    "import random\n",
    "from dataclasses import dataclass\n",
    "from tqdm.auto import tqdm\n",
    "from typing import List\n",
    "import itertools"
   ]
  },
  {
   "cell_type": "code",
   "execution_count": 80,
   "metadata": {},
   "outputs": [
    {
     "name": "stdout",
     "output_type": "stream",
     "text": [
      "(2, 1000)\n",
      "(1000,)\n",
      "[2.98832053 0.8905889 ]\n",
      "3.1438089898863355\n"
     ]
    }
   ],
   "source": [
    "problem = np.load('../data/problem_0.npz')\n",
    "X = problem['x']\n",
    "Y = problem['y']\n",
    "\n",
    "DATA = X\n",
    "LABELS = Y\n",
    "\n",
    "print(DATA.shape)\n",
    "print(LABELS.shape)\n",
    "print(DATA[:,0])\n",
    "print(LABELS[0])\n",
    "PROBLEM_SIZE = DATA.shape[0]\n",
    "\n",
    "NUM_TOURNAMENTS = 3\n",
    "POPULATION_SIZE = PROBLEM_SIZE*20*NUM_TOURNAMENTS\n",
    "OFFSPRING_SIZE = int((POPULATION_SIZE//NUM_TOURNAMENTS)*0.8)\n",
    "MAX_GENERATIONS = 4000\n",
    "\n",
    "TOURNAMENT_GENERATIONS = 400\n",
    "INCREASE_COMPLEXITY_STEP = 250"
   ]
  },
  {
   "cell_type": "code",
   "execution_count": 81,
   "metadata": {},
   "outputs": [],
   "source": [
    "rng = np.random.Generator(np.random.PCG64(42))"
   ]
  },
  {
   "cell_type": "code",
   "execution_count": 82,
   "metadata": {},
   "outputs": [],
   "source": [
    "# Operators\n",
    "\n",
    "BINARY_OPERATORS = [\"+\", \"-\", \"*\", \"/\"]\n",
    "UNARY_OPERATORS = [\"sin\", \"cos\",\"tan\", \"exp\", \"log\",\"arcsin\",\"arccos\",\"arctan\",\"sqrt\",\"abs\",\"pow\"]\n",
    "VARIABLES = [\"X_\"+str(i) for i in range(PROBLEM_SIZE)]\n",
    "VARIABLES_WEIGHTS = [[1/len(VARIABLES) for _ in range(len(VARIABLES))]]\n",
    "VARIABLES_MAP = {var: i for i,var in enumerate(VARIABLES)}"
   ]
  },
  {
   "cell_type": "code",
   "execution_count": 83,
   "metadata": {},
   "outputs": [],
   "source": [
    "@dataclass\n",
    "class Individual:\n",
    "    genome: list\n",
    "    fitness: tuple"
   ]
  },
  {
   "cell_type": "code",
   "execution_count": 84,
   "metadata": {},
   "outputs": [],
   "source": [
    "def compute_MSE(Y_pred, Y_real):\n",
    "    \n",
    "    MSE = 100*np.square(Y_real-Y_pred).sum()/len(Y_real)\n",
    "    return MSE"
   ]
  },
  {
   "cell_type": "code",
   "execution_count": 85,
   "metadata": {},
   "outputs": [],
   "source": [
    "def compute_unary_weights(unary_operators,j,x,y):\n",
    "    \"\"\"\n",
    "    Compute unary operators weights depending on functions dominion and relation between input and output\n",
    "    \"\"\"\n",
    "    W = {op: 0 for op in unary_operators}\n",
    "\n",
    "    # Funzioni di dominio\n",
    "    def is_valid_tan(x,curr):\n",
    "        return np.abs(np.cos(x)) > 1e-9 and curr != -1\n",
    "\n",
    "    def is_valid_log(x,curr):\n",
    "        return x > 0 and curr != -1\n",
    "\n",
    "    def is_valid_sqrt(x,curr):\n",
    "        return x >= 0 and curr != -1\n",
    "\n",
    "    def is_valid_arcsin_arccos(x,curr):\n",
    "        return -1 <= x <= 1 and curr != -1\n",
    "\n",
    "    for i in range(x.shape[1]):  # Per ogni riga di x\n",
    "        curr_x = x[j, i]\n",
    "        curr_y = y[i]\n",
    "\n",
    "        for op in unary_operators:\n",
    "            if op == \"sin\" or op == \"cos\":\n",
    "                if np.abs(curr_y) > 100:\n",
    "                    W[op] += 2\n",
    "                elif -1 <= curr_y <= 1:\n",
    "                    W[op] += 5  \n",
    "                else:\n",
    "                    W[op] += 2\n",
    "\n",
    "            elif op == \"tan\":\n",
    "                if is_valid_tan(curr_x, W[op]):\n",
    "                    if np.abs(curr_y) > 100:\n",
    "                        W[op] += 5  \n",
    "                    else:\n",
    "                        W[op] += 3\n",
    "                else:\n",
    "                    W[op] = -1\n",
    "                                \n",
    "            elif op == \"exp\":\n",
    "                if curr_y < 0 and curr_x<0:\n",
    "                    W[op] +=1 \n",
    "                elif np.abs(curr_y) > 100 * np.abs(curr_x):\n",
    "                    W[op] += 5  \n",
    "                else:\n",
    "                    W[op] += 2\n",
    "\n",
    "            elif op == \"log\":\n",
    "                if is_valid_log(curr_x, W[op]):\n",
    "                    if curr_x < 1 and curr_y < 0:\n",
    "                        W[op] += 5  \n",
    "                    elif curr_y < curr_x:\n",
    "                        W[op] += 3  \n",
    "                    else:\n",
    "                        W[op] += 1\n",
    "                else:\n",
    "                    W[op] = -1\n",
    "\n",
    "            elif op == \"arcsin\" or op == \"arccos\":\n",
    "                if is_valid_arcsin_arccos(curr_x, W[op]):\n",
    "                    if -np.pi/2 <= curr_y <= np.pi/2:\n",
    "                        W[op] += 5 \n",
    "                    else:\n",
    "                        W[op] += 1\n",
    "                else:\n",
    "                    W[op] = -1\n",
    "\n",
    "            elif op == \"arctan\":\n",
    "                if -np.pi/2 <= curr_y <= np.pi/2:\n",
    "                    W[op] += 5  \n",
    "                else:\n",
    "                    W[op] += 2\n",
    "\n",
    "            elif op == \"sqrt\":\n",
    "                if is_valid_sqrt(curr_x, W[op]):\n",
    "                    if curr_y <= curr_x:\n",
    "                        W[op] += 5  # lower input\n",
    "                    else:\n",
    "                        W[op] += 1\n",
    "                else:\n",
    "                    W[op] = -1\n",
    "            elif op == \"abs\":\n",
    "                if curr_y >0 and curr_x <0: \n",
    "                    W[op] += 3\n",
    "                else:\n",
    "                    W[op] += 1\n",
    "\n",
    "    # Normalize weights\n",
    "    WArray = [W[op] if W[op] != -1 else 0 for op in unary_operators]\n",
    "    \n",
    "    tot_sum = np.sum(WArray)\n",
    "    if tot_sum > 0: \n",
    "        WArray = [float(w / tot_sum) for w in WArray]\n",
    "\n",
    "    return WArray\n"
   ]
  },
  {
   "cell_type": "code",
   "execution_count": 86,
   "metadata": {},
   "outputs": [],
   "source": [
    "UNARY_OPERATORS_WEIGHTS = [compute_unary_weights(UNARY_OPERATORS,i,DATA,LABELS) for i in range(PROBLEM_SIZE)]\n",
    "UNARY_OPERATORS_MAP = {op: i for i,op in enumerate(UNARY_OPERATORS)}\n",
    "BINARY_OPERATORS_WEIGHTS = [[1/len(BINARY_OPERATORS) for _ in BINARY_OPERATORS] for _ in range(PROBLEM_SIZE)]\n",
    "BINARY_OPERATORS_MAP = {op: i for i,op in enumerate(BINARY_OPERATORS)}"
   ]
  },
  {
   "cell_type": "markdown",
   "metadata": {},
   "source": [
    "### Genetic Program Logic\n",
    "\n",
    "We have to find a combination of X (numpy array for data of size (n,m)) with numpy operands that gives as result Y (numpy array for labels of size (m,)). <br>\n",
    "Each formula (genome) will have the form: \n",
    "<br><br>\n",
    "_0 Opb,1 A * Opu,1(X1*Av) Opb,2 B * Opu,2(X2*Bv) ... Opb,i I * Opu,i(Xi*Iv) ...Opb,n N * Opu,n(Xn*Nv)_\n",
    "\n",
    "- n: Problem size\n",
    "- Xi: Variable of col i for each row data sample\n",
    "- A, B, ..I, ..N: costants positive or negative that works as weights for the single term\n",
    "- Av, Bv, ..Iv, ..Nv: positive constants that wights only the single variable \n",
    "- Opu,n(..): unary operators for one variable\n",
    "- Opb,n: binary operators between two terms\n",
    "\n",
    "If the fitness doesn't improve for a fixed number of generation a generic term is added, increasing the complexity to _(prev_n + 1)_ \n",
    "\n",
    "Example of formula expression for 2 variable problem:\n",
    "[\"1\", \"\", \"1\", \"X_0\", \"+\", \"0.2\", \"sin\",\"1\", \"X_1\", \"+\"]"
   ]
  },
  {
   "cell_type": "code",
   "execution_count": 87,
   "metadata": {},
   "outputs": [],
   "source": [
    "UNARY_OPERATIONS = {\n",
    "        \"\": lambda x: x,\n",
    "        \"sin\": np.sin,\n",
    "        \"cos\": np.cos,\n",
    "        \"tan\":np.tan,\n",
    "        \"log\": np.log,\n",
    "        \"exp\": np.exp,\n",
    "        \"arccos\": np.arccos,\n",
    "        \"arcsin\":np.arcsin,\n",
    "        \"arctan\":np.arctan,\n",
    "        \"sqrt\":np.sqrt,\n",
    "        \"abs\":np.abs\n",
    "    }"
   ]
  },
  {
   "cell_type": "code",
   "execution_count": 88,
   "metadata": {},
   "outputs": [],
   "source": [
    "def compute_FX(F, X, Y):\n",
    "    # Number of terms\n",
    "    num_terms = len(F) // 5\n",
    "\n",
    "    # Pre-compute fixed F values\n",
    "    coefficients = np.array([float(F[5 * i]) for i in range(num_terms)])\n",
    "    variable_costs = np.array([float(F[2 + 5 * i]) for i in range(num_terms)])\n",
    "    columns = np.array([int(F[3 + 5 * i].split(\"_\")[1]) for i in range(num_terms)])\n",
    "    operations = [F[1 + 5 * i] for i in range(num_terms)]\n",
    "    operators = [F[4 + 5 * i] for i in range(num_terms)]\n",
    "\n",
    "    # Map unary operations\n",
    "    unary_funcs = [UNARY_OPERATIONS[op] for op in operations]\n",
    "\n",
    "    # Extract the specific columns from X and apply variable costs\n",
    "    X_selected = X[columns, :]  # Shape: (num_terms, num_rows)\n",
    "    X_transformed = X_selected * variable_costs[:, np.newaxis]  # Broadcasting\n",
    "\n",
    "    # Apply unary functions (broadcasting over rows)\n",
    "    for i, func in enumerate(unary_funcs):\n",
    "        X_transformed[i, :] = func(X_transformed[i, :])\n",
    "\n",
    "    # Multiply by coefficients\n",
    "    T = coefficients[:, np.newaxis] * X_transformed  # Shape: (num_terms, num_rows)\n",
    "\n",
    "    # Apply the operators\n",
    "    Y_pred = np.zeros(X.shape[1])\n",
    "    for i, op in enumerate(operators):\n",
    "        if op == \"+\":\n",
    "            Y_pred += T[i, :]\n",
    "        elif op == \"-\":\n",
    "            Y_pred -= T[i, :]\n",
    "        elif op == \"*\":\n",
    "            Y_pred *= T[i, :]\n",
    "        elif op == \"/\":\n",
    "            Y_pred /= np.where(T[i, :] != 0, T[i, :], 1)  # Avoid division by zero\n",
    "\n",
    "    # Metrics\n",
    "    mse = compute_MSE(Y_pred, Y)\n",
    "    diff_abs = np.abs(Y_pred) - np.abs(Y)\n",
    "    increase = np.mean(diff_abs) < 0\n",
    "    inc_dec_factor = np.mean(diff_abs)\n",
    "    right_sign = np.all((Y_pred > 0) == (Y > 0))\n",
    "    count_right_sign = np.sum((Y_pred > 0) == (Y > 0))\n",
    "\n",
    "    return mse, increase, right_sign, count_right_sign, inc_dec_factor\n"
   ]
  },
  {
   "cell_type": "code",
   "execution_count": 89,
   "metadata": {},
   "outputs": [],
   "source": [
    "def new_term(individual_gen:List,n,y):\n",
    "    # i = 0\n",
    "    costant = 1\n",
    "    if np.any(y<0) and rng.random()<0.5: costant*=-1\n",
    "    individual_gen.append(costant)\n",
    "\n",
    "    # i = 3\n",
    "    var = rng.choice(VARIABLES,1 ,p=VARIABLES_WEIGHTS[0]) [0] \n",
    "    VARIABLES_WEIGHTS[0][VARIABLES_MAP[var]] = 0.1\n",
    "    VARIABLES_WEIGHTS[0] /= np.sum(VARIABLES_WEIGHTS[0])\n",
    "\n",
    "    # i = 1\n",
    "    unary_op = \"\" if rng.random() < 0.2 else str(rng.choice(UNARY_OPERATORS,1,p=UNARY_OPERATORS_WEIGHTS[int(var.split(\"_\")[1])])[0])\n",
    "    individual_gen.append(unary_op)\n",
    "\n",
    "    # i = 2\n",
    "    var_costant = 1 # the costant that multiply the variable start from 1\n",
    "    individual_gen.append(var_costant)\n",
    "    \n",
    "    individual_gen.append(var)\n",
    "\n",
    "    # i = 4\n",
    "    bin_op = rng.choice(BINARY_OPERATORS,1) if n !=0 else rng.choice([\"+\",\"-\"],1)\n",
    "    individual_gen.append(str(bin_op[0]))\n",
    "\n",
    "    return individual_gen"
   ]
  },
  {
   "cell_type": "code",
   "execution_count": 90,
   "metadata": {},
   "outputs": [],
   "source": [
    "def generate_individual(x,y,max_depth=PROBLEM_SIZE)->Individual:\n",
    "    individual_gen = []\n",
    "    for n in range(max_depth):\n",
    "\n",
    "        individual_gen = new_term(individual_gen,n,y)\n",
    "\n",
    "    mse, _, right_sign, count, _ = compute_FX(individual_gen,x,y)    \n",
    "    return Individual(individual_gen,(right_sign,-mse,count))"
   ]
  },
  {
   "cell_type": "code",
   "execution_count": 91,
   "metadata": {},
   "outputs": [],
   "source": [
    "def add_term(population,terms_added, x,y):\n",
    "    new_population = []\n",
    "    for ind in population:\n",
    "        new_genome = new_term(ind.genome.copy(),PROBLEM_SIZE+terms_added,y)\n",
    "        mse, _, right_sign, count, _  = compute_FX(ind.genome,x,y) \n",
    "        new_fitness = (right_sign,-mse,count) \n",
    "        new_population.append(Individual(new_genome,new_fitness))\n",
    "    return new_population"
   ]
  },
  {
   "cell_type": "code",
   "execution_count": 92,
   "metadata": {},
   "outputs": [],
   "source": [
    "def parent_selection(population):\n",
    "    # parent selection by rank, using a half fitness hole to prevent overfitting\n",
    "    # e.g. first individual with rank 0 will have higher probability to be chosen\n",
    "    rank_probs = [(len(population)-i-1)/sum(range(len(population))) for i in range(len(population))]\n",
    "    \n",
    "    if rng.random()<0.5:\n",
    "        # best by mse (population is already sorted by mse)\n",
    "        candidates = rng.choice(population, 5, replace=False, p = rank_probs)\n",
    "    else:\n",
    "        # best by right-sign count\n",
    "        best_by_right_sign = sorted(population, key=lambda i: i.fitness[2], reverse=True)\n",
    "        candidates = rng.choice(best_by_right_sign, 5, replace=False, p= rank_probs)\n",
    "    \n",
    "    selected_parents = rng.choice(candidates, 2, replace=False)\n",
    "\n",
    "    return selected_parents"
   ]
  },
  {
   "cell_type": "code",
   "execution_count": 93,
   "metadata": {},
   "outputs": [],
   "source": [
    "def survival_selection(population):\n",
    "    # Rank based selection + fitness hole based on right-sign count\n",
    "    new_population = []\n",
    "    new_genomes = []\n",
    "    for i in range(POPULATION_SIZE//NUM_TOURNAMENTS):\n",
    "        if population[i].genome not in new_genomes:\n",
    "            new_population.append(population[i])\n",
    "            new_genomes.append(population[i].genome)\n",
    "            if len(new_population) == (POPULATION_SIZE//NUM_TOURNAMENTS)//2:\n",
    "                break\n",
    "    population = sorted(population,key=lambda x : x.fitness[2],reverse=True)\n",
    "    for i in range(POPULATION_SIZE//NUM_TOURNAMENTS):\n",
    "        if population[i].genome not in new_genomes:\n",
    "            new_population.append(population[i])\n",
    "            new_genomes.append(population[i].genome)\n",
    "            if len(new_population) == POPULATION_SIZE//NUM_TOURNAMENTS:\n",
    "                break\n",
    "    \n",
    "    return new_population\n"
   ]
  },
  {
   "cell_type": "code",
   "execution_count": 94,
   "metadata": {},
   "outputs": [],
   "source": [
    "def update_weights(genome, sync_factor, increase: bool):\n",
    "    \n",
    "    for i in range(len(genome) // 5):\n",
    "        unary_term = genome[1 + 5 * i]\n",
    "        binary_term = genome[4 + 5 * i]\n",
    "        n_var = int(genome[3 + 5 * i].split(\"_\")[1])  # Numero della variabile\n",
    "\n",
    "        # Aggiorna i pesi per gli operatori unari\n",
    "        if unary_term != \"\":\n",
    "            unary_idx = UNARY_OPERATORS_MAP[unary_term]\n",
    "            if increase:\n",
    "                UNARY_OPERATORS_WEIGHTS[n_var][unary_idx] += sync_factor if UNARY_OPERATORS_WEIGHTS[n_var][unary_idx] <= 0.65 else 0\n",
    "            else:\n",
    "                UNARY_OPERATORS_WEIGHTS[n_var][unary_idx] -= sync_factor if UNARY_OPERATORS_WEIGHTS[n_var][unary_idx] >= 0.15 else 0\n",
    "            # Normalizza i pesi\n",
    "            UNARY_OPERATORS_WEIGHTS[n_var] /= np.sum(UNARY_OPERATORS_WEIGHTS[n_var])\n",
    "\n",
    "        # Aggiorna i pesi per gli operatori binari\n",
    "        binary_idx = BINARY_OPERATORS_MAP[binary_term]\n",
    "        if increase:\n",
    "            BINARY_OPERATORS_WEIGHTS[n_var][binary_idx] += sync_factor if BINARY_OPERATORS_WEIGHTS[n_var][binary_idx] <= 0.65 else 0\n",
    "        else:\n",
    "            BINARY_OPERATORS_WEIGHTS[n_var][binary_idx] -= sync_factor if BINARY_OPERATORS_WEIGHTS[n_var][binary_idx] >= 0.15 else 0\n",
    "        # Normalizza i pesi\n",
    "        BINARY_OPERATORS_WEIGHTS[n_var] /= np.sum(BINARY_OPERATORS_WEIGHTS[n_var])\n"
   ]
  },
  {
   "cell_type": "code",
   "execution_count": 95,
   "metadata": {},
   "outputs": [],
   "source": [
    "def xover(p1: Individual, p2: Individual, x, y) -> Individual:\n",
    "    ''' Exchange terms between two individuals '''\n",
    "    # Divide genomes into blocks\n",
    "    blocks1 = [p1.genome[i:i + 5] for i in range(0, len(p1.genome), 5)]\n",
    "    blocks2 = [p2.genome[i:i + 5] for i in range(0, len(p2.genome), 5)]\n",
    "    if len(blocks1) != len(blocks2): print(\"error\")\n",
    "    child_genome = p1.genome.copy()\n",
    "    new_fitness = ()\n",
    "    right_sign = p1.fitness[0] or p2.fitness[0]\n",
    "\n",
    "    rep_factor = 0\n",
    "    while rep_factor<0.5:\n",
    "        sync_factor = 0.03 if right_sign else 0.01\n",
    "        # Select random blocks to exchange\n",
    "        xover_blocks = rng.choice(range(len(blocks1)), rng.integers(0.5, len(blocks1)), replace=False)\n",
    "\n",
    "        # Exchange blocks\n",
    "        for b_i in xover_blocks:\n",
    "            #print(f\"i_xo: {np.where(np.array(blocks1)==blocks2[b_i][3])}\")\n",
    "            i_xo = np.where(np.array(blocks1)==blocks2[b_i][3])[0]\n",
    "            i_xo = i_xo[0] if len(i_xo)>0 else b_i\n",
    "            blocks1[i_xo] = blocks2[b_i]\n",
    "\n",
    "        # Rebuild child genome\n",
    "        child_genome = [elem for block in blocks1 for elem in block]\n",
    "\n",
    "        # Evaluate fitness\n",
    "        new_mse, _, right_sign, count, _ = compute_FX(child_genome, x, y)\n",
    "        new_fitness = (right_sign, -new_mse, count)\n",
    "\n",
    "        # Update weights based on fitness\n",
    "        if new_fitness > p1.fitness or new_fitness > p2.fitness:\n",
    "            update_weights(child_genome, sync_factor, increase=True)\n",
    "            break\n",
    "        else:\n",
    "            update_weights(child_genome, sync_factor, increase=False)\n",
    "        \n",
    "        rep_factor = rng.random()\n",
    "\n",
    "    return Individual(child_genome, new_fitness)\n"
   ]
  },
  {
   "cell_type": "code",
   "execution_count": 96,
   "metadata": {},
   "outputs": [],
   "source": [
    "def adjust_mutation_factor(mutation_factor, increase):\n",
    "    if increase: \n",
    "            mutation_factor= 1.1 #if mutation_factor >=1 else 1.2\n",
    "    else: \n",
    "        mutation_factor= 0.9 #if mutation_factor <=1 else 0.8\n",
    "    return mutation_factor"
   ]
  },
  {
   "cell_type": "code",
   "execution_count": 97,
   "metadata": {},
   "outputs": [],
   "source": [
    "def mutation_unary_coeff(op,curr_coeff,reset=False):\n",
    "    eps = 1e-9\n",
    "    \n",
    "    if op == \"sin\" or op == \"cos\" or op == \"tan\":  \n",
    "        return rng.choice(rng.uniform(-np.pi/2 + eps,np.pi/2,100),1)[0]\n",
    "\n",
    "    elif op == \"exp\" or op == \"log\" or op == \"arctan\" or op == \"sqrt\" or op == \"abs\" or op == \"sqrt\" or op == \"\":\n",
    "        return curr_coeff*1.2 if not reset else 1\n",
    "\n",
    "    elif op == \"arcsin\" or op == \"arccos\":  \n",
    "        return rng.choice(rng.uniform(-1 + eps,1,100),1)[0]\n",
    "    \n",
    "    else:\n",
    "        return 1"
   ]
  },
  {
   "cell_type": "code",
   "execution_count": 98,
   "metadata": {},
   "outputs": [],
   "source": [
    "def mutation(p: Individual, mutation_factor: float ,x, y) :\n",
    "    ''' Mutate terms of one individual '''\n",
    "    child_genome = p.genome.copy()\n",
    "    new_fitness = ()\n",
    "    blocks = [child_genome[i:i + 5] for i in range(0, len(child_genome), 5)]\n",
    "    right_sign = p.fitness[0]\n",
    "    rep_factor=0\n",
    "    \n",
    "    while rep_factor<0.6:\n",
    "        sync_factor = 0.05 if right_sign else 0.01\n",
    "        # Define mutation probabilities\n",
    "        mutation_probs = np.array([0.2, 0.3, 0.2, 0, 0.3]) if right_sign else np.array([0.25, 0.25, 0.25, 0, 0.25])\n",
    "\n",
    "        # Select random blocks to mutate\n",
    "        if len(blocks) == 1:\n",
    "            mutate_blocks = [0]\n",
    "        else:\n",
    "            mutate_blocks = rng.choice(range(len(blocks)), rng.integers(1, len(blocks)), replace=False)\n",
    "\n",
    "        for b_i in mutate_blocks:\n",
    "            # Mutate elements in the block\n",
    "            elems = rng.choice(5, size=rng.integers(1, 5), p=mutation_probs)\n",
    "            n_var = int(blocks[b_i][3].split(\"_\")[1])\n",
    "\n",
    "            for e_i in elems:\n",
    "                if e_i == 0:\n",
    "                    blocks[b_i][e_i] *= mutation_factor #if blocks[b_i][e_i] < 1e4 else rng.random()\n",
    "                    if not right_sign: blocks[b_i][e_i]*=-1\n",
    "                elif e_i == 1:\n",
    "                    new_unary_op = \"\" if rng.random() < 0.15 else str(rng.choice(UNARY_OPERATORS,1,p=UNARY_OPERATORS_WEIGHTS[n_var])[0])\n",
    "                    blocks[b_i][2] = mutation_unary_coeff(blocks[b_i][e_i],blocks[b_i][2],new_unary_op != blocks[b_i][e_i])\n",
    "\n",
    "                    blocks[b_i][e_i] = new_unary_op\n",
    "                 \n",
    "                elif e_i == 2 and blocks[b_i][1] not in [\"arccos\",\"arcsin\",\"arctan\"]:\n",
    "                    blocks[b_i][e_i] = mutation_unary_coeff(blocks[b_i][1],blocks[b_i][e_i])\n",
    "\n",
    "                elif e_i == 4:\n",
    "                    new_bin_op = rng.choice(BINARY_OPERATORS,1,p=BINARY_OPERATORS_WEIGHTS[n_var]) if b_i !=0 else rng.choice([\"+\",\"-\"],1)\n",
    "                    blocks[b_i][e_i] = str(new_bin_op[0])  \n",
    "                else:\n",
    "                    continue\n",
    "\n",
    "        # Rebuild genome and compute fitness\n",
    "        child_genome = [elem for block in blocks for elem in block]\n",
    "        new_mse, increase, right_sign, count, inc_factor = compute_FX(child_genome, x, y)\n",
    "        new_fitness = (right_sign, -new_mse, count)\n",
    "\n",
    "        if new_fitness > p.fitness:\n",
    "            update_weights(child_genome, sync_factor, increase=True)\n",
    "            break\n",
    "        else:\n",
    "            update_weights(child_genome, sync_factor, increase=False)\n",
    "\n",
    "        # Adjust mutation factor\n",
    "        mutation_factor = adjust_mutation_factor(mutation_factor, increase)\n",
    "\n",
    "        rep_factor = rng.random()\n",
    "\n",
    "    return Individual(child_genome, new_fitness), mutation_factor"
   ]
  },
  {
   "cell_type": "code",
   "execution_count": 99,
   "metadata": {},
   "outputs": [],
   "source": [
    "def EA_resolution(num_generations, population,x,y,increase_complexity=False):\n",
    "    history = []\n",
    "    mutation_factor = 1\n",
    "    n_no_improvement = 0\n",
    "    terms_added = 0\n",
    "    champion = population[0]\n",
    "    for i in tqdm(range(num_generations)):\n",
    "\n",
    "        offspring = list()\n",
    "\n",
    "        for _ in range(OFFSPRING_SIZE):\n",
    "            \n",
    "            p1,p2 = parent_selection(population)\n",
    "            \n",
    "            if rng.random() <0.5 and not champion.fitness[0]:\n",
    "                o = xover(p1,p2,x,y)\n",
    "            else:\n",
    "                o,mutation_factor = mutation(p1,mutation_factor,x,y)\n",
    "\n",
    "            offspring.append(o)\n",
    "\n",
    "        population.extend(offspring)\n",
    "\n",
    "        population = sorted(population, key=lambda i: i.fitness,reverse=True)\n",
    "        population = survival_selection(population)\n",
    "        \n",
    "\n",
    "        if population[0].fitness > champion.fitness:\n",
    "            champion = population[0]\n",
    "            n_no_improvement = 0\n",
    "        else:\n",
    "            n_no_improvement += 1\n",
    "        \n",
    "        if increase_complexity:\n",
    "            if n_no_improvement > INCREASE_COMPLEXITY_STEP :\n",
    "                if terms_added == 3:\n",
    "                    break\n",
    "                print(\"\\t\\tChanging population\")\n",
    "                population = add_term(population,terms_added,x,y)\n",
    "                population.sort(key=lambda i: i.fitness,reverse=True)\n",
    "                terms_added +=1\n",
    "                n_no_improvement = 0\n",
    "                print(f\"\\t\\tNew problem complexity: {PROBLEM_SIZE+terms_added}\")\n",
    "            elif n_no_improvement == INCREASE_COMPLEXITY_STEP-10:\n",
    "                # to prevent overfitting, before increasing problem complexity try to reset weights\n",
    "                print(\"\\t\\tReset weights\")\n",
    "                for i in range(PROBLEM_SIZE):\n",
    "                    UNARY_OPERATORS_WEIGHTS[i] = compute_unary_weights(UNARY_OPERATORS,i,DATA,LABELS) \n",
    "                    BINARY_OPERATORS_WEIGHTS[i] = [1/len(BINARY_OPERATORS) for _ in BINARY_OPERATORS]\n",
    "            \n",
    "        history.append(population[0])\n",
    "\n",
    "        if i % 250 == 0 and i!= 0:\n",
    "            print(f\"\\t\\tBest individual found at iteration {i}:\")\n",
    "            print(f\"\\t\\t\\t{champion.genome}\")\n",
    "            print(f\"\\t\\t\\t{champion.fitness}\")\n",
    "        \n",
    "        if -champion.fitness[1]<1e-30:\n",
    "            print(f\"\\t\\t\\tEarly stopping: Near Solution Found\")\n",
    "            break\n",
    "\n",
    "    return champion, history, population"
   ]
  },
  {
   "cell_type": "code",
   "execution_count": 100,
   "metadata": {},
   "outputs": [
    {
     "name": "stdout",
     "output_type": "stream",
     "text": [
      "Starting tournament n: 1\n"
     ]
    },
    {
     "name": "stderr",
     "output_type": "stream",
     "text": [
      "  0%|          | 0/400 [00:00<?, ?it/s]"
     ]
    },
    {
     "name": "stderr",
     "output_type": "stream",
     "text": [
      "C:\\Users\\loren\\AppData\\Local\\Temp\\ipykernel_19980\\4065164462.py:21: RuntimeWarning: invalid value encountered in arccos\n",
      "  X_transformed[i, :] = func(X_transformed[i, :])\n",
      "C:\\Users\\loren\\AppData\\Local\\Temp\\ipykernel_19980\\4065164462.py:21: RuntimeWarning: invalid value encountered in arcsin\n",
      "  X_transformed[i, :] = func(X_transformed[i, :])\n",
      " 64%|██████▍   | 257/400 [00:09<00:04, 30.88it/s]"
     ]
    },
    {
     "name": "stdout",
     "output_type": "stream",
     "text": [
      "\t\tBest individual found at iteration 250:\n",
      "\t\t\t[-0.9900000000000001, '', 1, np.str_('X_0'), '-', 1.1740617900000008, '', np.float64(-0.15530518901404242), np.str_('X_1'), '-']\n",
      "\t\t\t(np.True_, np.float64(-0.03676888268988177), np.int64(333))\n"
     ]
    },
    {
     "name": "stderr",
     "output_type": "stream",
     "text": [
      "100%|██████████| 400/400 [00:14<00:00, 27.35it/s]\n"
     ]
    },
    {
     "name": "stdout",
     "output_type": "stream",
     "text": [
      "Winner of Tounament n: 1: Individual(genome=[-0.9900000000000001, '', 1, np.str_('X_0'), '-', 1.1740617900000008, '', np.float64(-0.15530518901404242), np.str_('X_1'), '-'], fitness=(np.True_, np.float64(-0.03676888268988177), np.int64(333)))\n",
      "Starting tournament n: 2\n"
     ]
    },
    {
     "name": "stderr",
     "output_type": "stream",
     "text": [
      " 64%|██████▍   | 257/400 [00:07<00:04, 35.06it/s]"
     ]
    },
    {
     "name": "stdout",
     "output_type": "stream",
     "text": [
      "\t\tBest individual found at iteration 250:\n",
      "\t\t\t[-0.5261265900000002, 'arctan', np.float64(0.3563567161859028), np.str_('X_1'), '-', 1, '', 1, np.str_('X_0'), '+']\n",
      "\t\t\t(np.True_, np.float64(-0.00130736970020253), np.int64(333))\n"
     ]
    },
    {
     "name": "stderr",
     "output_type": "stream",
     "text": [
      "100%|██████████| 400/400 [00:11<00:00, 35.21it/s]\n"
     ]
    },
    {
     "name": "stdout",
     "output_type": "stream",
     "text": [
      "Winner of Tounament n: 2: Individual(genome=[-0.5261265900000002, 'arctan', np.float64(0.3563567161859028), np.str_('X_1'), '-', 1, '', 1, np.str_('X_0'), '+'], fitness=(np.True_, np.float64(-0.00130736970020253), np.int64(333)))\n",
      "Starting tournament n: 3\n"
     ]
    },
    {
     "name": "stderr",
     "output_type": "stream",
     "text": [
      " 64%|██████▎   | 254/400 [00:07<00:04, 31.57it/s]"
     ]
    },
    {
     "name": "stdout",
     "output_type": "stream",
     "text": [
      "\t\tBest individual found at iteration 250:\n",
      "\t\t\t[-1, '', 1, np.str_('X_0'), '-', 0.6430436100000002, 'arctan', np.float64(-0.2921729611158308), np.str_('X_1'), '-']\n",
      "\t\t\t(np.True_, np.float64(-0.0020617720614210574), np.int64(333))\n"
     ]
    },
    {
     "name": "stderr",
     "output_type": "stream",
     "text": [
      "100%|██████████| 400/400 [00:12<00:00, 32.16it/s]"
     ]
    },
    {
     "name": "stdout",
     "output_type": "stream",
     "text": [
      "Winner of Tounament n: 3: Individual(genome=[1, '', 1, np.str_('X_0'), '+', -0.37971082126890016, 'arctan', np.float64(-0.5126283187400373), np.str_('X_1'), '+'], fitness=(np.True_, np.float64(-0.0013161256718834536), np.int64(333)))\n",
      "New fitness winner 1\n",
      "(np.True_, np.float64(-0.03702698120257322), np.int64(1000))\n",
      "New fitness winner 2\n",
      "(np.True_, np.float64(-0.0014884704868466663), np.int64(1000))\n",
      "New fitness winner 3\n",
      "(np.True_, np.float64(-0.0013711472694701366), np.int64(1000))\n"
     ]
    },
    {
     "name": "stderr",
     "output_type": "stream",
     "text": [
      "\n"
     ]
    }
   ],
   "source": [
    "POPULATION = [generate_individual(DATA,LABELS) for _ in range(POPULATION_SIZE)]\n",
    "POPULATION = sorted(POPULATION,key= lambda x : x.fitness)\n",
    "winners = []\n",
    "histories = []\n",
    "for i in range(NUM_TOURNAMENTS):\n",
    "    TOURNAMENT_POP = POPULATION[(POPULATION_SIZE//NUM_TOURNAMENTS)*i:(POPULATION_SIZE//NUM_TOURNAMENTS)*(i+1)]\n",
    "    print(f\"Starting tournament n: {i+1}\")\n",
    "    winner, history, _ = EA_resolution(TOURNAMENT_GENERATIONS,TOURNAMENT_POP,DATA[:,(DATA.shape[1]//NUM_TOURNAMENTS)*i:(DATA.shape[1]//NUM_TOURNAMENTS)*(i+1)],LABELS[(DATA.shape[1]//NUM_TOURNAMENTS)*i:(DATA.shape[1]//NUM_TOURNAMENTS)*(i+1)])\n",
    "    print(f\"Winner of Tounament n: {i+1}: {winner}\")\n",
    "    for i in range(PROBLEM_SIZE):\n",
    "            UNARY_OPERATORS_WEIGHTS[i] = compute_unary_weights(UNARY_OPERATORS,i,DATA,LABELS) \n",
    "            BINARY_OPERATORS_WEIGHTS[i] = [1/len(BINARY_OPERATORS) for _ in BINARY_OPERATORS]\n",
    "            \n",
    "    winners.append(winner)\n",
    "    histories.append(history)\n",
    "\n",
    "for i,w in enumerate(winners):\n",
    "    mse, _, right_sign, count_right_sign, _ = compute_FX(w.genome, DATA,LABELS)\n",
    "    w.fitness = (right_sign, -mse, count_right_sign)\n",
    "    print(f\"New fitness winner {i+1}\")\n",
    "    print(w.fitness)"
   ]
  },
  {
   "cell_type": "code",
   "execution_count": 101,
   "metadata": {},
   "outputs": [
    {
     "name": "stdout",
     "output_type": "stream",
     "text": [
      "Generating new competitors\n",
      "[Individual(genome=[-0.9900000000000001, '', 1, np.str_('X_0'), '-', 1.1740617900000008, '', np.float64(-0.15530518901404242), np.str_('X_1'), '-'], fitness=(np.True_, np.float64(-0.03702698120257322), np.int64(1000))), Individual(genome=[-0.5261265900000002, 'arctan', np.float64(0.3563567161859028), np.str_('X_1'), '-', 1, '', 1, np.str_('X_0'), '+'], fitness=(np.True_, np.float64(-0.0014884704868466663), np.int64(1000))), Individual(genome=[1, '', 1, np.str_('X_0'), '+', -0.37971082126890016, 'arctan', np.float64(-0.5126283187400373), np.str_('X_1'), '+'], fitness=(np.True_, np.float64(-0.0013711472694701366), np.int64(1000)))]\n",
      "120\n",
      "Starting final Tournament\n"
     ]
    },
    {
     "name": "stderr",
     "output_type": "stream",
     "text": [
      "  0%|          | 0/4000 [00:00<?, ?it/s]C:\\Users\\loren\\AppData\\Local\\Temp\\ipykernel_19980\\4065164462.py:21: RuntimeWarning: invalid value encountered in arcsin\n",
      "  X_transformed[i, :] = func(X_transformed[i, :])\n",
      "C:\\Users\\loren\\AppData\\Local\\Temp\\ipykernel_19980\\4065164462.py:21: RuntimeWarning: invalid value encountered in arccos\n",
      "  X_transformed[i, :] = func(X_transformed[i, :])\n",
      "  6%|▋         | 255/4000 [00:08<01:55, 32.49it/s]"
     ]
    },
    {
     "name": "stdout",
     "output_type": "stream",
     "text": [
      "\t\tBest individual found at iteration 250:\n",
      "\t\t\t[1, '', 1, np.str_('X_0'), '+', -0.3383223417505901, 'arctan', np.float64(-0.565174694975056), np.str_('X_1'), '+']\n",
      "\t\t\t(np.True_, np.float64(-0.0004947588094135795), np.int64(1000))\n"
     ]
    },
    {
     "name": "stderr",
     "output_type": "stream",
     "text": [
      "  9%|▊         | 349/4000 [00:12<02:43, 22.32it/s]"
     ]
    },
    {
     "name": "stdout",
     "output_type": "stream",
     "text": [
      "\t\tReset weights\n"
     ]
    },
    {
     "name": "stderr",
     "output_type": "stream",
     "text": [
      "  9%|▉         | 362/4000 [00:12<02:34, 23.49it/s]"
     ]
    },
    {
     "name": "stdout",
     "output_type": "stream",
     "text": [
      "\t\tChanging population\n",
      "\t\tNew problem complexity: 3\n"
     ]
    },
    {
     "name": "stderr",
     "output_type": "stream",
     "text": [
      " 13%|█▎        | 503/4000 [00:18<02:27, 23.77it/s]"
     ]
    },
    {
     "name": "stdout",
     "output_type": "stream",
     "text": [
      "\t\tBest individual found at iteration 500:\n",
      "\t\t\t[1, '', 1, np.str_('X_0'), '+', -0.3383223417505901, 'arctan', np.float64(-0.565174694975056), np.str_('X_1'), '+']\n",
      "\t\t\t(np.True_, np.float64(-0.0004947588094135795), np.int64(1000))\n"
     ]
    },
    {
     "name": "stderr",
     "output_type": "stream",
     "text": [
      " 15%|█▌        | 603/4000 [00:23<02:16, 24.82it/s]"
     ]
    },
    {
     "name": "stdout",
     "output_type": "stream",
     "text": [
      "\t\tReset weights\n"
     ]
    },
    {
     "name": "stderr",
     "output_type": "stream",
     "text": [
      " 15%|█▌        | 615/4000 [00:23<02:24, 23.41it/s]"
     ]
    },
    {
     "name": "stdout",
     "output_type": "stream",
     "text": [
      "\t\tChanging population\n",
      "\t\tNew problem complexity: 4\n"
     ]
    },
    {
     "name": "stderr",
     "output_type": "stream",
     "text": [
      " 19%|█▉        | 752/4000 [00:31<03:42, 14.59it/s]"
     ]
    },
    {
     "name": "stdout",
     "output_type": "stream",
     "text": [
      "\t\tBest individual found at iteration 750:\n",
      "\t\t\t[1, '', 1, np.str_('X_0'), '+', -0.3383223417505901, 'arctan', np.float64(-0.565174694975056), np.str_('X_1'), '+']\n",
      "\t\t\t(np.True_, np.float64(-0.0004947588094135795), np.int64(1000))\n"
     ]
    },
    {
     "name": "stderr",
     "output_type": "stream",
     "text": [
      " 21%|██▏       | 853/4000 [00:36<03:23, 15.45it/s]"
     ]
    },
    {
     "name": "stdout",
     "output_type": "stream",
     "text": [
      "\t\tReset weights\n"
     ]
    },
    {
     "name": "stderr",
     "output_type": "stream",
     "text": [
      " 22%|██▏       | 863/4000 [00:37<03:18, 15.83it/s]"
     ]
    },
    {
     "name": "stdout",
     "output_type": "stream",
     "text": [
      "\t\tChanging population\n",
      "\t\tNew problem complexity: 5\n"
     ]
    },
    {
     "name": "stderr",
     "output_type": "stream",
     "text": [
      " 25%|██▌       | 1004/4000 [00:46<02:46, 17.97it/s]"
     ]
    },
    {
     "name": "stdout",
     "output_type": "stream",
     "text": [
      "\t\tBest individual found at iteration 1000:\n",
      "\t\t\t[1, '', 1, np.str_('X_0'), '+', -0.3383223417505901, 'arctan', np.float64(-0.565174694975056), np.str_('X_1'), '+']\n",
      "\t\t\t(np.True_, np.float64(-0.0004947588094135795), np.int64(1000))\n"
     ]
    },
    {
     "name": "stderr",
     "output_type": "stream",
     "text": [
      " 28%|██▊       | 1102/4000 [00:52<03:09, 15.27it/s]"
     ]
    },
    {
     "name": "stdout",
     "output_type": "stream",
     "text": [
      "\t\tReset weights\n"
     ]
    },
    {
     "name": "stderr",
     "output_type": "stream",
     "text": [
      " 28%|██▊       | 1111/4000 [00:53<02:18, 20.89it/s]"
     ]
    },
    {
     "name": "stdout",
     "output_type": "stream",
     "text": [
      "Winner of Final Tounament : Individual(genome=[1, '', 1, np.str_('X_0'), '+', -0.3383223417505901, 'arctan', np.float64(-0.565174694975056), np.str_('X_1'), '+'], fitness=(np.True_, np.float64(-0.0004947588094135795), np.int64(1000)))\n"
     ]
    },
    {
     "name": "stderr",
     "output_type": "stream",
     "text": [
      "\n"
     ]
    }
   ],
   "source": [
    "print(\"Generating new competitors\")\n",
    "NEW_POPULATION = []\n",
    "NEW_POPULATION.extend(winners)\n",
    "#NEW_POPULATION.extend(POPULATION)\n",
    "print(NEW_POPULATION)\n",
    "while len(NEW_POPULATION) != POPULATION_SIZE:\n",
    "    p = rng.choice(winners,1)[0]\n",
    "    child, _ = mutation(p,1,DATA,LABELS)\n",
    "    NEW_POPULATION.append(child)\n",
    "print(len(NEW_POPULATION))\n",
    "print(\"Starting final Tournament\")\n",
    "winner, history, _ = EA_resolution(MAX_GENERATIONS,NEW_POPULATION,DATA,LABELS,True)\n",
    "print(f\"Winner of Final Tounament : {winner}\")"
   ]
  },
  {
   "cell_type": "code",
   "execution_count": 102,
   "metadata": {},
   "outputs": [],
   "source": [
    "def compute_FX_FINAL(F,X, Y)->np.ndarray:\n",
    "    \n",
    "    # Number of terms\n",
    "    num_terms = len(F) // 5\n",
    "\n",
    "    # Pre-compute fixed F values\n",
    "    coefficients = np.array([float(F[5 * i]) for i in range(num_terms)])\n",
    "    variable_costs = np.array([float(F[2 + 5 * i]) for i in range(num_terms)])\n",
    "    columns = np.array([int(F[3 + 5 * i].split(\"_\")[1]) for i in range(num_terms)])\n",
    "    operations = [F[1 + 5 * i] for i in range(num_terms)]\n",
    "    operators = [F[4 + 5 * i] for i in range(num_terms)]\n",
    "\n",
    "    # Map unary operations\n",
    "    unary_funcs = [UNARY_OPERATIONS[op] for op in operations]\n",
    "\n",
    "    # Extract the specific columns from X and apply variable costs\n",
    "    X_selected = X[columns, :]  # Shape: (num_terms, num_rows)\n",
    "    X_transformed = X_selected * variable_costs[:, np.newaxis]  # Broadcasting\n",
    "\n",
    "    # Apply unary functions (broadcasting over rows)\n",
    "    for i, func in enumerate(unary_funcs):\n",
    "        X_transformed[i, :] = func(X_transformed[i, :])\n",
    "\n",
    "    # Multiply by coefficients\n",
    "    T = coefficients[:, np.newaxis] * X_transformed  # Shape: (num_terms, num_rows)\n",
    "\n",
    "    # Apply the operators\n",
    "    Y_pred = np.zeros(X.shape[1])\n",
    "    for i, op in enumerate(operators):\n",
    "        if op == \"+\":\n",
    "            Y_pred += T[i, :]\n",
    "        elif op == \"-\":\n",
    "            Y_pred -= T[i, :]\n",
    "        elif op == \"*\":\n",
    "            Y_pred *= T[i, :]\n",
    "        elif op == \"/\":\n",
    "            Y_pred /= np.where(T[i, :] != 0, T[i, :], 1)  # Avoid division by zero\n",
    "\n",
    "    #Y_pred = Y_pred * np.min(Y)\n",
    "    # Metrics\n",
    "    mse = compute_MSE(Y_pred, Y)\n",
    "    diff_abs = np.abs(Y_pred) - np.abs(Y)\n",
    "    increase = np.mean(diff_abs) < 0\n",
    "    inc_dec_factor = np.mean(diff_abs)\n",
    "    right_sign = np.all((Y_pred > 0) == (Y > 0))\n",
    "    count_right_sign = np.sum((Y_pred > 0) == (Y > 0))\n",
    "\n",
    "    return mse, increase, right_sign, Y_pred"
   ]
  },
  {
   "cell_type": "code",
   "execution_count": 103,
   "metadata": {},
   "outputs": [
    {
     "name": "stdout",
     "output_type": "stream",
     "text": [
      "1000\n",
      "0.0004947588094135795\n",
      "Pred: 3.1460852129037806, Real: 3.1438089898863355\n",
      "Pred: -0.23071155118917405, Real: -0.22957394278115953\n",
      "Pred: -2.7919692984664857, Real: -2.7923586919834875\n",
      "Pred: -0.39061132335941623, Real: -0.39034682215312366\n",
      "Pred: -2.8557566398310206, Real: -2.8530237397859994\n",
      "Pred: 1.4589799560522898, Real: 1.4564246217079593\n",
      "Pred: -1.1620820819863056, Real: -1.1597963332204626\n",
      "Pred: 1.015323884291021, Real: 1.0160637034750923\n",
      "Pred: -2.332017807628294, Real: -2.3328586862645673\n",
      "Pred: -0.09184120212133937, Real: -0.08860550707793047\n",
      "Pred: -0.779416589472601, Real: -0.7819249961673933\n",
      "Pred: -1.612921082320646, Real: -1.612575459644619\n",
      "Pred: 1.855465311185819, Real: 1.8568513800889934\n",
      "Pred: 2.15762727844122, Real: 2.158789428470567\n",
      "Pred: 2.557106194000366, Real: 2.556534870757163\n",
      "Pred: -1.3224178322660018, Real: -1.320688285229458\n",
      "Pred: -0.16505597691379303, Real: -0.163131491450891\n",
      "Pred: -0.2113340298627924, Real: -0.2102216804309494\n",
      "Pred: 1.7854263083239248, Real: 1.7847766516307189\n",
      "Pred: -2.3036050013799456, Real: -2.308563609821987\n",
      "Pred: 2.4410228138953096, Real: 2.442571342074385\n",
      "Pred: 1.1583953493138779, Real: 1.1573780849090187\n",
      "Pred: 1.2850300401192851, Real: 1.2832632687818795\n",
      "Pred: -1.9982190307870078, Real: -1.998062685765185\n",
      "Pred: 1.3099877491703886, Real: 1.3080735023637537\n",
      "Pred: 0.8720485209125537, Real: 0.8727712483164801\n",
      "Pred: -0.13578840031059947, Real: -0.1354958263773182\n",
      "Pred: -1.665535595550286, Real: -1.6644722346924814\n",
      "Pred: -0.1090795214746538, Real: -0.1112279402224656\n",
      "Pred: -2.1431502191618956, Real: -2.1450752526289443\n",
      "Pred: 2.074758247844824, Real: 2.077231963719745\n",
      "Pred: -1.8715342035524425, Real: -1.8687977932474205\n",
      "Pred: 2.786217304326611, Real: 2.786097722930347\n",
      "Pred: -1.5529104187591811, Real: -1.5538125093261632\n",
      "Pred: -0.9275347471123474, Real: -0.9266444177920087\n",
      "Pred: 0.5190696433884834, Real: 0.5171268966275621\n",
      "Pred: -3.0158989867265635, Real: -3.0142420022959717\n",
      "Pred: 2.203801665233329, Real: 2.2052253611729\n",
      "Pred: -0.4237069408130454, Real: -0.42105228446226173\n",
      "Pred: 2.7027184005980556, Real: 2.703687928562944\n",
      "Pred: 2.7944409113316846, Real: 2.7997224176814406\n",
      "Pred: 1.5971711471253347, Real: 1.599862273028484\n",
      "Pred: -2.747691860810454, Real: -2.7450838448697863\n",
      "Pred: 2.4455851890555858, Real: 2.443033235308826\n",
      "Pred: 0.5014914578474742, Real: 0.5029935853390068\n",
      "Pred: 2.0171702064543595, Real: 2.0172411079996886\n",
      "Pred: 2.4749075052662852, Real: 2.4785315397833045\n",
      "Pred: 2.931373701675861, Real: 2.92738848602705\n",
      "Pred: -1.758928026420757, Real: -1.7614479501016584\n",
      "Pred: -2.3968835485672275, Real: -2.3992457531957787\n"
     ]
    }
   ],
   "source": [
    "mse, increase, right_sign, Y_pred = compute_FX_FINAL(winner.genome,X,Y)\n",
    "print(count_right_sign)\n",
    "print(mse)\n",
    "for i in range(50):\n",
    "    print(f\"Pred: {Y_pred[i]}, Real: {Y[i]}\")"
   ]
  },
  {
   "cell_type": "code",
   "execution_count": 104,
   "metadata": {},
   "outputs": [
    {
     "data": {
      "text/plain": [
       "[array([0.1622804 , 0.24036193, 0.17234455, 0.10882974, 0.        ,\n",
       "        0.        , 0.        , 0.13937235, 0.        , 0.17681103,\n",
       "        0.        ]),\n",
       " array([0.14366497, 0.14366497, 0.14649725, 0.08750769, 0.        ,\n",
       "        0.14415329, 0.14415329, 0.11652391, 0.        , 0.07383461,\n",
       "        0.        ])]"
      ]
     },
     "execution_count": 104,
     "metadata": {},
     "output_type": "execute_result"
    }
   ],
   "source": [
    "UNARY_OPERATORS_WEIGHTS"
   ]
  },
  {
   "cell_type": "code",
   "execution_count": 105,
   "metadata": {},
   "outputs": [
    {
     "data": {
      "text/plain": [
       "[array([0.17707576, 0.50820991, 0.16517626, 0.14953807]),\n",
       " array([0.15206255, 0.15082638, 0.19583049, 0.50128059])]"
      ]
     },
     "execution_count": 105,
     "metadata": {},
     "output_type": "execute_result"
    }
   ],
   "source": [
    "BINARY_OPERATORS_WEIGHTS"
   ]
  },
  {
   "cell_type": "code",
   "execution_count": 106,
   "metadata": {},
   "outputs": [
    {
     "data": {
      "text/plain": [
       "Text(0, 0.5, 'Count')"
      ]
     },
     "execution_count": 106,
     "metadata": {},
     "output_type": "execute_result"
    },
    {
     "data": {
      "image/png": "[encoded data removed]",
      "text/plain": [
       "<Figure size 1400x800 with 1 Axes>"
      ]
     },
     "metadata": {},
     "output_type": "display_data"
    }
   ],
   "source": [
    "#from itertools import accumulate\n",
    "from matplotlib import pyplot as plt\n",
    "\n",
    "#valid = [sol.fitness for sol in list(accumulate(history, max))]\n",
    "#Array of all costs only\n",
    "costs = [sol.fitness[1] for sol in history]\n",
    "#Plot\n",
    "plt.figure(figsize=(14, 8))             \n",
    "plt.title(\"mse improvment\")\n",
    "plt.grid()\n",
    "\n",
    "plt.scatter(range(len(costs)), costs, marker=\".\")\n",
    "\n",
    "plt.xlabel('Iteration')\n",
    "plt.ylabel('Count')"
   ]
  }
 ],
 "metadata": {
  "kernelspec": {
   "display_name": "CI2024_lab1",
   "language": "python",
   "name": "python3"
  },
  "language_info": {
   "codemirror_mode": {
    "name": "ipython",
    "version": 3
   },
   "file_extension": ".py",
   "mimetype": "text/x-python",
   "name": "python",
   "nbconvert_exporter": "python",
   "pygments_lexer": "ipython3",
   "version": "3.9.13"
  }
 },
 "nbformat": 4,
 "nbformat_minor": 2
}
