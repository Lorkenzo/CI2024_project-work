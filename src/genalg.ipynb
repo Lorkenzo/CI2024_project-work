{
 "cells": [
  {
   "cell_type": "markdown",
   "metadata": {},
   "source": [
    "# Simbolic Regression Algorithm"
   ]
  },
  {
   "cell_type": "code",
   "execution_count": 45,
   "metadata": {},
   "outputs": [],
   "source": [
    "import numpy as np\n",
    "import random\n",
    "from dataclasses import dataclass\n",
    "from tqdm.auto import tqdm\n",
    "from typing import List\n",
    "import itertools\n",
    "from evaluation import compute_FX\n",
    "from utilities import mutation_unary_coeff, tune_constant, compute_unary_weights\n",
    "None"
   ]
  },
  {
   "cell_type": "code",
   "execution_count": 46,
   "metadata": {},
   "outputs": [
    {
     "name": "stdout",
     "output_type": "stream",
     "text": [
      "(2, 5000)\n",
      "(5000,)\n"
     ]
    }
   ],
   "source": [
    "problem = np.load('../data/problem_7.npz')\n",
    "X = problem['x']\n",
    "Y = problem['y']\n",
    "\n",
    "DATA = X\n",
    "LABELS = Y\n",
    "\n",
    "print(DATA.shape)\n",
    "print(LABELS.shape)\n",
    "\n",
    "# COSTANTS\n",
    "PROBLEM_SIZE = DATA.shape[0]\n",
    "NUM_TOURNAMENTS = PROBLEM_SIZE*20\n",
    "POPULATION_SIZE = PROBLEM_SIZE*20*NUM_TOURNAMENTS\n",
    "OFFSPRING_SIZE = int((POPULATION_SIZE//NUM_TOURNAMENTS)*0.8)\n",
    "MAX_GENERATIONS = 4000\n",
    "TOURNAMENT_GENERATIONS = 50\n",
    "INCREASE_COMPLEXITY_STEP = 500\n",
    "# Problem size can be maximum 4 terms more then starting complexity\n",
    "PROBLEM_COMPLEXITIES = [PROBLEM_SIZE+i for i in range(5)]\n",
    "\n",
    "# higher complexity is less probable to be generated\n",
    "PROBLEM_COMPLEXITIES_WEIGHTS = [PROBLEM_COMPLEXITIES[len(PROBLEM_COMPLEXITIES)-i-1]/sum(PROBLEM_COMPLEXITIES) for i in range(len(PROBLEM_COMPLEXITIES))]"
   ]
  },
  {
   "cell_type": "code",
   "execution_count": 47,
   "metadata": {},
   "outputs": [],
   "source": [
    "# Reproducible random generator\n",
    "rng = np.random.Generator(np.random.PCG64(42))"
   ]
  },
  {
   "cell_type": "code",
   "execution_count": 48,
   "metadata": {},
   "outputs": [],
   "source": [
    "# Operators, variables and weights\n",
    "BINARY_OPERATORS = [\"+\", \"-\", \"*\", \"/\"]\n",
    "UNARY_OPERATORS = [\"sin\", \"cos\",\"tan\", \"exp\", \"log\",\"arcsin\",\"arccos\",\"arctan\",\"sqrt\",\"abs\",\"reciprocal\"]\n",
    "VARIABLES = [\"X_\"+str(i) for i in range(PROBLEM_SIZE)]\n",
    "VARIABLES_WEIGHTS = [[1/len(VARIABLES) for _ in range(len(VARIABLES))]]\n",
    "VARIABLES_MAP = {var: i for i,var in enumerate(VARIABLES)}"
   ]
  },
  {
   "cell_type": "code",
   "execution_count": 49,
   "metadata": {},
   "outputs": [],
   "source": [
    "@dataclass\n",
    "class Individual:\n",
    "    genome: list\n",
    "    fitness: tuple"
   ]
  },
  {
   "cell_type": "markdown",
   "metadata": {},
   "source": [
    "### Operators weights handling"
   ]
  },
  {
   "cell_type": "code",
   "execution_count": 50,
   "metadata": {},
   "outputs": [],
   "source": [
    "UNARY_OPERATORS_WEIGHTS = [compute_unary_weights(UNARY_OPERATORS,i,DATA,LABELS) for i in range(PROBLEM_SIZE)]\n",
    "UNARY_OPERATORS_MAP = {op: i for i,op in enumerate(UNARY_OPERATORS)}\n",
    "BINARY_OPERATORS_WEIGHTS = [[1/len(BINARY_OPERATORS) for _ in BINARY_OPERATORS] for _ in range(PROBLEM_SIZE)]\n",
    "BINARY_OPERATORS_MAP = {op: i for i,op in enumerate(BINARY_OPERATORS)}"
   ]
  },
  {
   "cell_type": "code",
   "execution_count": 51,
   "metadata": {},
   "outputs": [],
   "source": [
    "def update_weights(genome, sync_factor, increase: bool):\n",
    "    \n",
    "    for i in range(len(genome) // 5):\n",
    "        unary_term = genome[1 + 5 * i]\n",
    "        binary_term = genome[4 + 5 * i]\n",
    "        n_var = int(genome[3 + 5 * i].split(\"_\")[1])  # Numero della variabile\n",
    "\n",
    "        # Aggiorna i pesi per gli operatori unari\n",
    "        if unary_term != \"\":\n",
    "            unary_idx = UNARY_OPERATORS_MAP[unary_term]\n",
    "            if increase:\n",
    "                UNARY_OPERATORS_WEIGHTS[n_var][unary_idx] += sync_factor if UNARY_OPERATORS_WEIGHTS[n_var][unary_idx] <= 0.65 else 0\n",
    "            else:\n",
    "                UNARY_OPERATORS_WEIGHTS[n_var][unary_idx] -= sync_factor if UNARY_OPERATORS_WEIGHTS[n_var][unary_idx] >= 0.15 else 0\n",
    "            # Normalizza i pesi\n",
    "            UNARY_OPERATORS_WEIGHTS[n_var] /= np.sum(UNARY_OPERATORS_WEIGHTS[n_var])\n",
    "\n",
    "        # Aggiorna i pesi per gli operatori binari\n",
    "        binary_idx = BINARY_OPERATORS_MAP[binary_term]\n",
    "        if increase:\n",
    "            BINARY_OPERATORS_WEIGHTS[n_var][binary_idx] += sync_factor if BINARY_OPERATORS_WEIGHTS[n_var][binary_idx] <= 0.65 else 0\n",
    "        else:\n",
    "            BINARY_OPERATORS_WEIGHTS[n_var][binary_idx] -= sync_factor if BINARY_OPERATORS_WEIGHTS[n_var][binary_idx] >= 0.15 else 0\n",
    "        # Normalizza i pesi\n",
    "        BINARY_OPERATORS_WEIGHTS[n_var] /= np.sum(BINARY_OPERATORS_WEIGHTS[n_var])\n"
   ]
  },
  {
   "cell_type": "markdown",
   "metadata": {},
   "source": [
    "### Genetic Program Logic\n",
    "\n",
    "We have to find a combination of X (numpy array for data of size (n,m)) with numpy operands that gives as result Y (numpy array for labels of size (m,)). <br>\n",
    "Each formula (genome) will have the form: \n",
    "<br><br>\n",
    "_0 Opb,1 A * Opu,1(X1*Av) Opb,2 B * Opu,2(X2*Bv) ... Opb,i I * Opu,i(Xi*Iv) ...Opb,n N * Opu,n(Xn*Nv)_\n",
    "\n",
    "- n: Problem size\n",
    "- Xi: Variable of col i for each row data sample\n",
    "- A, B, ..I, ..N: costants positive or negative that works as weights for the single term\n",
    "- Av, Bv, ..Iv, ..Nv: positive constants that wights only the single variable \n",
    "- Opu,n(..): unary operators for one variable\n",
    "- Opb,n: binary operators between two terms\n",
    "\n",
    "If the fitness doesn't improve for a fixed number of generation a generic term is added, increasing the complexity to _(prev_n + 1)_ \n",
    "\n",
    "Example of formula expression for 2 variable problem:\n",
    "[\"1\", \"\", \"1\", \"X_0\", \"+\", \"0.2\", \"sin\",\"1\", \"X_1\", \"+\"]"
   ]
  },
  {
   "cell_type": "markdown",
   "metadata": {},
   "source": [
    "### Individual Generation"
   ]
  },
  {
   "cell_type": "code",
   "execution_count": 52,
   "metadata": {},
   "outputs": [],
   "source": [
    "def generate_coefficient(X,Y):\n",
    "    '''Generate a pseudo-random term coefficient according to inputs and outputs'''\n",
    "\n",
    "    X_mean = np.mean(X, axis=0)\n",
    "    X_std = np.std(X, axis=0)\n",
    "    X_standardized = (X - X_mean) / X_std\n",
    "\n",
    "    Y_mean = np.mean(Y)\n",
    "    Y_std = np.std(Y)\n",
    "    Y_standardized = (Y - Y_mean) / Y_std\n",
    "\n",
    "    # compute correlations between x and Y\n",
    "    correlations = np.corrcoef(X_standardized.T, Y_standardized)[:-1, -1]\n",
    "\n",
    "    initial_coefficients = correlations * (Y_std / X_std)\n",
    "\n",
    "    # Step 4: Generazione di valori casuali nel range\n",
    "    random_coefficients = rng.choice(rng.uniform(0, np.abs(initial_coefficients), 1000),1)[0]\n",
    "\n",
    "    if round(random_coefficients,4) != 0:\n",
    "        random_coefficients = round(random_coefficients,4)\n",
    "    return random_coefficients"
   ]
  },
  {
   "cell_type": "code",
   "execution_count": 53,
   "metadata": {},
   "outputs": [],
   "source": [
    "def new_term(individual_gen:List,n,x,y):\n",
    "    '''Generate a single term of the formula'''\n",
    "    # i = 3\n",
    "    var = rng.choice(VARIABLES,1 ,p=VARIABLES_WEIGHTS[0]) [0] \n",
    "    VARIABLES_WEIGHTS[0][VARIABLES_MAP[var]] = 0\n",
    "    if np.sum(VARIABLES_WEIGHTS[0]) == 0:\n",
    "        VARIABLES_WEIGHTS[0] = [1/len(VARIABLES) for _ in range(len(VARIABLES))]\n",
    "    else:\n",
    "        VARIABLES_WEIGHTS[0] /= np.sum(VARIABLES_WEIGHTS[0])\n",
    "\n",
    "    # i = 0\n",
    "    #costant = 1\n",
    "    costant = 1 if rng.random()<0.2 else generate_coefficient(x[int(var.split(\"_\")[1])],y)\n",
    "    if np.any(y<0) and rng.random()<0.5: costant*=-1\n",
    "    individual_gen.append(costant)\n",
    "\n",
    "    # i = 1\n",
    "    unary_op = \"\" if rng.random() < 0.2 else str(rng.choice(UNARY_OPERATORS,1,p=UNARY_OPERATORS_WEIGHTS[int(var.split(\"_\")[1])])[0])\n",
    "    individual_gen.append(unary_op)\n",
    "\n",
    "    # i = 2\n",
    "    var_costant = 1 # the costant that multiply the variable start from 1\n",
    "    individual_gen.append(var_costant)\n",
    "    individual_gen.append(var)\n",
    "\n",
    "    # i = 4\n",
    "    bin_op = rng.choice(BINARY_OPERATORS,1) if n !=0 else rng.choice([\"+\",\"-\"],1)\n",
    "    individual_gen.append(str(bin_op[0]))\n",
    "\n",
    "    return individual_gen"
   ]
  },
  {
   "cell_type": "code",
   "execution_count": 54,
   "metadata": {},
   "outputs": [],
   "source": [
    "def generate_individual(x,y)->Individual:\n",
    "    '''Generate a individual term by term'''\n",
    "    individual_gen = []\n",
    "    VARIABLES_WEIGHTS[0] = [1/len(VARIABLES) for _ in range(len(VARIABLES))]\n",
    "    depth = rng.choice(PROBLEM_COMPLEXITIES,1,p=PROBLEM_COMPLEXITIES_WEIGHTS)[0]\n",
    "    for n in range(depth):\n",
    "\n",
    "        individual_gen = new_term(individual_gen,n,x,y)\n",
    "\n",
    "    mse, _, right_sign, count, _ = compute_FX(individual_gen,x,y,PROBLEM_SIZE)    \n",
    "    return Individual(individual_gen,(right_sign,-mse,count))"
   ]
  },
  {
   "cell_type": "markdown",
   "metadata": {},
   "source": [
    "### Genetic selection"
   ]
  },
  {
   "cell_type": "code",
   "execution_count": 55,
   "metadata": {},
   "outputs": [],
   "source": [
    "def parent_selection(population):\n",
    "    '''Select 2 parents with a ranked based selection, with a fitness hole based on right-sign count'''\n",
    "    # parent selection by rank, using a half fitness hole to prevent overfitting\n",
    "    # e.g. first individual with rank 0 will have higher probability to be chosen\n",
    "    rank_probs = [(len(population)-i-1)/sum(range(len(population))) for i in range(len(population))]\n",
    "    \n",
    "    if rng.random()<0.7:\n",
    "        # best by mse (population is already sorted by mse)\n",
    "        candidates = rng.choice(population, 5, replace=False, p = rank_probs)\n",
    "    else:\n",
    "        # best by right-sign count\n",
    "        best_by_right_sign = sorted(population, key=lambda i: i.fitness[2], reverse=True)\n",
    "        candidates = rng.choice(best_by_right_sign, 5, replace=False, p= rank_probs)\n",
    "    \n",
    "    selected_parents = rng.choice(candidates, 2, replace=False)\n",
    "\n",
    "    return selected_parents"
   ]
  },
  {
   "cell_type": "code",
   "execution_count": 56,
   "metadata": {},
   "outputs": [],
   "source": [
    "def survival_selection(population):\n",
    "    '''Survival selection based on rank with fitness hole based on right-sign count'''\n",
    "    # Rank based selection + fitness hole based on right-sign count\n",
    "    new_population = []\n",
    "    new_genomes = []\n",
    "    for i in range(POPULATION_SIZE//NUM_TOURNAMENTS):\n",
    "        if population[i].genome not in new_genomes:\n",
    "            new_population.append(population[i])\n",
    "            new_genomes.append(population[i].genome)\n",
    "            if len(new_population) == (POPULATION_SIZE//NUM_TOURNAMENTS)//1.5:\n",
    "                break\n",
    "    population = sorted(population,key=lambda x : x.fitness[2],reverse=True)\n",
    "    for i in range(POPULATION_SIZE//NUM_TOURNAMENTS):\n",
    "        if population[i].genome not in new_genomes:\n",
    "            new_population.append(population[i])\n",
    "            new_genomes.append(population[i].genome)\n",
    "            if len(new_population) == POPULATION_SIZE//NUM_TOURNAMENTS:\n",
    "                break\n",
    "    \n",
    "    return new_population\n"
   ]
  },
  {
   "cell_type": "markdown",
   "metadata": {},
   "source": [
    "### Genetic transformations"
   ]
  },
  {
   "cell_type": "code",
   "execution_count": 57,
   "metadata": {},
   "outputs": [],
   "source": [
    "def xover(p1: Individual, p2: Individual, x, y) -> Individual:\n",
    "    ''' Exchange terms between two individuals '''\n",
    "    # Divide genomes into blocks\n",
    "    blocks1 = [p1.genome[i:i + 5] for i in range(0, len(p1.genome), 5)]\n",
    "    blocks2 = [p2.genome[i:i + 5] for i in range(0, len(p2.genome), 5)]\n",
    "    if len(blocks2) >= len(blocks1):\n",
    "        child_genome = p1.genome.copy()\n",
    "    else:\n",
    "        child_genome = p2.genome.copy()\n",
    "    \n",
    "    new_fitness = ()\n",
    "    right_sign = p1.fitness[0] or p2.fitness[0]\n",
    "\n",
    "    rep_factor = 0\n",
    "    while rep_factor<0.5:\n",
    "        sync_factor = 0.03 if right_sign else 0.01\n",
    "        # Select random blocks to exchange\n",
    "        xover_blocks = rng.choice(range(len(blocks2)), rng.integers(0.5, len(blocks2)), replace=False)\n",
    "\n",
    "        # Exchange blocks\n",
    "        for b_i in xover_blocks:\n",
    "            i_xo = np.where(np.array(blocks1)==blocks2[b_i][3])[0]\n",
    "            i_xo = rng.choice(i_xo,1)[0]\n",
    "            blocks1[i_xo] = blocks2[b_i]\n",
    "\n",
    "        # Rebuild child genome\n",
    "        child_genome = [elem for block in blocks1 for elem in block]\n",
    "\n",
    "        # Evaluate fitness\n",
    "        new_mse, _, right_sign, count, _ = compute_FX(child_genome, x, y,PROBLEM_SIZE)\n",
    "        new_fitness = (right_sign, -new_mse, count)\n",
    "\n",
    "        # Update weights based on fitness\n",
    "        if new_fitness > p1.fitness or new_fitness > p2.fitness:\n",
    "            update_weights(child_genome, sync_factor, increase=True)\n",
    "            break\n",
    "        else:\n",
    "            update_weights(child_genome, sync_factor, increase=False)\n",
    "\n",
    "        rep_factor = rng.random()\n",
    "\n",
    "    return Individual(child_genome, new_fitness)\n"
   ]
  },
  {
   "cell_type": "code",
   "execution_count": 58,
   "metadata": {},
   "outputs": [],
   "source": [
    "def mutation(p: Individual, mutation_factor: float ,x, y) :\n",
    "    ''' Mutate terms of one individual '''\n",
    "    child_genome = p.genome.copy()\n",
    "    new_fitness = ()\n",
    "    blocks = [child_genome[i:i + 5] for i in range(0, len(child_genome), 5)]\n",
    "    right_sign = p.fitness[0]\n",
    "    rep_factor=0\n",
    "    \n",
    "    while rep_factor<0.6:\n",
    "        sync_factor = 0.05 if right_sign else 0.01\n",
    "        # Define mutation probabilities\n",
    "        mutation_probs = np.array([0.2, 0.3, 0.2, 0, 0.3]) if right_sign else np.array([0.25, 0.25, 0.25, 0, 0.25])\n",
    "\n",
    "        # Select random blocks to mutate\n",
    "        if len(blocks) == 1:\n",
    "            mutate_blocks = [0]\n",
    "        else:\n",
    "            mutate_blocks = rng.choice(range(len(blocks)), rng.integers(1, len(blocks)), replace=False)\n",
    "\n",
    "        for b_i in mutate_blocks:\n",
    "            # Mutate elements in the block\n",
    "            elems = rng.choice(5, size=rng.integers(1, 5), p=mutation_probs)\n",
    "            n_var = int(blocks[b_i][3].split(\"_\")[1])\n",
    "\n",
    "            for e_i in elems:\n",
    "                if e_i == 0:\n",
    "                    #blocks[b_i][e_i] *= mutation_factor #if blocks[b_i][e_i] < 1e4 else rng.random()\n",
    "                    blocks[b_i][e_i] = tune_constant(b_i,0,p.fitness,blocks,x,y,PROBLEM_SIZE)\n",
    "                    if not right_sign: blocks[b_i][e_i]*=-1\n",
    "                elif e_i == 1:\n",
    "                    new_unary_op = \"\" if rng.random() < 0.15 else str(rng.choice(UNARY_OPERATORS,1,p=UNARY_OPERATORS_WEIGHTS[n_var])[0])\n",
    "                    blocks[b_i][2] = mutation_unary_coeff(blocks[b_i][e_i],blocks[b_i][2],new_unary_op != blocks[b_i][e_i])\n",
    "\n",
    "                    blocks[b_i][e_i] = new_unary_op\n",
    "                    blocks[b_i][0] = tune_constant(b_i,0,p.fitness,blocks,x,y,PROBLEM_SIZE)\n",
    "                 \n",
    "                elif e_i == 2 and blocks[b_i][1] not in [\"arccos\",\"arcsin\",\"arctan\"]:\n",
    "                    blocks[b_i][e_i] = mutation_unary_coeff(blocks[b_i][1],blocks[b_i][e_i])\n",
    "\n",
    "                elif e_i == 4:\n",
    "                    new_bin_op = rng.choice(BINARY_OPERATORS,1,p=BINARY_OPERATORS_WEIGHTS[n_var]) if b_i !=0 else rng.choice([\"+\",\"-\"],1)\n",
    "                    blocks[b_i][e_i] = str(new_bin_op[0])  \n",
    "                else:\n",
    "                    continue\n",
    "\n",
    "        # Rebuild genome and compute fitness\n",
    "        child_genome = [elem for block in blocks for elem in block]\n",
    "        new_mse, increase, right_sign, count, inc_factor = compute_FX(child_genome, x, y, PROBLEM_SIZE)\n",
    "        new_fitness = (right_sign, -new_mse, count)\n",
    "\n",
    "        if new_fitness > p.fitness:\n",
    "            update_weights(child_genome, sync_factor, increase=True)\n",
    "            break\n",
    "        else:\n",
    "            update_weights(child_genome, sync_factor, increase=False)\n",
    "\n",
    "        rep_factor = rng.random()\n",
    "\n",
    "    return Individual(child_genome, new_fitness), mutation_factor"
   ]
  },
  {
   "cell_type": "markdown",
   "metadata": {},
   "source": [
    "### GENETIC ALGORITHM"
   ]
  },
  {
   "cell_type": "code",
   "execution_count": 59,
   "metadata": {},
   "outputs": [],
   "source": [
    "def EA_resolution(num_generations, population,x,y):\n",
    "    history = []\n",
    "    mutation_factor = 1\n",
    "    n_no_improvement = 0\n",
    "    #terms_added = 0\n",
    "    champion = population[0]\n",
    "    for i in range(num_generations):\n",
    "\n",
    "        offspring = list()\n",
    "\n",
    "        for _ in range(OFFSPRING_SIZE):\n",
    "            \n",
    "            p1,p2 = parent_selection(population)\n",
    "            \n",
    "            if rng.random() <0.1 and not champion.fitness[0]:\n",
    "                o = xover(p1,p2,x,y)\n",
    "            else:\n",
    "                o,mutation_factor = mutation(p1,mutation_factor,x,y)\n",
    "\n",
    "            offspring.append(o)\n",
    "\n",
    "        population.extend(offspring)\n",
    "\n",
    "        population = sorted(population, key=lambda i: i.fitness,reverse=True)\n",
    "        population = survival_selection(population)\n",
    "\n",
    "        if population[0].fitness > champion.fitness:\n",
    "            champion = population[0]\n",
    "            n_no_improvement = 0\n",
    "        else:\n",
    "            n_no_improvement += 1\n",
    "\n",
    "        if n_no_improvement > INCREASE_COMPLEXITY_STEP:\n",
    "            print(\"Early stopping, not finding better solutions\")\n",
    "            break\n",
    "        elif n_no_improvement == int(INCREASE_COMPLEXITY_STEP//2):\n",
    "            # reset weights to prevent overfitting\n",
    "            print(\"Reset weights\")\n",
    "            for i in range(PROBLEM_SIZE):\n",
    "                UNARY_OPERATORS_WEIGHTS[i] = compute_unary_weights(UNARY_OPERATORS,i,DATA,LABELS) \n",
    "                BINARY_OPERATORS_WEIGHTS[i] = [1/len(BINARY_OPERATORS) for _ in BINARY_OPERATORS]\n",
    "\n",
    "        history.append(population[0])\n",
    "\n",
    "        if i % 250 == 0 and i!= 0:\n",
    "            print(f\"\\t\\tBest individual found at iteration {i}:\")\n",
    "            print(f\"\\t\\t\\t{champion.genome}\")\n",
    "            print(f\"\\t\\t\\t{champion.fitness}\")\n",
    "        \n",
    "        if -champion.fitness[1]<1e-30:\n",
    "            print(f\"\\t\\t\\tEarly stopping: Near Solution Found\")\n",
    "            break\n",
    "\n",
    "    return champion, history, population"
   ]
  },
  {
   "cell_type": "markdown",
   "metadata": {},
   "source": [
    "## TOURNAMENTS LOOP\n",
    "\n",
    "The tournament loop aim is to generate N strong different individual for the initial population of the main genetic loop. <br>\n",
    "Each turnament will have different initial population and different data to be trained.<br>\n",
    "The number of generation is small in order to avoid overfitting on the given data, and provide a fast initial population generation."
   ]
  },
  {
   "cell_type": "code",
   "execution_count": 60,
   "metadata": {},
   "outputs": [
    {
     "name": "stdout",
     "output_type": "stream",
     "text": [
      "Winner of Tounament n 1/40:\n",
      "\t Individual(genome=[-11.3907, 'abs', 1.1, np.str_('X_0'), '-', np.float64(-0.16915078125000002), 'tan', np.float64(0.5682), np.str_('X_1'), '+', np.float64(0.018984375), 'exp', np.float64(-0.7905700000000001), np.str_('X_1'), '*', np.float64(0.22409999999999997), 'exp', np.float64(1.0173), np.str_('X_0'), '/'], fitness=(np.True_, np.float64(-121574.57512364577), np.int64(125)))\n",
      "Winner of Tounament n 2/40:\n",
      "\t Individual(genome=[np.float64(1.2541), 'exp', 1.2100000000000002, np.str_('X_0'), '+', np.float64(0.42095478515625), 'exp', 1.1, np.str_('X_1'), '*', np.float64(-2.399), 'exp', 1, np.str_('X_0'), '-', np.float64(-0.207594140625), 'abs', 1.1, np.str_('X_1'), '-'], fitness=(np.True_, np.float64(-23868.82164020426), np.int64(125)))\n",
      "Winner of Tounament n 3/40:\n",
      "\t Individual(genome=[np.float64(-1.5718), '', np.float64(-0.8041902000000001), np.str_('X_0'), '+', 7.5938, 'sin', 1, np.str_('X_1'), '*', -11.3907, 'abs', np.float64(0.8546), np.str_('X_0'), '-'], fitness=(np.True_, np.float64(-19380.050011364343), np.int64(125)))\n",
      "Winner of Tounament n 4/40:\n",
      "\t Individual(genome=[np.float64(3.6038), 'abs', np.float64(-1.4279100000000002), np.str_('X_0'), '+', -7.5938, 'abs', 1.1, np.str_('X_1'), '-', np.float64(-0.5133), 'exp', 1.2100000000000002, np.str_('X_0'), '+'], fitness=(np.True_, np.float64(-46984.76927656907), np.int64(125)))\n",
      "Winner of Tounament n 5/40:\n",
      "\t Individual(genome=[np.float64(-0.15206484375), '', 1.2100000000000002, np.str_('X_1'), '-', np.float64(-0.9886), 'reciprocal', 1, np.str_('X_0'), '-', np.float64(0.0942), 'reciprocal', 1, np.str_('X_0'), '/', np.float64(-0.07821562500000001), 'cos', 1, np.str_('X_1'), '+'], fitness=(np.True_, np.float64(-31991.297000279337), np.int64(125)))\n",
      "Winner of Tounament n 6/40:\n",
      "\t Individual(genome=[11.3907, 'abs', 1.4641000000000006, np.str_('X_1'), '+', np.float64(0.7355), 'abs', np.float64(1.2485000000000002), np.str_('X_0'), '*'], fitness=(np.True_, np.float64(-112392.17743663743), np.int64(125)))\n",
      "Winner of Tounament n 7/40:\n",
      "\t Individual(genome=[np.float64(0.057824999999999994), 'reciprocal', 1, np.str_('X_0'), '-', 17.0861, 'abs', 1, np.str_('X_1'), '+', np.float64(0.5821), 'exp', 1, np.str_('X_0'), '*', np.float64(0.0253125), 'exp', np.float64(1.3767), np.str_('X_1'), '*', -7.5938, 'abs', 1.2100000000000002, np.str_('X_0'), '-'], fitness=(np.True_, np.float64(-28360.612410470545), np.int64(125)))\n",
      "Winner of Tounament n 8/40:\n",
      "\t Individual(genome=[-7.5938, 'exp', np.float64(-1.0229079608246767), np.str_('X_0'), '-', 3.375, 'exp', 1.1, np.str_('X_1'), '/'], fitness=(np.True_, np.float64(-47001.37735751117), np.int64(125)))\n",
      "Winner of Tounament n 9/40:\n",
      "\t Individual(genome=[np.float64(0.054674999999999994), '', 1, np.str_('X_1'), '+', np.float64(2.1118), 'exp', np.float64(-1.0767547758000005), np.str_('X_0'), '+', 2.25, 'exp', np.float64(1.8214130000000004), np.str_('X_1'), '/'], fitness=(np.True_, np.float64(-139864.96292256133), np.int64(125)))\n",
      "Winner of Tounament n 10/40:\n",
      "\t Individual(genome=[11.3907, '', 1.3310000000000004, np.str_('X_1'), '+', np.float64(1.9635), 'tan', np.float64(0.6931), np.str_('X_0'), '+', np.float64(0.7893), 'arctan', 1, np.str_('X_0'), '*', 7.5938, 'abs', np.float64(-1.4030500000000001), np.str_('X_1'), '+'], fitness=(np.True_, np.float64(-35976.080383902736), np.int64(125)))\n",
      "Winner of Tounament n 11/40:\n",
      "\t Individual(genome=[2.25, 'sin', np.float64(1.0907), np.str_('X_0'), '+', np.float64(0.010799999999999999), 'arctan', np.float64(-0.4213), np.str_('X_1'), '-', np.float64(0.2494546875), 'reciprocal', 1, np.str_('X_0'), '/'], fitness=(np.True_, np.float64(-47283.18081596286), np.int64(125)))\n",
      "Winner of Tounament n 12/40:\n",
      "\t Individual(genome=[np.float64(0.045056250000000006), 'exp', np.float64(-0.09108000000000001), np.str_('X_1'), '+', np.float64(0.10785), 'exp', 1, np.str_('X_0'), '/', -2.25, 'exp', 1.1, np.str_('X_1'), '/', np.float64(0.15626249999999997), 'cos', np.float64(-0.5693), np.str_('X_0'), '-', -1.5, 'exp', 1.3310000000000004, np.str_('X_0'), '/'], fitness=(np.True_, np.float64(-42441.969735159386), np.int64(125)))\n",
      "Winner of Tounament n 13/40:\n",
      "\t Individual(genome=[11.3907, 'abs', np.float64(-1.2469), np.str_('X_1'), '+', np.float64(0.6234), 'abs', 1.2100000000000002, np.str_('X_0'), '*'], fitness=(np.True_, np.float64(-32051.96944968978), np.int64(125)))\n",
      "Winner of Tounament n 14/40:\n",
      "\t Individual(genome=[-17.0861, 'exp', 1, np.str_('X_0'), '-', np.float64(0.15206484375), 'abs', 1.1, np.str_('X_1'), '*', np.float64(0.7085), 'exp', np.float64(-2.642460387600002), np.str_('X_0'), '*'], fitness=(np.True_, np.float64(-54948.47383824341), np.int64(125)))\n",
      "Winner of Tounament n 15/40:\n",
      "\t Individual(genome=[np.float64(0.2511), 'abs', np.float64(-2.121188080000001), np.str_('X_0'), '+', 11.3907, 'abs', 1.4641000000000006, np.str_('X_1'), '*'], fitness=(np.True_, np.float64(-24073.12654329786), np.int64(125)))\n",
      "Winner of Tounament n 16/40:\n",
      "\t Individual(genome=[np.float64(2.4795), 'abs', np.float64(-4.025727985815942), np.str_('X_0'), '+', np.float64(0.3805892578125), 'exp', 1.2100000000000002, np.str_('X_1'), '*'], fitness=(np.True_, np.float64(-48339.56896623872), np.int64(125)))\n",
      "Winner of Tounament n 17/40:\n",
      "\t Individual(genome=[np.float64(0.08234999999999999), 'abs', np.float64(-0.6532790000000002), np.str_('X_0'), '+', np.float64(0.014175), 'exp', np.float64(1.2217328860000005), np.str_('X_1'), '+', np.float64(0.0212625), 'exp', np.float64(1.6307145800000005), np.str_('X_1'), '/'], fitness=(np.True_, np.float64(-114818.6743171487), np.int64(125)))\n",
      "Winner of Tounament n 18/40:\n",
      "\t Individual(genome=[-7.5938, 'exp', 1.771561000000001, np.str_('X_1'), '-', np.float64(0.09015000000000001), 'exp', 1.3310000000000004, np.str_('X_0'), '*'], fitness=(np.True_, np.float64(-80700.15684306939), np.int64(125)))\n",
      "Winner of Tounament n 19/40:\n",
      "\t Individual(genome=[np.float64(0.45916875), 'cos', np.float64(-0.041), np.str_('X_0'), '+', 1.5, 'reciprocal', 1, np.str_('X_1'), '/', np.float64(0.0591), 'reciprocal', 1, np.str_('X_0'), '/', 7.5938, 'abs', 1.4641000000000006, np.str_('X_1'), '+'], fitness=(np.True_, np.float64(-65403.017120629156), np.int64(125)))\n",
      "Winner of Tounament n 20/40:\n",
      "\t Individual(genome=[np.float64(0.006075), 'sin', np.float64(-1.4514), np.str_('X_1'), '+', np.float64(0.1278), 'tan', np.float64(-0.7109), np.str_('X_0'), '-', np.float64(0.13839609375), 'exp', 1, np.str_('X_1'), '/', np.float64(-0.546), 'abs', 1.3310000000000004, np.str_('X_0'), '/', -2.25, 'exp', np.float64(1.0786600000000002), np.str_('X_0'), '-', -5.0625, 'abs', 1, np.str_('X_1'), '-'], fitness=(np.True_, np.float64(-65376.21387467343), np.int64(125)))\n",
      "Winner of Tounament n 21/40:\n",
      "\t Individual(genome=[np.float64(-7.8237), 'abs', 1.3310000000000004, np.str_('X_0'), '-', np.float64(0.5795), 'abs', 1.2100000000000002, np.str_('X_1'), '*'], fitness=(np.True_, np.float64(-16623.36104998435), np.int64(125)))\n",
      "Winner of Tounament n 22/40:\n",
      "\t Individual(genome=[np.float64(-0.08713828124999998), '', np.float64(1.331), np.str_('X_1'), '-', np.float64(0.08960625), 'arctan', 1, np.str_('X_0'), '-', np.float64(4.717), 'exp', 1, np.str_('X_0'), '+', np.float64(-0.03290625), '', np.float64(-1.3828100000000003), np.str_('X_1'), '*', 2.25, 'abs', np.float64(1.0264672000000004), np.str_('X_1'), '+', 5.0625, 'abs', 1.2100000000000002, np.str_('X_0'), '*'], fitness=(np.True_, np.float64(-52220.148797377195), np.int64(125)))\n",
      "Winner of Tounament n 23/40:\n",
      "\t Individual(genome=[np.float64(0.11846249999999998), 'exp', np.float64(-0.6655000000000002), np.str_('X_1'), '+', np.float64(0.0921), 'exp', 1.6105100000000008, np.str_('X_0'), '/'], fitness=(np.True_, np.float64(-74331.40947759067), np.int64(125)))\n",
      "Winner of Tounament n 24/40:\n",
      "\t Individual(genome=[np.float64(0.16312499999999996), 'exp', 1.4641000000000006, np.str_('X_0'), '+', 11.3907, 'exp', 1.3310000000000004, np.str_('X_1'), '*'], fitness=(np.True_, np.float64(-53997.80349076582), np.int64(125)))\n",
      "Winner of Tounament n 25/40:\n",
      "\t Individual(genome=[np.float64(0.0019499999999999997), 'exp', 1.2100000000000002, np.str_('X_1'), '-', 3.375, 'cos', np.float64(-0.5909), np.str_('X_0'), '*', -0.24494266617052946, 'exp', 1.1, np.str_('X_0'), '-', np.float64(6.1101), 'exp', 1.1, np.str_('X_1'), '*'], fitness=(np.True_, np.float64(-19160.602982776483), np.int64(125)))\n",
      "Winner of Tounament n 26/40:\n",
      "\t Individual(genome=[np.float64(0.01729951171875), 'exp', np.float64(0.7149890000000001), np.str_('X_1'), '-', np.float64(13.4298), '', np.float64(1.0348), np.str_('X_0'), '-', np.float64(-0.8391), 'arctan', 1, np.str_('X_1'), '*', 7.5938, 'abs', np.float64(1.7221930000000003), np.str_('X_0'), '+'], fitness=(np.True_, np.float64(-102701.90784096306), np.int64(125)))\n",
      "Winner of Tounament n 27/40:\n",
      "\t Individual(genome=[np.float64(0.02176875), '', 1.771561000000001, np.str_('X_1'), '+', np.float64(0.010575000000000001), 'reciprocal', 1, np.str_('X_0'), '/', np.float64(0.041006249999999994), 'sin', 1, np.str_('X_1'), '+', 5.0625, 'abs', 1.4641000000000006, np.str_('X_0'), '+'], fitness=(np.True_, np.float64(-18171.672618964603), np.int64(125)))\n",
      "Winner of Tounament n 28/40:\n",
      "\t Individual(genome=[-5.0625, 'abs', 1, np.str_('X_1'), '-', np.float64(-0.9111), 'exp', np.float64(-1.080046), np.str_('X_0'), '-', np.float64(1.064), '', 1, np.str_('X_1'), '-'], fitness=(np.True_, np.float64(-9969.286505690421), np.int64(125)))\n",
      "Winner of Tounament n 29/40:\n",
      "\t Individual(genome=[np.float64(-0.02075625), 'abs', np.float64(1.4217500000000003), np.str_('X_0'), '-', np.float64(0.0171), 'exp', np.float64(1.3519), np.str_('X_1'), '/', np.float64(0.6743), 'abs', np.float64(1.1033604010000004), np.str_('X_0'), '*'], fitness=(np.True_, np.float64(-32073.040857299), np.int64(125)))\n",
      "Winner of Tounament n 30/40:\n",
      "\t Individual(genome=[np.float64(0.337340478515625), 'exp', np.float64(1.9137690330000003), np.str_('X_1'), '+', -7.5938, 'exp', 1, np.str_('X_0'), '-', np.float64(0.1393875), 'abs', 1.1, np.str_('X_0'), '+'], fitness=(np.True_, np.float64(-107341.81840130282), np.int64(125)))\n",
      "Winner of Tounament n 31/40:\n",
      "\t Individual(genome=[np.float64(5.0685), '', 1.2100000000000002, np.str_('X_0'), '-', np.float64(-0.0990984375), 'exp', 1.1, np.str_('X_1'), '*', np.float64(-4.9998), 'abs', 1.1, np.str_('X_0'), '-'], fitness=(np.True_, np.float64(-7964.70091101186), np.int64(125)))\n",
      "Winner of Tounament n 32/40:\n",
      "\t Individual(genome=[np.float64(0.05011875), 'arctan', np.float64(-1.29), np.str_('X_1'), '+', np.float64(0.543), 'exp', 1, np.str_('X_0'), '+', 5.0625, 'exp', 1.1, np.str_('X_1'), '*'], fitness=(np.True_, np.float64(-22555.489604198036), np.int64(125)))\n",
      "Winner of Tounament n 33/40:\n",
      "\t Individual(genome=[np.float64(-0.8217), 'abs', 1, np.str_('X_1'), '-', 7.5938, 'abs', 1.2100000000000002, np.str_('X_0'), '*'], fitness=(np.True_, np.float64(-12030.793246949082), np.int64(125)))\n",
      "Winner of Tounament n 34/40:\n",
      "\t Individual(genome=[7.5938, 'abs', np.float64(-0.6619), np.str_('X_0'), '-', np.float64(-0.09482695312500003), 'exp', np.float64(2.334595296000001), np.str_('X_1'), '*'], fitness=(np.True_, np.float64(-30612.60938346745), np.int64(125)))\n",
      "Winner of Tounament n 35/40:\n",
      "\t Individual(genome=[np.float64(-2.0606), 'exp', 2.5937424601000023, np.str_('X_0'), '-', np.float64(0.05695312500000001), 'exp', np.float64(1.51074), np.str_('X_1'), '*'], fitness=(np.True_, np.float64(-95736.096494016), np.int64(125)))\n",
      "Winner of Tounament n 36/40:\n",
      "\t Individual(genome=[np.float64(-0.7526), 'abs', 1.2100000000000002, np.str_('X_1'), '+', -3.375, 'abs', 2.1435888100000016, np.str_('X_0'), '*'], fitness=(np.True_, np.float64(-13029.440782533955), np.int64(125)))\n",
      "Winner of Tounament n 37/40:\n",
      "\t Individual(genome=[np.float64(-0.7444), 'abs', 1.2100000000000002, np.str_('X_1'), '-', np.float64(6.5133), 'abs', 1.2100000000000002, np.str_('X_0'), '*'], fitness=(np.True_, np.float64(-14585.214513650566), np.int64(125)))\n",
      "Winner of Tounament n 38/40:\n",
      "\t Individual(genome=[-3.375, 'exp', 1.771561000000001, np.str_('X_1'), '-', np.float64(0.10800000000000003), 'exp', 1.6105100000000008, np.str_('X_0'), '*'], fitness=(np.True_, np.float64(-47859.55802288083), np.int64(125)))\n",
      "Winner of Tounament n 39/40:\n",
      "\t Individual(genome=[np.float64(0.31185), 'exp', 1.2100000000000002, np.str_('X_0'), '+', 7.5938, 'exp', 1.2100000000000002, np.str_('X_1'), '*'], fitness=(np.True_, np.float64(-42580.29686918662), np.int64(125)))\n",
      "Winner of Tounament n 40/40:\n",
      "\t Individual(genome=[np.float64(0.186525), 'sin', np.float64(1.0804), np.str_('X_0'), '+', 1.0, 'exp', 1.4641000000000006, np.str_('X_1'), '/', np.float64(0.1089), 'reciprocal', 1, np.str_('X_0'), '/'], fitness=(np.True_, np.float64(-26135.963611410294), np.int64(125)))\n",
      "New fitness winner 1\n",
      "(np.False_, np.float64(-66606.95313874295), np.int64(4979))\n",
      "New fitness winner 2\n",
      "(np.True_, np.float64(-65851.25620802144), np.int64(5000))\n",
      "New fitness winner 3\n",
      "(np.True_, np.float64(-54235.10352800265), np.int64(5000))\n",
      "New fitness winner 4\n",
      "(np.False_, np.float64(-66818.74730752989), np.int64(4996))\n",
      "New fitness winner 5\n",
      "(np.True_, np.float64(-65532.47464947422), np.int64(5000))\n",
      "New fitness winner 6\n",
      "(np.True_, np.float64(-64231.48393640392), np.int64(5000))\n",
      "New fitness winner 7\n",
      "(np.False_, np.float64(-60379.66492936429), np.int64(4995))\n",
      "New fitness winner 8\n",
      "(np.True_, np.float64(-63295.11464452105), np.int64(5000))\n",
      "New fitness winner 9\n",
      "(np.True_, np.float64(-75639.19252336385), np.int64(5000))\n",
      "New fitness winner 10\n",
      "(np.True_, np.float64(-51336.38690772529), np.int64(5000))\n",
      "New fitness winner 11\n",
      "(np.False_, np.float64(-68680.47267745015), np.int64(4997))\n",
      "New fitness winner 12\n",
      "(np.True_, np.float64(-65265.79132730705), np.int64(5000))\n",
      "New fitness winner 13\n",
      "(np.True_, np.float64(-60879.3791132753), np.int64(5000))\n",
      "New fitness winner 14\n",
      "(np.True_, np.float64(-75377.26280091764), np.int64(5000))\n",
      "New fitness winner 15\n",
      "(np.True_, np.float64(-61591.36796557139), np.int64(5000))\n",
      "New fitness winner 16\n",
      "(np.True_, np.float64(-71813.8327225128), np.int64(5000))\n",
      "New fitness winner 17\n",
      "(np.True_, np.float64(-85362.53921345143), np.int64(5000))\n",
      "New fitness winner 18\n",
      "(np.True_, np.float64(-69001.97054636429), np.int64(5000))\n",
      "New fitness winner 19\n",
      "(np.True_, np.float64(-54996.95086766513), np.int64(5000))\n",
      "New fitness winner 20\n",
      "(np.False_, np.float64(-87406.76203779555), np.int64(4971))\n",
      "New fitness winner 21\n",
      "(np.True_, np.float64(-63143.426021592284), np.int64(5000))\n",
      "New fitness winner 22\n",
      "(np.True_, np.float64(-55531.144000000786), np.int64(5000))\n",
      "New fitness winner 23\n",
      "(np.True_, np.float64(-64710.40735951716), np.int64(5000))\n",
      "New fitness winner 24\n",
      "(np.True_, np.float64(-132852.21564737245), np.int64(5000))\n",
      "New fitness winner 25\n",
      "(np.False_, np.float64(-60274.353625894946), np.int64(4996))\n",
      "New fitness winner 26\n",
      "(np.False_, np.float64(-53626.649991222046), np.int64(4997))\n",
      "New fitness winner 27\n",
      "(np.False_, np.float64(-58953.45698875655), np.int64(4985))\n",
      "New fitness winner 28\n",
      "(np.True_, np.float64(-69699.68374122102), np.int64(5000))\n",
      "New fitness winner 29\n",
      "(np.True_, np.float64(-71309.17166947831), np.int64(5000))\n",
      "New fitness winner 30\n",
      "(np.True_, np.float64(-87064.08570260492), np.int64(5000))\n",
      "New fitness winner 31\n",
      "(np.True_, np.float64(-67676.64601773891), np.int64(5000))\n",
      "New fitness winner 32\n",
      "(np.True_, np.float64(-63629.601847823236), np.int64(5000))\n",
      "New fitness winner 33\n",
      "(np.True_, np.float64(-62842.046602178845), np.int64(5000))\n",
      "New fitness winner 34\n",
      "(np.True_, np.float64(-71865.76853062489), np.int64(5000))\n",
      "New fitness winner 35\n",
      "(np.True_, np.float64(-69762.9915971037), np.int64(5000))\n",
      "New fitness winner 36\n",
      "(np.True_, np.float64(-64128.517766746685), np.int64(5000))\n",
      "New fitness winner 37\n",
      "(np.True_, np.float64(-63405.768248687), np.int64(5000))\n",
      "New fitness winner 38\n",
      "(np.True_, np.float64(-60895.58388417648), np.int64(5000))\n",
      "New fitness winner 39\n",
      "(np.True_, np.float64(-80648.08696826646), np.int64(5000))\n",
      "New fitness winner 40\n",
      "(np.True_, np.float64(-71589.87392786196), np.int64(5000))\n"
     ]
    }
   ],
   "source": [
    "POPULATION = [generate_individual(DATA,LABELS) for _ in range(POPULATION_SIZE)]\n",
    "POPULATION = sorted(POPULATION,key= lambda x : x.fitness)\n",
    "winners = []\n",
    "histories = []\n",
    "for i in range(NUM_TOURNAMENTS):\n",
    "    TOURNAMENT_POP = POPULATION[(POPULATION_SIZE//NUM_TOURNAMENTS)*i:(POPULATION_SIZE//NUM_TOURNAMENTS)*(i+1)]\n",
    "    TOURNAMENT_DATA = DATA[:,(DATA.shape[1]//NUM_TOURNAMENTS)*i:(DATA.shape[1]//NUM_TOURNAMENTS)*(i+1)]\n",
    "    TOURNAMENT_LABELS = LABELS[(DATA.shape[1]//NUM_TOURNAMENTS)*i:(DATA.shape[1]//NUM_TOURNAMENTS)*(i+1)]\n",
    "\n",
    "    winner, history, _ = EA_resolution(TOURNAMENT_GENERATIONS,TOURNAMENT_POP,TOURNAMENT_DATA,TOURNAMENT_LABELS)\n",
    "    print(f\"Winner of Tounament n {i+1}/{NUM_TOURNAMENTS}:\\n\\t {winner}\")\n",
    "    for i in range(PROBLEM_SIZE):\n",
    "        UNARY_OPERATORS_WEIGHTS[i] = compute_unary_weights(UNARY_OPERATORS,i,DATA,LABELS) \n",
    "        BINARY_OPERATORS_WEIGHTS[i] = [1/len(BINARY_OPERATORS) for _ in BINARY_OPERATORS]\n",
    "    winners.append(winner)\n",
    "    histories.append(history)\n",
    "\n",
    "# Synch winners fitnesses with all data\n",
    "for i,w in enumerate(winners):\n",
    "    mse, _, right_sign, count_right_sign, _ = compute_FX(w.genome, DATA,LABELS, PROBLEM_SIZE)\n",
    "    w.fitness = (right_sign, -mse, count_right_sign)\n",
    "    print(f\"New fitness winner {i+1}\")\n",
    "    print(w.fitness)"
   ]
  },
  {
   "cell_type": "markdown",
   "metadata": {},
   "source": [
    "# MAIN LOOP\n",
    "\n",
    "The main loop start with a good population in terms of fitness. \n",
    "Thanks to the diversity of the population should learn the best traits from the tournaments winner.\n",
    "The number of generation is high"
   ]
  },
  {
   "cell_type": "code",
   "execution_count": 61,
   "metadata": {},
   "outputs": [
    {
     "name": "stdout",
     "output_type": "stream",
     "text": [
      "Generating new competitors\n",
      "[Individual(genome=[-11.3907, 'abs', 1.1, np.str_('X_0'), '-', np.float64(-0.16915078125000002), 'tan', np.float64(0.5682), np.str_('X_1'), '+', np.float64(0.018984375), 'exp', np.float64(-0.7905700000000001), np.str_('X_1'), '*', np.float64(0.22409999999999997), 'exp', np.float64(1.0173), np.str_('X_0'), '/'], fitness=(np.False_, np.float64(-66606.95313874295), np.int64(4979))), Individual(genome=[np.float64(1.2541), 'exp', 1.2100000000000002, np.str_('X_0'), '+', np.float64(0.42095478515625), 'exp', 1.1, np.str_('X_1'), '*', np.float64(-2.399), 'exp', 1, np.str_('X_0'), '-', np.float64(-0.207594140625), 'abs', 1.1, np.str_('X_1'), '-'], fitness=(np.True_, np.float64(-65851.25620802144), np.int64(5000))), Individual(genome=[np.float64(-1.5718), '', np.float64(-0.8041902000000001), np.str_('X_0'), '+', 7.5938, 'sin', 1, np.str_('X_1'), '*', -11.3907, 'abs', np.float64(0.8546), np.str_('X_0'), '-'], fitness=(np.True_, np.float64(-54235.10352800265), np.int64(5000))), Individual(genome=[np.float64(3.6038), 'abs', np.float64(-1.4279100000000002), np.str_('X_0'), '+', -7.5938, 'abs', 1.1, np.str_('X_1'), '-', np.float64(-0.5133), 'exp', 1.2100000000000002, np.str_('X_0'), '+'], fitness=(np.False_, np.float64(-66818.74730752989), np.int64(4996))), Individual(genome=[np.float64(-0.15206484375), '', 1.2100000000000002, np.str_('X_1'), '-', np.float64(-0.9886), 'reciprocal', 1, np.str_('X_0'), '-', np.float64(0.0942), 'reciprocal', 1, np.str_('X_0'), '/', np.float64(-0.07821562500000001), 'cos', 1, np.str_('X_1'), '+'], fitness=(np.True_, np.float64(-65532.47464947422), np.int64(5000))), Individual(genome=[11.3907, 'abs', 1.4641000000000006, np.str_('X_1'), '+', np.float64(0.7355), 'abs', np.float64(1.2485000000000002), np.str_('X_0'), '*'], fitness=(np.True_, np.float64(-64231.48393640392), np.int64(5000))), Individual(genome=[np.float64(0.057824999999999994), 'reciprocal', 1, np.str_('X_0'), '-', 17.0861, 'abs', 1, np.str_('X_1'), '+', np.float64(0.5821), 'exp', 1, np.str_('X_0'), '*', np.float64(0.0253125), 'exp', np.float64(1.3767), np.str_('X_1'), '*', -7.5938, 'abs', 1.2100000000000002, np.str_('X_0'), '-'], fitness=(np.False_, np.float64(-60379.66492936429), np.int64(4995))), Individual(genome=[-7.5938, 'exp', np.float64(-1.0229079608246767), np.str_('X_0'), '-', 3.375, 'exp', 1.1, np.str_('X_1'), '/'], fitness=(np.True_, np.float64(-63295.11464452105), np.int64(5000))), Individual(genome=[np.float64(0.054674999999999994), '', 1, np.str_('X_1'), '+', np.float64(2.1118), 'exp', np.float64(-1.0767547758000005), np.str_('X_0'), '+', 2.25, 'exp', np.float64(1.8214130000000004), np.str_('X_1'), '/'], fitness=(np.True_, np.float64(-75639.19252336385), np.int64(5000))), Individual(genome=[11.3907, '', 1.3310000000000004, np.str_('X_1'), '+', np.float64(1.9635), 'tan', np.float64(0.6931), np.str_('X_0'), '+', np.float64(0.7893), 'arctan', 1, np.str_('X_0'), '*', 7.5938, 'abs', np.float64(-1.4030500000000001), np.str_('X_1'), '+'], fitness=(np.True_, np.float64(-51336.38690772529), np.int64(5000))), Individual(genome=[2.25, 'sin', np.float64(1.0907), np.str_('X_0'), '+', np.float64(0.010799999999999999), 'arctan', np.float64(-0.4213), np.str_('X_1'), '-', np.float64(0.2494546875), 'reciprocal', 1, np.str_('X_0'), '/'], fitness=(np.False_, np.float64(-68680.47267745015), np.int64(4997))), Individual(genome=[np.float64(0.045056250000000006), 'exp', np.float64(-0.09108000000000001), np.str_('X_1'), '+', np.float64(0.10785), 'exp', 1, np.str_('X_0'), '/', -2.25, 'exp', 1.1, np.str_('X_1'), '/', np.float64(0.15626249999999997), 'cos', np.float64(-0.5693), np.str_('X_0'), '-', -1.5, 'exp', 1.3310000000000004, np.str_('X_0'), '/'], fitness=(np.True_, np.float64(-65265.79132730705), np.int64(5000))), Individual(genome=[11.3907, 'abs', np.float64(-1.2469), np.str_('X_1'), '+', np.float64(0.6234), 'abs', 1.2100000000000002, np.str_('X_0'), '*'], fitness=(np.True_, np.float64(-60879.3791132753), np.int64(5000))), Individual(genome=[-17.0861, 'exp', 1, np.str_('X_0'), '-', np.float64(0.15206484375), 'abs', 1.1, np.str_('X_1'), '*', np.float64(0.7085), 'exp', np.float64(-2.642460387600002), np.str_('X_0'), '*'], fitness=(np.True_, np.float64(-75377.26280091764), np.int64(5000))), Individual(genome=[np.float64(0.2511), 'abs', np.float64(-2.121188080000001), np.str_('X_0'), '+', 11.3907, 'abs', 1.4641000000000006, np.str_('X_1'), '*'], fitness=(np.True_, np.float64(-61591.36796557139), np.int64(5000))), Individual(genome=[np.float64(2.4795), 'abs', np.float64(-4.025727985815942), np.str_('X_0'), '+', np.float64(0.3805892578125), 'exp', 1.2100000000000002, np.str_('X_1'), '*'], fitness=(np.True_, np.float64(-71813.8327225128), np.int64(5000))), Individual(genome=[np.float64(0.08234999999999999), 'abs', np.float64(-0.6532790000000002), np.str_('X_0'), '+', np.float64(0.014175), 'exp', np.float64(1.2217328860000005), np.str_('X_1'), '+', np.float64(0.0212625), 'exp', np.float64(1.6307145800000005), np.str_('X_1'), '/'], fitness=(np.True_, np.float64(-85362.53921345143), np.int64(5000))), Individual(genome=[-7.5938, 'exp', 1.771561000000001, np.str_('X_1'), '-', np.float64(0.09015000000000001), 'exp', 1.3310000000000004, np.str_('X_0'), '*'], fitness=(np.True_, np.float64(-69001.97054636429), np.int64(5000))), Individual(genome=[np.float64(0.45916875), 'cos', np.float64(-0.041), np.str_('X_0'), '+', 1.5, 'reciprocal', 1, np.str_('X_1'), '/', np.float64(0.0591), 'reciprocal', 1, np.str_('X_0'), '/', 7.5938, 'abs', 1.4641000000000006, np.str_('X_1'), '+'], fitness=(np.True_, np.float64(-54996.95086766513), np.int64(5000))), Individual(genome=[np.float64(0.006075), 'sin', np.float64(-1.4514), np.str_('X_1'), '+', np.float64(0.1278), 'tan', np.float64(-0.7109), np.str_('X_0'), '-', np.float64(0.13839609375), 'exp', 1, np.str_('X_1'), '/', np.float64(-0.546), 'abs', 1.3310000000000004, np.str_('X_0'), '/', -2.25, 'exp', np.float64(1.0786600000000002), np.str_('X_0'), '-', -5.0625, 'abs', 1, np.str_('X_1'), '-'], fitness=(np.False_, np.float64(-87406.76203779555), np.int64(4971))), Individual(genome=[np.float64(-7.8237), 'abs', 1.3310000000000004, np.str_('X_0'), '-', np.float64(0.5795), 'abs', 1.2100000000000002, np.str_('X_1'), '*'], fitness=(np.True_, np.float64(-63143.426021592284), np.int64(5000))), Individual(genome=[np.float64(-0.08713828124999998), '', np.float64(1.331), np.str_('X_1'), '-', np.float64(0.08960625), 'arctan', 1, np.str_('X_0'), '-', np.float64(4.717), 'exp', 1, np.str_('X_0'), '+', np.float64(-0.03290625), '', np.float64(-1.3828100000000003), np.str_('X_1'), '*', 2.25, 'abs', np.float64(1.0264672000000004), np.str_('X_1'), '+', 5.0625, 'abs', 1.2100000000000002, np.str_('X_0'), '*'], fitness=(np.True_, np.float64(-55531.144000000786), np.int64(5000))), Individual(genome=[np.float64(0.11846249999999998), 'exp', np.float64(-0.6655000000000002), np.str_('X_1'), '+', np.float64(0.0921), 'exp', 1.6105100000000008, np.str_('X_0'), '/'], fitness=(np.True_, np.float64(-64710.40735951716), np.int64(5000))), Individual(genome=[np.float64(0.16312499999999996), 'exp', 1.4641000000000006, np.str_('X_0'), '+', 11.3907, 'exp', 1.3310000000000004, np.str_('X_1'), '*'], fitness=(np.True_, np.float64(-132852.21564737245), np.int64(5000))), Individual(genome=[np.float64(0.0019499999999999997), 'exp', 1.2100000000000002, np.str_('X_1'), '-', 3.375, 'cos', np.float64(-0.5909), np.str_('X_0'), '*', -0.24494266617052946, 'exp', 1.1, np.str_('X_0'), '-', np.float64(6.1101), 'exp', 1.1, np.str_('X_1'), '*'], fitness=(np.False_, np.float64(-60274.353625894946), np.int64(4996))), Individual(genome=[np.float64(0.01729951171875), 'exp', np.float64(0.7149890000000001), np.str_('X_1'), '-', np.float64(13.4298), '', np.float64(1.0348), np.str_('X_0'), '-', np.float64(-0.8391), 'arctan', 1, np.str_('X_1'), '*', 7.5938, 'abs', np.float64(1.7221930000000003), np.str_('X_0'), '+'], fitness=(np.False_, np.float64(-53626.649991222046), np.int64(4997))), Individual(genome=[np.float64(0.02176875), '', 1.771561000000001, np.str_('X_1'), '+', np.float64(0.010575000000000001), 'reciprocal', 1, np.str_('X_0'), '/', np.float64(0.041006249999999994), 'sin', 1, np.str_('X_1'), '+', 5.0625, 'abs', 1.4641000000000006, np.str_('X_0'), '+'], fitness=(np.False_, np.float64(-58953.45698875655), np.int64(4985))), Individual(genome=[-5.0625, 'abs', 1, np.str_('X_1'), '-', np.float64(-0.9111), 'exp', np.float64(-1.080046), np.str_('X_0'), '-', np.float64(1.064), '', 1, np.str_('X_1'), '-'], fitness=(np.True_, np.float64(-69699.68374122102), np.int64(5000))), Individual(genome=[np.float64(-0.02075625), 'abs', np.float64(1.4217500000000003), np.str_('X_0'), '-', np.float64(0.0171), 'exp', np.float64(1.3519), np.str_('X_1'), '/', np.float64(0.6743), 'abs', np.float64(1.1033604010000004), np.str_('X_0'), '*'], fitness=(np.True_, np.float64(-71309.17166947831), np.int64(5000))), Individual(genome=[np.float64(0.337340478515625), 'exp', np.float64(1.9137690330000003), np.str_('X_1'), '+', -7.5938, 'exp', 1, np.str_('X_0'), '-', np.float64(0.1393875), 'abs', 1.1, np.str_('X_0'), '+'], fitness=(np.True_, np.float64(-87064.08570260492), np.int64(5000))), Individual(genome=[np.float64(5.0685), '', 1.2100000000000002, np.str_('X_0'), '-', np.float64(-0.0990984375), 'exp', 1.1, np.str_('X_1'), '*', np.float64(-4.9998), 'abs', 1.1, np.str_('X_0'), '-'], fitness=(np.True_, np.float64(-67676.64601773891), np.int64(5000))), Individual(genome=[np.float64(0.05011875), 'arctan', np.float64(-1.29), np.str_('X_1'), '+', np.float64(0.543), 'exp', 1, np.str_('X_0'), '+', 5.0625, 'exp', 1.1, np.str_('X_1'), '*'], fitness=(np.True_, np.float64(-63629.601847823236), np.int64(5000))), Individual(genome=[np.float64(-0.8217), 'abs', 1, np.str_('X_1'), '-', 7.5938, 'abs', 1.2100000000000002, np.str_('X_0'), '*'], fitness=(np.True_, np.float64(-62842.046602178845), np.int64(5000))), Individual(genome=[7.5938, 'abs', np.float64(-0.6619), np.str_('X_0'), '-', np.float64(-0.09482695312500003), 'exp', np.float64(2.334595296000001), np.str_('X_1'), '*'], fitness=(np.True_, np.float64(-71865.76853062489), np.int64(5000))), Individual(genome=[np.float64(-2.0606), 'exp', 2.5937424601000023, np.str_('X_0'), '-', np.float64(0.05695312500000001), 'exp', np.float64(1.51074), np.str_('X_1'), '*'], fitness=(np.True_, np.float64(-69762.9915971037), np.int64(5000))), Individual(genome=[np.float64(-0.7526), 'abs', 1.2100000000000002, np.str_('X_1'), '+', -3.375, 'abs', 2.1435888100000016, np.str_('X_0'), '*'], fitness=(np.True_, np.float64(-64128.517766746685), np.int64(5000))), Individual(genome=[np.float64(-0.7444), 'abs', 1.2100000000000002, np.str_('X_1'), '-', np.float64(6.5133), 'abs', 1.2100000000000002, np.str_('X_0'), '*'], fitness=(np.True_, np.float64(-63405.768248687), np.int64(5000))), Individual(genome=[-3.375, 'exp', 1.771561000000001, np.str_('X_1'), '-', np.float64(0.10800000000000003), 'exp', 1.6105100000000008, np.str_('X_0'), '*'], fitness=(np.True_, np.float64(-60895.58388417648), np.int64(5000))), Individual(genome=[np.float64(0.31185), 'exp', 1.2100000000000002, np.str_('X_0'), '+', 7.5938, 'exp', 1.2100000000000002, np.str_('X_1'), '*'], fitness=(np.True_, np.float64(-80648.08696826646), np.int64(5000))), Individual(genome=[np.float64(0.186525), 'sin', np.float64(1.0804), np.str_('X_0'), '+', 1.0, 'exp', 1.4641000000000006, np.str_('X_1'), '/', np.float64(0.1089), 'reciprocal', 1, np.str_('X_0'), '/'], fitness=(np.True_, np.float64(-71589.87392786196), np.int64(5000)))]\n",
      "Starting final Tournament\n",
      "\t\tBest individual found at iteration 250:\n",
      "\t\t\t[np.float64(1.4889), 'cos', 1, np.str_('X_1'), '-', np.float64(0.453631640625), 'reciprocal', 1, np.str_('X_0'), '/', np.float64(10.6133), '', 1.2100000000000002, np.str_('X_0'), '+', np.float64(-0.049359375000000004), '', np.float64(-1.8405201100000008), np.str_('X_1'), '*', 2.25, 'abs', np.float64(1.1291139200000004), np.str_('X_1'), '+', 5.0625, 'abs', 1, np.str_('X_0'), '*']\n",
      "\t\t\t(np.True_, np.float64(-42120.69622180982), np.int64(5000))\n",
      "\t\tBest individual found at iteration 500:\n",
      "\t\t\t[np.float64(-3.35), '', np.float64(0.9301270000000003), np.str_('X_1'), '+', np.float64(3.4446), 'cos', np.float64(0.9827), np.str_('X_0'), '*', np.float64(10.6133), '', 1.2100000000000002, np.str_('X_0'), '+', np.float64(-0.049359375000000004), '', np.float64(-1.8405201100000008), np.str_('X_1'), '*', 2.25, 'abs', np.float64(1.0264672000000004), np.str_('X_1'), '+', 5.0625, 'abs', 1.1, np.str_('X_0'), '*']\n",
      "\t\t\t(np.True_, np.float64(-40654.075699430825), np.int64(5000))\n",
      "Reset weights\n",
      "\t\tBest individual found at iteration 750:\n",
      "\t\t\t[np.float64(-3.35), '', np.float64(0.9301270000000003), np.str_('X_1'), '+', np.float64(3.4446), 'cos', np.float64(0.9827), np.str_('X_0'), '*', np.float64(10.6133), '', 1.2100000000000002, np.str_('X_0'), '+', np.float64(-0.049359375000000004), '', np.float64(-1.8405201100000008), np.str_('X_1'), '*', 2.25, 'abs', np.float64(1.0264672000000004), np.str_('X_1'), '+', 5.0625, 'abs', 1.1, np.str_('X_0'), '*']\n",
      "\t\t\t(np.True_, np.float64(-40654.075699430825), np.int64(5000))\n",
      "Early stopping, not finding better solutions\n",
      "Winner of Final Tounament : Individual(genome=[np.float64(-3.35), '', np.float64(0.9301270000000003), np.str_('X_1'), '+', np.float64(3.4446), 'cos', np.float64(0.9827), np.str_('X_0'), '*', np.float64(10.6133), '', 1.2100000000000002, np.str_('X_0'), '+', np.float64(-0.049359375000000004), '', np.float64(-1.8405201100000008), np.str_('X_1'), '*', 2.25, 'abs', np.float64(1.0264672000000004), np.str_('X_1'), '+', 5.0625, 'abs', 1.1, np.str_('X_0'), '*'], fitness=(np.True_, np.float64(-40654.075699430825), np.int64(5000)))\n"
     ]
    }
   ],
   "source": [
    "print(\"Generating new competitors\")\n",
    "NEW_POPULATION = []\n",
    "NEW_POPULATION.extend(winners)\n",
    "print(NEW_POPULATION)\n",
    "\n",
    "print(\"Starting final Tournament\")\n",
    "winner, history, _ = EA_resolution(MAX_GENERATIONS,NEW_POPULATION,DATA,LABELS)\n",
    "print(f\"Winner of Final Tounament : {winner}\")"
   ]
  },
  {
   "cell_type": "markdown",
   "metadata": {},
   "source": [
    "## WINNER TUNING\n",
    "\n",
    "The last step consists in tuning randomly the costant of the winner according to the fitness in order to find a better solution"
   ]
  },
  {
   "cell_type": "code",
   "execution_count": 62,
   "metadata": {},
   "outputs": [],
   "source": [
    "def fine_tune_winner(winner: Individual, x, y):\n",
    "    \n",
    "    best_genome = winner.genome.copy()\n",
    "    best_fitness = winner.fitness\n",
    "    blocks = [best_genome[i:i + 5] for i in range(0, len(best_genome), 5)]\n",
    "    n_no_inc = 0\n",
    "\n",
    "    # tuning each costant\n",
    "    def tune_constant(index,term, curr_genome, curr_fitness):\n",
    "        mutation_factor = 1.002\n",
    "        improve = True\n",
    "        direction_changed = False\n",
    "        while improve:\n",
    "\n",
    "            blocks[index][term] *= mutation_factor  # Modify costant\n",
    "            if round(blocks[index][term])!=0: \n",
    "                blocks[index][term] = round(blocks[index][term],4)\n",
    "            new_genome = [elem for block in blocks for elem in block]\n",
    "            new_mse, new_increase, right_sign, count, _ = compute_FX(new_genome, x, y, PROBLEM_SIZE)\n",
    "            new_fitness = (right_sign, -new_mse, count)\n",
    "            # Aggiorna la soluzione migliore\n",
    "            if new_fitness > curr_fitness:\n",
    "                curr_fitness = new_fitness\n",
    "                curr_genome = new_genome\n",
    "                mutation_factor/=mutation_factor\n",
    "            else:\n",
    "                blocks[index][term] /= mutation_factor  # revert change\n",
    "                if not direction_changed:\n",
    "                    direction_changed = True\n",
    "                    mutation_factor = 0.998 # try to explore backward\n",
    "                else: \n",
    "                    improve = False\n",
    "        \n",
    "        return curr_genome,curr_fitness\n",
    "\n",
    "    # Fine-tuning for costants\n",
    "    for i in tqdm(range(50000)):\n",
    "\n",
    "        idxs = rng.choice(len(blocks),rng.integers(0.5,len(blocks)))\n",
    "\n",
    "        for idx in idxs:\n",
    "            if rng.random()<0.5:\n",
    "                new_genome, new_fitness = tune_constant(idx,0, best_genome, best_fitness)  \n",
    "            else:\n",
    "                new_genome, new_fitness = tune_constant(idx,2, best_genome, best_fitness)\n",
    "        \n",
    "            if new_fitness > best_fitness:\n",
    "                best_fitness = new_fitness\n",
    "                best_genome = new_genome\n",
    "                n_no_inc = 0\n",
    "            else:\n",
    "                n_no_inc += 1\n",
    "\n",
    "        if i % 5000 == 0 and i != 0:\n",
    "            print(best_genome)\n",
    "            print(best_fitness)\n",
    "\n",
    "        if n_no_inc > 1000:\n",
    "            print(\"Early stopping\")\n",
    "            break\n",
    "\n",
    "    print(\"New best fitness:\", best_fitness)\n",
    "    print(\"New best genome:\", best_genome)\n",
    "    return Individual(best_genome, best_fitness)\n"
   ]
  },
  {
   "cell_type": "code",
   "execution_count": 63,
   "metadata": {},
   "outputs": [
    {
     "name": "stdout",
     "output_type": "stream",
     "text": [
      "initial best\n",
      "(np.True_, np.float64(-40654.075699430825), np.int64(5000))\n"
     ]
    },
    {
     "name": "stderr",
     "output_type": "stream",
     "text": [
      "  1%|          | 472/50000 [00:00<00:57, 860.64it/s]"
     ]
    },
    {
     "name": "stdout",
     "output_type": "stream",
     "text": [
      "Early stopping\n",
      "New best fitness: (np.True_, np.float64(-40608.25803521758), np.int64(5000))\n",
      "New best genome: [np.float64(-3.35), '', np.float64(0.9319639278557115), np.str_('X_1'), '+', np.float64(3.4445891783567135), 'cos', np.float64(1.0005), np.str_('X_0'), '*', np.float64(10.676953907815632), '', 1.2148296593186372, np.str_('X_0'), '+', np.float64(-0.049359375000000004), '', np.float64(-1.8404809619238476), np.str_('X_1'), '*', 2.245490981963928, 'abs', np.float64(1.0264529058116232), np.str_('X_1'), '+', 4.992084168336674, 'abs', 1.0889779559118236, np.str_('X_0'), '*']\n"
     ]
    },
    {
     "name": "stderr",
     "output_type": "stream",
     "text": [
      "\n"
     ]
    }
   ],
   "source": [
    "print(\"initial best\")\n",
    "print(winner.fitness)\n",
    "w = fine_tune_winner(winner,DATA,LABELS)"
   ]
  },
  {
   "cell_type": "code",
   "execution_count": 64,
   "metadata": {},
   "outputs": [
    {
     "name": "stdout",
     "output_type": "stream",
     "text": [
      "Final Formula:\n",
      "((((((-3.35 * 0.9319639278557115 * x[1]) * (3.4445891783567135 * np.cos(1.0005 * x[0]))) + (10.676953907815632 * 1.2148296593186372 * x[0])) * (-0.049359375000000004 * -1.8404809619238476 * x[1])) + (2.245490981963928 * np.abs(1.0264529058116232 * x[1]))) * (4.992084168336674 * np.abs(1.0889779559118236 * x[0])))\n",
      "Final MSE:\n",
      "39806.14429962908\n"
     ]
    }
   ],
   "source": [
    "from importlib import reload\n",
    "import utilities\n",
    "reload(utilities)\n",
    "\n",
    "mse, _, _, _, _ = compute_FX(w.genome,X,Y,PROBLEM_SIZE, True)\n",
    "formula = w.genome.copy()\n",
    "print(\"Final Formula:\")\n",
    "print(utilities.convert_formula(formula))\n",
    "print(\"Final MSE:\")\n",
    "print(mse)\n"
   ]
  },
  {
   "cell_type": "markdown",
   "metadata": {},
   "source": [
    "## Winner Visualization"
   ]
  },
  {
   "cell_type": "code",
   "execution_count": 65,
   "metadata": {},
   "outputs": [
    {
     "data": {
      "image/png": "[encoded data removed]",
      "text/plain": [
       "<IPython.core.display.Image object>"
      ]
     },
     "metadata": {},
     "output_type": "display_data"
    }
   ],
   "source": [
    "from importlib import reload\n",
    "import visualization\n",
    "import graphviz\n",
    "from IPython.display import Image, display\n",
    "reload(visualization)\n",
    "\n",
    "graph = visualization.create_formula_graph(w.genome)\n",
    "img = graph.pipe(\"png\")\n",
    "display(Image(img))"
   ]
  },
  {
   "cell_type": "code",
   "execution_count": 66,
   "metadata": {},
   "outputs": [
    {
     "data": {
      "text/plain": [
       "Text(0, 0.5, 'Count')"
      ]
     },
     "execution_count": 66,
     "metadata": {},
     "output_type": "execute_result"
    },
    {
     "data": {
      "image/png": "[encoded data removed]",
      "text/plain": [
       "<Figure size 1400x800 with 1 Axes>"
      ]
     },
     "metadata": {},
     "output_type": "display_data"
    }
   ],
   "source": [
    "#from itertools import accumulate\n",
    "from matplotlib import pyplot as plt\n",
    "\n",
    "costs = [sol.fitness[1] for sol in history]\n",
    "#Plot\n",
    "plt.figure(figsize=(14, 8))             \n",
    "plt.title(\"mse improvment\")\n",
    "plt.grid()\n",
    "\n",
    "plt.scatter(range(len(costs)), costs, marker=\".\")\n",
    "\n",
    "plt.xlabel('Iteration')\n",
    "plt.ylabel('Count')"
   ]
  }
 ],
 "metadata": {
  "kernelspec": {
   "display_name": "CI2024_lab1",
   "language": "python",
   "name": "python3"
  },
  "language_info": {
   "codemirror_mode": {
    "name": "ipython",
    "version": 3
   },
   "file_extension": ".py",
   "mimetype": "text/x-python",
   "name": "python",
   "nbconvert_exporter": "python",
   "pygments_lexer": "ipython3",
   "version": "3.9.13"
  }
 },
 "nbformat": 4,
 "nbformat_minor": 2
}
